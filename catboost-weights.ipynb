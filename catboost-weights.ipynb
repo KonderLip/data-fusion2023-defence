{
 "cells": [
  {
   "cell_type": "markdown",
   "id": "a2a699f9",
   "metadata": {},
   "source": [
    "## Библиотеки"
   ]
  },
  {
   "cell_type": "code",
   "execution_count": 1,
   "id": "778f1914",
   "metadata": {},
   "outputs": [],
   "source": [
    "from catboost import CatBoostClassifier, Pool\n",
    "import numpy as np\n",
    "import pandas as pd\n",
    "import warnings"
   ]
  },
  {
   "cell_type": "code",
   "execution_count": 2,
   "id": "ae564736",
   "metadata": {},
   "outputs": [],
   "source": [
    "warnings.filterwarnings('ignore')"
   ]
  },
  {
   "cell_type": "markdown",
   "id": "d18d73c3",
   "metadata": {},
   "source": [
    "## Загрузка данных"
   ]
  },
  {
   "cell_type": "markdown",
   "id": "ced11456",
   "metadata": {},
   "source": [
    "Для обучения возьмём данные для задачи \"Атака\" и их атакованную версию"
   ]
  },
  {
   "cell_type": "code",
   "execution_count": 3,
   "id": "d21ba13f",
   "metadata": {},
   "outputs": [
    {
     "data": {
      "text/html": [
       "<div>\n",
       "<style scoped>\n",
       "    .dataframe tbody tr th:only-of-type {\n",
       "        vertical-align: middle;\n",
       "    }\n",
       "\n",
       "    .dataframe tbody tr th {\n",
       "        vertical-align: top;\n",
       "    }\n",
       "\n",
       "    .dataframe thead th {\n",
       "        text-align: right;\n",
       "    }\n",
       "</style>\n",
       "<table border=\"1\" class=\"dataframe\">\n",
       "  <thead>\n",
       "    <tr style=\"text-align: right;\">\n",
       "      <th></th>\n",
       "      <th>user_id</th>\n",
       "      <th>mcc_code</th>\n",
       "      <th>currency_rk</th>\n",
       "      <th>transaction_amt</th>\n",
       "      <th>transaction_dttm</th>\n",
       "    </tr>\n",
       "  </thead>\n",
       "  <tbody>\n",
       "    <tr>\n",
       "      <th>0</th>\n",
       "      <td>66</td>\n",
       "      <td>5812</td>\n",
       "      <td>48</td>\n",
       "      <td>-1842.949000</td>\n",
       "      <td>2021-05-17 11:30:42</td>\n",
       "    </tr>\n",
       "    <tr>\n",
       "      <th>1</th>\n",
       "      <td>66</td>\n",
       "      <td>4112</td>\n",
       "      <td>48</td>\n",
       "      <td>-283.283720</td>\n",
       "      <td>2021-05-17 12:59:02</td>\n",
       "    </tr>\n",
       "    <tr>\n",
       "      <th>2</th>\n",
       "      <td>66</td>\n",
       "      <td>5814</td>\n",
       "      <td>48</td>\n",
       "      <td>-73.820390</td>\n",
       "      <td>2021-05-17 14:04:09</td>\n",
       "    </tr>\n",
       "    <tr>\n",
       "      <th>3</th>\n",
       "      <td>66</td>\n",
       "      <td>4111</td>\n",
       "      <td>48</td>\n",
       "      <td>10.971557</td>\n",
       "      <td>2021-05-17 15:03:10</td>\n",
       "    </tr>\n",
       "    <tr>\n",
       "      <th>4</th>\n",
       "      <td>66</td>\n",
       "      <td>7991</td>\n",
       "      <td>48</td>\n",
       "      <td>-214.796420</td>\n",
       "      <td>2021-05-17 15:33:43</td>\n",
       "    </tr>\n",
       "    <tr>\n",
       "      <th>...</th>\n",
       "      <td>...</td>\n",
       "      <td>...</td>\n",
       "      <td>...</td>\n",
       "      <td>...</td>\n",
       "      <td>...</td>\n",
       "    </tr>\n",
       "    <tr>\n",
       "      <th>1259995</th>\n",
       "      <td>868873</td>\n",
       "      <td>5533</td>\n",
       "      <td>48</td>\n",
       "      <td>-458.109830</td>\n",
       "      <td>2021-06-27 09:25:53</td>\n",
       "    </tr>\n",
       "    <tr>\n",
       "      <th>1259996</th>\n",
       "      <td>868873</td>\n",
       "      <td>5411</td>\n",
       "      <td>48</td>\n",
       "      <td>-257.352540</td>\n",
       "      <td>2021-06-29 07:00:31</td>\n",
       "    </tr>\n",
       "    <tr>\n",
       "      <th>1259997</th>\n",
       "      <td>868873</td>\n",
       "      <td>5921</td>\n",
       "      <td>48</td>\n",
       "      <td>-446.213780</td>\n",
       "      <td>2021-06-30 02:26:42</td>\n",
       "    </tr>\n",
       "    <tr>\n",
       "      <th>1259998</th>\n",
       "      <td>868873</td>\n",
       "      <td>5411</td>\n",
       "      <td>48</td>\n",
       "      <td>-261.241580</td>\n",
       "      <td>2021-06-30 11:34:35</td>\n",
       "    </tr>\n",
       "    <tr>\n",
       "      <th>1259999</th>\n",
       "      <td>868873</td>\n",
       "      <td>5533</td>\n",
       "      <td>48</td>\n",
       "      <td>-169.169570</td>\n",
       "      <td>2021-07-02 07:22:38</td>\n",
       "    </tr>\n",
       "  </tbody>\n",
       "</table>\n",
       "<p>1260000 rows × 5 columns</p>\n",
       "</div>"
      ],
      "text/plain": [
       "         user_id  mcc_code  currency_rk  transaction_amt     transaction_dttm\n",
       "0             66      5812           48     -1842.949000  2021-05-17 11:30:42\n",
       "1             66      4112           48      -283.283720  2021-05-17 12:59:02\n",
       "2             66      5814           48       -73.820390  2021-05-17 14:04:09\n",
       "3             66      4111           48        10.971557  2021-05-17 15:03:10\n",
       "4             66      7991           48      -214.796420  2021-05-17 15:33:43\n",
       "...          ...       ...          ...              ...                  ...\n",
       "1259995   868873      5533           48      -458.109830  2021-06-27 09:25:53\n",
       "1259996   868873      5411           48      -257.352540  2021-06-29 07:00:31\n",
       "1259997   868873      5921           48      -446.213780  2021-06-30 02:26:42\n",
       "1259998   868873      5411           48      -261.241580  2021-06-30 11:34:35\n",
       "1259999   868873      5533           48      -169.169570  2021-07-02 07:22:38\n",
       "\n",
       "[1260000 rows x 5 columns]"
      ]
     },
     "execution_count": 3,
     "metadata": {},
     "output_type": "execute_result"
    }
   ],
   "source": [
    "init_train = pd.read_csv('./data/sample_submission.csv')\\\n",
    ".sort_values(['user_id', 'transaction_dttm'], kind='stable')\n",
    "changed_train = pd.read_csv('./data/submit.csv', parse_dates=['transaction_dttm'])\\\n",
    ".sort_values(['user_id', 'transaction_dttm'], kind='stable')\n",
    "init_train"
   ]
  },
  {
   "cell_type": "markdown",
   "id": "4472a4d1",
   "metadata": {},
   "source": [
    "Валидировать будем на данных для дообучения и их атакованной версии"
   ]
  },
  {
   "cell_type": "code",
   "execution_count": 4,
   "id": "3dd0eb1b",
   "metadata": {},
   "outputs": [],
   "source": [
    "init_val = pd.read_csv('./data/transactions_finetune.csv')\\\n",
    ".sort_values(['user_id', 'transaction_dttm'], kind='stable')\n",
    "changed_val = pd.read_csv('./data/transactions_finetune_attacked.csv', parse_dates=['transaction_dttm'])\\\n",
    ".sort_values(['user_id', 'transaction_dttm'], kind='stable')"
   ]
  },
  {
   "cell_type": "markdown",
   "id": "ec6f90e3",
   "metadata": {},
   "source": [
    "## Создание датасета для обучения модели"
   ]
  },
  {
   "cell_type": "markdown",
   "id": "6a97ba9c",
   "metadata": {},
   "source": [
    "Таргетом будет: \"поменялась ли транзакция?\""
   ]
  },
  {
   "cell_type": "code",
   "execution_count": 5,
   "id": "e8dd7b0f",
   "metadata": {},
   "outputs": [],
   "source": [
    "def make_df(init, changed):\n",
    "    df = pd.DataFrame()\n",
    "    \n",
    "    # характеристика транзакции\n",
    "    df['transaction_amt'] = changed['transaction_amt']\n",
    "    df['mcc_code'] = changed['mcc_code']\n",
    "    df['currency_rk'] = changed['currency_rk']\n",
    "    \n",
    "    # временные признаки\n",
    "    df['year'] = changed.transaction_dttm.dt.year\n",
    "    df['month'] = changed.transaction_dttm.dt.month\n",
    "    df['day'] = changed.transaction_dttm.dt.day\n",
    "    df['hour'] = changed.transaction_dttm.dt.hour\n",
    "    \n",
    "    # общие для пользователя и mcc кода\n",
    "    df['amount_of_code'] = changed.groupby(['user_id', 'mcc_code']).transaction_dttm.transform('count')\n",
    "    df['mean_amt_of_code'] = changed.groupby(['user_id', 'mcc_code']).transaction_amt.transform('mean')\n",
    "    df['median_amt_of_code'] = changed.groupby(['user_id', 'mcc_code']).transaction_amt.transform('median')\n",
    "        \n",
    "    return df, (init != changed).any(axis=1)"
   ]
  },
  {
   "cell_type": "code",
   "execution_count": 6,
   "id": "765c421a",
   "metadata": {},
   "outputs": [
    {
     "data": {
      "text/html": [
       "<div>\n",
       "<style scoped>\n",
       "    .dataframe tbody tr th:only-of-type {\n",
       "        vertical-align: middle;\n",
       "    }\n",
       "\n",
       "    .dataframe tbody tr th {\n",
       "        vertical-align: top;\n",
       "    }\n",
       "\n",
       "    .dataframe thead th {\n",
       "        text-align: right;\n",
       "    }\n",
       "</style>\n",
       "<table border=\"1\" class=\"dataframe\">\n",
       "  <thead>\n",
       "    <tr style=\"text-align: right;\">\n",
       "      <th></th>\n",
       "      <th>transaction_amt</th>\n",
       "      <th>mcc_code</th>\n",
       "      <th>currency_rk</th>\n",
       "      <th>year</th>\n",
       "      <th>month</th>\n",
       "      <th>day</th>\n",
       "      <th>hour</th>\n",
       "      <th>amount_of_code</th>\n",
       "      <th>mean_amt_of_code</th>\n",
       "      <th>median_amt_of_code</th>\n",
       "    </tr>\n",
       "  </thead>\n",
       "  <tbody>\n",
       "    <tr>\n",
       "      <th>0</th>\n",
       "      <td>-1842.949000</td>\n",
       "      <td>5812</td>\n",
       "      <td>48</td>\n",
       "      <td>2021</td>\n",
       "      <td>5</td>\n",
       "      <td>17</td>\n",
       "      <td>11</td>\n",
       "      <td>6</td>\n",
       "      <td>-1143.749900</td>\n",
       "      <td>-1204.644750</td>\n",
       "    </tr>\n",
       "    <tr>\n",
       "      <th>1</th>\n",
       "      <td>-283.283720</td>\n",
       "      <td>4112</td>\n",
       "      <td>48</td>\n",
       "      <td>2021</td>\n",
       "      <td>5</td>\n",
       "      <td>17</td>\n",
       "      <td>12</td>\n",
       "      <td>6</td>\n",
       "      <td>-694.887507</td>\n",
       "      <td>-788.965030</td>\n",
       "    </tr>\n",
       "    <tr>\n",
       "      <th>2</th>\n",
       "      <td>-73.820390</td>\n",
       "      <td>5814</td>\n",
       "      <td>48</td>\n",
       "      <td>2021</td>\n",
       "      <td>5</td>\n",
       "      <td>17</td>\n",
       "      <td>14</td>\n",
       "      <td>54</td>\n",
       "      <td>-379.916185</td>\n",
       "      <td>-270.524305</td>\n",
       "    </tr>\n",
       "    <tr>\n",
       "      <th>3</th>\n",
       "      <td>10.971557</td>\n",
       "      <td>4111</td>\n",
       "      <td>48</td>\n",
       "      <td>2021</td>\n",
       "      <td>5</td>\n",
       "      <td>17</td>\n",
       "      <td>15</td>\n",
       "      <td>22</td>\n",
       "      <td>-35.465566</td>\n",
       "      <td>-16.682811</td>\n",
       "    </tr>\n",
       "    <tr>\n",
       "      <th>4</th>\n",
       "      <td>-3614.685300</td>\n",
       "      <td>6012</td>\n",
       "      <td>48</td>\n",
       "      <td>2021</td>\n",
       "      <td>5</td>\n",
       "      <td>17</td>\n",
       "      <td>15</td>\n",
       "      <td>5</td>\n",
       "      <td>-2939.488860</td>\n",
       "      <td>-2900.271700</td>\n",
       "    </tr>\n",
       "    <tr>\n",
       "      <th>...</th>\n",
       "      <td>...</td>\n",
       "      <td>...</td>\n",
       "      <td>...</td>\n",
       "      <td>...</td>\n",
       "      <td>...</td>\n",
       "      <td>...</td>\n",
       "      <td>...</td>\n",
       "      <td>...</td>\n",
       "      <td>...</td>\n",
       "      <td>...</td>\n",
       "    </tr>\n",
       "    <tr>\n",
       "      <th>1259995</th>\n",
       "      <td>-458.109830</td>\n",
       "      <td>5533</td>\n",
       "      <td>48</td>\n",
       "      <td>2021</td>\n",
       "      <td>6</td>\n",
       "      <td>27</td>\n",
       "      <td>9</td>\n",
       "      <td>95</td>\n",
       "      <td>-521.173062</td>\n",
       "      <td>-428.515440</td>\n",
       "    </tr>\n",
       "    <tr>\n",
       "      <th>1259996</th>\n",
       "      <td>-3140.378400</td>\n",
       "      <td>6012</td>\n",
       "      <td>48</td>\n",
       "      <td>2021</td>\n",
       "      <td>6</td>\n",
       "      <td>29</td>\n",
       "      <td>7</td>\n",
       "      <td>17</td>\n",
       "      <td>-3426.191951</td>\n",
       "      <td>-2647.306000</td>\n",
       "    </tr>\n",
       "    <tr>\n",
       "      <th>1259997</th>\n",
       "      <td>-446.213780</td>\n",
       "      <td>5921</td>\n",
       "      <td>48</td>\n",
       "      <td>2021</td>\n",
       "      <td>6</td>\n",
       "      <td>30</td>\n",
       "      <td>2</td>\n",
       "      <td>14</td>\n",
       "      <td>-547.353409</td>\n",
       "      <td>-455.396000</td>\n",
       "    </tr>\n",
       "    <tr>\n",
       "      <th>1259998</th>\n",
       "      <td>-183.486250</td>\n",
       "      <td>6012</td>\n",
       "      <td>48</td>\n",
       "      <td>2021</td>\n",
       "      <td>6</td>\n",
       "      <td>30</td>\n",
       "      <td>11</td>\n",
       "      <td>17</td>\n",
       "      <td>-3426.191951</td>\n",
       "      <td>-2647.306000</td>\n",
       "    </tr>\n",
       "    <tr>\n",
       "      <th>1259999</th>\n",
       "      <td>-169.169570</td>\n",
       "      <td>5533</td>\n",
       "      <td>48</td>\n",
       "      <td>2021</td>\n",
       "      <td>7</td>\n",
       "      <td>2</td>\n",
       "      <td>7</td>\n",
       "      <td>95</td>\n",
       "      <td>-521.173062</td>\n",
       "      <td>-428.515440</td>\n",
       "    </tr>\n",
       "  </tbody>\n",
       "</table>\n",
       "<p>1260000 rows × 10 columns</p>\n",
       "</div>"
      ],
      "text/plain": [
       "         transaction_amt  mcc_code  currency_rk  year  month  day  hour  \\\n",
       "0           -1842.949000      5812           48  2021      5   17    11   \n",
       "1            -283.283720      4112           48  2021      5   17    12   \n",
       "2             -73.820390      5814           48  2021      5   17    14   \n",
       "3              10.971557      4111           48  2021      5   17    15   \n",
       "4           -3614.685300      6012           48  2021      5   17    15   \n",
       "...                  ...       ...          ...   ...    ...  ...   ...   \n",
       "1259995      -458.109830      5533           48  2021      6   27     9   \n",
       "1259996     -3140.378400      6012           48  2021      6   29     7   \n",
       "1259997      -446.213780      5921           48  2021      6   30     2   \n",
       "1259998      -183.486250      6012           48  2021      6   30    11   \n",
       "1259999      -169.169570      5533           48  2021      7    2     7   \n",
       "\n",
       "         amount_of_code  mean_amt_of_code  median_amt_of_code  \n",
       "0                     6      -1143.749900        -1204.644750  \n",
       "1                     6       -694.887507         -788.965030  \n",
       "2                    54       -379.916185         -270.524305  \n",
       "3                    22        -35.465566          -16.682811  \n",
       "4                     5      -2939.488860        -2900.271700  \n",
       "...                 ...               ...                 ...  \n",
       "1259995              95       -521.173062         -428.515440  \n",
       "1259996              17      -3426.191951        -2647.306000  \n",
       "1259997              14       -547.353409         -455.396000  \n",
       "1259998              17      -3426.191951        -2647.306000  \n",
       "1259999              95       -521.173062         -428.515440  \n",
       "\n",
       "[1260000 rows x 10 columns]"
      ]
     },
     "execution_count": 6,
     "metadata": {},
     "output_type": "execute_result"
    }
   ],
   "source": [
    "X_train, y_train = make_df(init_train, changed_train)\n",
    "X_val, y_val = make_df(init_val, changed_val)\n",
    "\n",
    "X_train"
   ]
  },
  {
   "cell_type": "code",
   "execution_count": 7,
   "id": "0b1902d2",
   "metadata": {},
   "outputs": [],
   "source": [
    "# категориальные признаки\n",
    "cat_features = ['mcc_code', 'currency_rk']"
   ]
  },
  {
   "cell_type": "code",
   "execution_count": 8,
   "id": "ed6b2276",
   "metadata": {},
   "outputs": [],
   "source": [
    "train_pool = Pool(\n",
    "    data=X_train,\n",
    "    label=y_train,\n",
    "    cat_features=cat_features,\n",
    "    group_id=init_train.user_id\n",
    ")\n",
    "\n",
    "val_pool = Pool(\n",
    "    data=X_val,\n",
    "    label=y_val,\n",
    "    cat_features=cat_features,\n",
    "    group_id=init_val.user_id\n",
    ")"
   ]
  },
  {
   "cell_type": "markdown",
   "id": "d8bd829e",
   "metadata": {},
   "source": [
    "## Обучение модели"
   ]
  },
  {
   "cell_type": "code",
   "execution_count": 9,
   "id": "0343b2c9",
   "metadata": {},
   "outputs": [],
   "source": [
    "params = {\n",
    "    'task_type': 'CPU',\n",
    "    'eval_metric': 'AUC',\n",
    "    'custom_metric': ['F1', 'RecallAt:top=10'],\n",
    "    'iterations': 250\n",
    "}"
   ]
  },
  {
   "cell_type": "code",
   "execution_count": 10,
   "id": "5275afb6",
   "metadata": {},
   "outputs": [
    {
     "data": {
      "application/vnd.jupyter.widget-view+json": {
       "model_id": "cf22746a701f4a8a99c5ac2d7fcb853b",
       "version_major": 2,
       "version_minor": 0
      },
      "text/plain": [
       "MetricVisualizer(layout=Layout(align_self='stretch', height='500px'))"
      ]
     },
     "metadata": {},
     "output_type": "display_data"
    },
    {
     "data": {
      "text/plain": [
       "<catboost.core.CatBoostClassifier at 0x1c5186e4e20>"
      ]
     },
     "execution_count": 10,
     "metadata": {},
     "output_type": "execute_result"
    }
   ],
   "source": [
    "model_cb = CatBoostClassifier(**params, random_seed=56)\n",
    "model_cb.fit(train_pool, eval_set=val_pool, plot=True, verbose=False, use_best_model=True)"
   ]
  },
  {
   "cell_type": "code",
   "execution_count": 11,
   "id": "8bbe93cf",
   "metadata": {},
   "outputs": [
    {
     "data": {
      "text/html": [
       "<div>\n",
       "<style scoped>\n",
       "    .dataframe tbody tr th:only-of-type {\n",
       "        vertical-align: middle;\n",
       "    }\n",
       "\n",
       "    .dataframe tbody tr th {\n",
       "        vertical-align: top;\n",
       "    }\n",
       "\n",
       "    .dataframe thead th {\n",
       "        text-align: right;\n",
       "    }\n",
       "</style>\n",
       "<table border=\"1\" class=\"dataframe\">\n",
       "  <thead>\n",
       "    <tr style=\"text-align: right;\">\n",
       "      <th></th>\n",
       "      <th>Feature Id</th>\n",
       "      <th>Importances</th>\n",
       "    </tr>\n",
       "  </thead>\n",
       "  <tbody>\n",
       "    <tr>\n",
       "      <th>0</th>\n",
       "      <td>amount_of_code</td>\n",
       "      <td>30.264742</td>\n",
       "    </tr>\n",
       "    <tr>\n",
       "      <th>1</th>\n",
       "      <td>mcc_code</td>\n",
       "      <td>28.651270</td>\n",
       "    </tr>\n",
       "    <tr>\n",
       "      <th>2</th>\n",
       "      <td>transaction_amt</td>\n",
       "      <td>21.718420</td>\n",
       "    </tr>\n",
       "    <tr>\n",
       "      <th>3</th>\n",
       "      <td>median_amt_of_code</td>\n",
       "      <td>5.176546</td>\n",
       "    </tr>\n",
       "    <tr>\n",
       "      <th>4</th>\n",
       "      <td>year</td>\n",
       "      <td>4.833624</td>\n",
       "    </tr>\n",
       "    <tr>\n",
       "      <th>5</th>\n",
       "      <td>mean_amt_of_code</td>\n",
       "      <td>4.652465</td>\n",
       "    </tr>\n",
       "    <tr>\n",
       "      <th>6</th>\n",
       "      <td>month</td>\n",
       "      <td>2.567537</td>\n",
       "    </tr>\n",
       "    <tr>\n",
       "      <th>7</th>\n",
       "      <td>day</td>\n",
       "      <td>1.549759</td>\n",
       "    </tr>\n",
       "    <tr>\n",
       "      <th>8</th>\n",
       "      <td>hour</td>\n",
       "      <td>0.479879</td>\n",
       "    </tr>\n",
       "    <tr>\n",
       "      <th>9</th>\n",
       "      <td>currency_rk</td>\n",
       "      <td>0.105757</td>\n",
       "    </tr>\n",
       "  </tbody>\n",
       "</table>\n",
       "</div>"
      ],
      "text/plain": [
       "           Feature Id  Importances\n",
       "0      amount_of_code    30.264742\n",
       "1            mcc_code    28.651270\n",
       "2     transaction_amt    21.718420\n",
       "3  median_amt_of_code     5.176546\n",
       "4                year     4.833624\n",
       "5    mean_amt_of_code     4.652465\n",
       "6               month     2.567537\n",
       "7                 day     1.549759\n",
       "8                hour     0.479879\n",
       "9         currency_rk     0.105757"
      ]
     },
     "execution_count": 11,
     "metadata": {},
     "output_type": "execute_result"
    }
   ],
   "source": [
    "# важность признаков\n",
    "model_cb.get_feature_importance(prettified=True)"
   ]
  },
  {
   "cell_type": "code",
   "execution_count": 12,
   "id": "a1ee0985",
   "metadata": {},
   "outputs": [
    {
     "name": "stdout",
     "output_type": "stream",
     "text": [
      "0.9260665120410632 0.4904779221773499 0.5497140390996286\n"
     ]
    }
   ],
   "source": [
    "print(\n",
    "    np.max(model_cb.get_evals_result()['validation']['AUC']), \n",
    "    np.max(model_cb.get_evals_result()['validation']['F1']),\n",
    "    np.max(model_cb.get_evals_result()['validation']['RecallAt:top=10'])\n",
    ")"
   ]
  },
  {
   "cell_type": "code",
   "execution_count": 13,
   "id": "8e0924ed",
   "metadata": {},
   "outputs": [
    {
     "data": {
      "text/plain": [
       "array([0.99814175, 0.99940945, 0.99313051, ..., 0.89231627, 0.99856633,\n",
       "       0.7260762 ])"
      ]
     },
     "execution_count": 13,
     "metadata": {},
     "output_type": "execute_result"
    }
   ],
   "source": [
    "weights = model_cb.predict_proba(val_pool)[:,0]\n",
    "weights"
   ]
  },
  {
   "cell_type": "markdown",
   "id": "6fbc90ec",
   "metadata": {},
   "source": [
    "Теперь полученные веса можно использовать в\n",
    "\n",
    "transactions.sample(..., weights=weights)"
   ]
  }
 ],
 "metadata": {
  "kernelspec": {
   "display_name": "Python 3 (ipykernel)",
   "language": "python",
   "name": "python3"
  },
  "language_info": {
   "codemirror_mode": {
    "name": "ipython",
    "version": 3
   },
   "file_extension": ".py",
   "mimetype": "text/x-python",
   "name": "python",
   "nbconvert_exporter": "python",
   "pygments_lexer": "ipython3",
   "version": "3.9.12"
  },
  "widgets": {
   "application/vnd.jupyter.widget-state+json": {
    "state": {
     "0781835eeccd4555aab57b0c4f14e4d5": {
      "model_module": "@jupyter-widgets/base",
      "model_module_version": "1.2.0",
      "model_name": "LayoutModel",
      "state": {
       "align_self": "stretch",
       "height": "500px"
      }
     },
     "47590ab9648c4557b9a9dbe31ad9ca9f": {
      "model_module": "catboost-widget",
      "model_module_version": "^1.0.0",
      "model_name": "CatboostWidgetModel",
      "state": {
       "_model_module_version": "^1.0.0",
       "_view_module_version": "^1.0.0",
       "data": {
        "catboost_info": {
         "content": {
          "data": {
           "iterations": [
            {
             "iteration": 0,
             "learn": [
              0.3332621444,
              0,
              0.1569054233
             ],
             "passed_time": 1.437745249,
             "remaining_time": 717.4348793,
             "test": [
              0.8091580037,
              0.3332712712,
              0,
              0.1404049525
             ]
            },
            {
             "iteration": 1,
             "learn": [
              0.2102562993,
              0,
              0.2163656463
             ],
             "passed_time": 2.611752228,
             "remaining_time": 650.3263047,
             "test": [
              0.8201996027,
              0.2109175394,
              0,
              0.1869121043
             ]
            },
            {
             "iteration": 2,
             "learn": [
              0.1451973288,
              0,
              0.4707471655
             ],
             "passed_time": 3.798171183,
             "remaining_time": 629.2303592,
             "test": [
              0.8662970819,
              0.146657652,
              0,
              0.4453114631
             ]
            },
            {
             "iteration": 3,
             "learn": [
              0.1171494024,
              0.1853506897,
              0.5003436319
             ],
             "passed_time": 4.711411392,
             "remaining_time": 584.2150126,
             "test": [
              0.8771042773,
              0.1189469717,
              0.1253901011,
              0.4805079141
             ]
            },
            {
             "iteration": 4,
             "learn": [
              0.1045180902,
              0.3657243156,
              0.5104526644
             ],
             "passed_time": 5.708570578,
             "remaining_time": 565.1484872,
             "test": [
              0.8797503146,
              0.1063689204,
              0.3143661843,
              0.4946653327
             ]
            },
            {
             "iteration": 5,
             "learn": [
              0.09706455834,
              0.4642392284,
              0.519334845
             ],
             "passed_time": 6.73174397,
             "remaining_time": 554.2469202,
             "test": [
              0.8840080908,
              0.09942487137,
              0.4310041816,
              0.503111212
             ]
            },
            {
             "iteration": 6,
             "learn": [
              0.09343488615,
              0.4889927159,
              0.5243915344
             ],
             "passed_time": 7.612777205,
             "remaining_time": 536.1570232,
             "test": [
              0.8849049232,
              0.09626736851,
              0.4405723471,
              0.5037795377
             ]
            },
            {
             "iteration": 7,
             "learn": [
              0.09146145547,
              0.4965150048,
              0.5264400038
             ],
             "passed_time": 8.605654327,
             "remaining_time": 529.2477411,
             "test": [
              0.8857711686,
              0.09426886572,
              0.4488039788,
              0.5088157452
             ]
            },
            {
             "iteration": 8,
             "learn": [
              0.08878167865,
              0.4999356126,
              0.5339114701
             ],
             "passed_time": 9.601022376,
             "remaining_time": 523.7891096,
             "test": [
              0.893674345,
              0.0916462353,
              0.4523234851,
              0.5151531813
             ]
            },
            {
             "iteration": 9,
             "learn": [
              0.08622562661,
              0.5028538447,
              0.5385893802
             ],
             "passed_time": 10.52697555,
             "remaining_time": 515.8218019,
             "test": [
              0.9026241394,
              0.08968129322,
              0.4563768927,
              0.5184243005
             ]
            },
            {
             "iteration": 10,
             "learn": [
              0.08485110852,
              0.5048723601,
              0.5418843537
             ],
             "passed_time": 11.44643271,
             "remaining_time": 508.8459634,
             "test": [
              0.9056333913,
              0.08869114145,
              0.4580440777,
              0.5204776477
             ]
            },
            {
             "iteration": 11,
             "learn": [
              0.08405288314,
              0.5087103567,
              0.5482678571
             ],
             "passed_time": 12.41988871,
             "remaining_time": 505.0754744,
             "test": [
              0.9061427514,
              0.08837218933,
              0.4615594462,
              0.5238785199
             ]
            },
            {
             "iteration": 12,
             "learn": [
              0.08327070741,
              0.5160480887,
              0.5529969766
             ],
             "passed_time": 13.20354452,
             "remaining_time": 494.6250909,
             "test": [
              0.9064350618,
              0.08803854489,
              0.4639470353,
              0.5251024572
             ]
            },
            {
             "iteration": 13,
             "learn": [
              0.08261124305,
              0.516190446,
              0.5578378685
             ],
             "passed_time": 14.15872897,
             "remaining_time": 491.5101628,
             "test": [
              0.9072478224,
              0.08766723519,
              0.4660265807,
              0.5268624451
             ]
            },
            {
             "iteration": 14,
             "learn": [
              0.08089265194,
              0.5182186235,
              0.5670807823
             ],
             "passed_time": 15.24348664,
             "remaining_time": 492.8727347,
             "test": [
              0.9114994971,
              0.08666825653,
              0.466327975,
              0.5300639517
             ]
            },
            {
             "iteration": 15,
             "learn": [
              0.07964178451,
              0.5204154444,
              0.5708435374
             ],
             "passed_time": 16.22864363,
             "remaining_time": 490.9164698,
             "test": [
              0.9135368713,
              0.08596320982,
              0.4709617906,
              0.5276814299
             ]
            },
            {
             "iteration": 16,
             "learn": [
              0.07913239441,
              0.5238997285,
              0.5731362434
             ],
             "passed_time": 17.06619071,
             "remaining_time": 484.8805949,
             "test": [
              0.9138943668,
              0.08580492732,
              0.4740911334,
              0.5272308537
             ]
            },
            {
             "iteration": 17,
             "learn": [
              0.07820153356,
              0.5259395714,
              0.5789481293
             ],
             "passed_time": 17.97475003,
             "remaining_time": 481.323862,
             "test": [
              0.9156209349,
              0.08522165206,
              0.4728693415,
              0.530063167
             ]
            },
            {
             "iteration": 18,
             "learn": [
              0.0777024541,
              0.5287374397,
              0.5824110922
             ],
             "passed_time": 18.9457665,
             "remaining_time": 479.6270362,
             "test": [
              0.9162309657,
              0.08481403064,
              0.4754223454,
              0.5332742579
             ]
            },
            {
             "iteration": 19,
             "learn": [
              0.07729247571,
              0.5337633668,
              0.5853624339
             ],
             "passed_time": 20.0418987,
             "remaining_time": 481.0055687,
             "test": [
              0.9168483085,
              0.08448225817,
              0.4786444853,
              0.5347387006
             ]
            },
            {
             "iteration": 20,
             "learn": [
              0.07650367964,
              0.5350790746,
              0.5897861867
             ],
             "passed_time": 21.06924571,
             "remaining_time": 480.5794617,
             "test": [
              0.9181419149,
              0.08393665593,
              0.4790398431,
              0.5364635459
             ]
            },
            {
             "iteration": 21,
             "learn": [
              0.07618148636,
              0.5352712026,
              0.5915667989
             ],
             "passed_time": 21.94227898,
             "remaining_time": 476.7458796,
             "test": [
              0.918717984,
              0.08375838412,
              0.4789325843,
              0.5368005112
             ]
            },
            {
             "iteration": 22,
             "learn": [
              0.07582892412,
              0.5380693247,
              0.5939705215
             ],
             "passed_time": 22.87488706,
             "remaining_time": 474.4052665,
             "test": [
              0.9186002236,
              0.08370358359,
              0.4809497303,
              0.5361831338
             ]
            },
            {
             "iteration": 23,
             "learn": [
              0.07559721183,
              0.5386318974,
              0.5947062547
             ],
             "passed_time": 23.97331431,
             "remaining_time": 475.4707338,
             "test": [
              0.9189138505,
              0.08359743025,
              0.481392534,
              0.5356483163
             ]
            },
            {
             "iteration": 24,
             "learn": [
              0.07536781822,
              0.5406888809,
              0.5961431406
             ],
             "passed_time": 24.82735185,
             "remaining_time": 471.7196851,
             "test": [
              0.9194175209,
              0.08337691219,
              0.4828387369,
              0.5367976527
             ]
            },
            {
             "iteration": 25,
             "learn": [
              0.07491622301,
              0.5457457395,
              0.599337963
             ],
             "passed_time": 25.83213027,
             "remaining_time": 470.9396058,
             "test": [
              0.919814331,
              0.0831944662,
              0.4829664897,
              0.5384207134
             ]
            },
            {
             "iteration": 26,
             "learn": [
              0.07452575618,
              0.5502027373,
              0.6011259448
             ],
             "passed_time": 26.61553991,
             "remaining_time": 466.2648288,
             "test": [
              0.9197046214,
              0.08314531325,
              0.4854646697,
              0.5376753206
             ]
            },
            {
             "iteration": 27,
             "learn": [
              0.07414156262,
              0.555087893,
              0.6036388889
             ],
             "passed_time": 27.85635228,
             "remaining_time": 469.5785099,
             "test": [
              0.9206950463,
              0.08288412647,
              0.486089259,
              0.5397443054
             ]
            },
            {
             "iteration": 28,
             "learn": [
              0.07392996554,
              0.5563499325,
              0.6053653628
             ],
             "passed_time": 28.86417316,
             "remaining_time": 468.7939847,
             "test": [
              0.9208635991,
              0.08275877548,
              0.4875277561,
              0.5407748184
             ]
            },
            {
             "iteration": 29,
             "learn": [
              0.07379810171,
              0.5564007824,
              0.605542328
             ],
             "passed_time": 29.8234963,
             "remaining_time": 467.2347754,
             "test": [
              0.9213002974,
              0.08260463399,
              0.487993997,
              0.5416323088
             ]
            },
            {
             "iteration": 30,
             "learn": [
              0.07355188086,
              0.5591664215,
              0.6077321429
             ],
             "passed_time": 30.94542198,
             "remaining_time": 468.1742873,
             "test": [
              0.9215321596,
              0.08252760365,
              0.4884348904,
              0.5424415411
             ]
            },
            {
             "iteration": 31,
             "learn": [
              0.07338829487,
              0.5608886961,
              0.6088911565
             ],
             "passed_time": 32.01021077,
             "remaining_time": 468.1493324,
             "test": [
              0.9215335641,
              0.08248809272,
              0.4888059342,
              0.5426035221
             ]
            },
            {
             "iteration": 32,
             "learn": [
              0.07314074102,
              0.5631656233,
              0.6105548942
             ],
             "passed_time": 33.02587973,
             "remaining_time": 467.3662374,
             "test": [
              0.9218791705,
              0.08230980128,
              0.4907609165,
              0.5446513205
             ]
            },
            {
             "iteration": 33,
             "learn": [
              0.07301036807,
              0.5653846748,
              0.6117667234
             ],
             "passed_time": 33.91743017,
             "remaining_time": 464.8683077,
             "test": [
              0.92167104,
              0.08232503024,
              0.4911721197,
              0.5449687248
             ]
            },
            {
             "iteration": 34,
             "learn": [
              0.07283271069,
              0.5669967711,
              0.6128182162
             ],
             "passed_time": 35.02385535,
             "remaining_time": 465.3169354,
             "test": [
              0.9218529456,
              0.08226616949,
              0.4918665988,
              0.5446916756
             ]
            },
            {
             "iteration": 35,
             "learn": [
              0.07268696649,
              0.5673646902,
              0.6135770975
             ],
             "passed_time": 36.02493416,
             "remaining_time": 464.3213736,
             "test": [
              0.9219063461,
              0.08223629447,
              0.4912040563,
              0.5452910613
             ]
            },
            {
             "iteration": 36,
             "learn": [
              0.07255495994,
              0.5672729528,
              0.6139821429
             ],
             "passed_time": 37.149405,
             "remaining_time": 464.8695815,
             "test": [
              0.9219059348,
              0.0822436284,
              0.4900727515,
              0.5452155076
             ]
            },
            {
             "iteration": 37,
             "learn": [
              0.07244040799,
              0.5675147378,
              0.6151451247
             ],
             "passed_time": 38.17127118,
             "remaining_time": 464.0822969,
             "test": [
              0.9221631478,
              0.08212796022,
              0.4902163515,
              0.5461947919
             ]
            },
            {
             "iteration": 38,
             "learn": [
              0.07223961407,
              0.5675171706,
              0.6166681784
             ],
             "passed_time": 39.16888483,
             "remaining_time": 462.9963052,
             "test": [
              0.9220859192,
              0.08214751836,
              0.4897398173,
              0.5457312124
             ]
            },
            {
             "iteration": 39,
             "learn": [
              0.07209669048,
              0.5693564418,
              0.6181712018
             ],
             "passed_time": 40.32160278,
             "remaining_time": 463.698432,
             "test": [
              0.9223075003,
              0.08204340407,
              0.4904589945,
              0.5458956596
             ]
            },
            {
             "iteration": 40,
             "learn": [
              0.07194316948,
              0.5699045131,
              0.6188286092
             ],
             "passed_time": 41.34599936,
             "remaining_time": 462.873505,
             "test": [
              0.9223652263,
              0.08206270599,
              0.4889760492,
              0.5455190117
             ]
            },
            {
             "iteration": 41,
             "learn": [
              0.07176488674,
              0.571566295,
              0.6204926304
             ],
             "passed_time": 42.28899737,
             "remaining_time": 461.1514475,
             "test": [
              0.9224731392,
              0.08203830456,
              0.4863481063,
              0.545490539
             ]
            },
            {
             "iteration": 42,
             "learn": [
              0.07162796627,
              0.5733457596,
              0.6222193878
             ],
             "passed_time": 43.45981431,
             "remaining_time": 461.8868637,
             "test": [
              0.9226561077,
              0.08195153589,
              0.4867421109,
              0.5462528585
             ]
            },
            {
             "iteration": 43,
             "learn": [
              0.07156374436,
              0.5732763311,
              0.6229925359
             ],
             "passed_time": 44.51799459,
             "remaining_time": 461.3683076,
             "test": [
              0.9227375007,
              0.08192148288,
              0.4854910062,
              0.546490169
             ]
            },
            {
             "iteration": 44,
             "learn": [
              0.07143590537,
              0.5755688437,
              0.6240031179
             ],
             "passed_time": 45.7088576,
             "remaining_time": 462.167338,
             "test": [
              0.9227126302,
              0.08198040125,
              0.4825208295,
              0.5461140256
             ]
            },
            {
             "iteration": 45,
             "learn": [
              0.07134228105,
              0.5764959853,
              0.6244316893
             ],
             "passed_time": 46.94710123,
             "remaining_time": 463.3474773,
             "test": [
              0.9227660856,
              0.0819479775,
              0.4834355589,
              0.5464416868
             ]
            },
            {
             "iteration": 46,
             "learn": [
              0.07123694668,
              0.5769785735,
              0.6246509826
             ],
             "passed_time": 47.97815349,
             "remaining_time": 462.4277347,
             "test": [
              0.9232121392,
              0.08189000814,
              0.4841259001,
              0.546295904
             ]
            },
            {
             "iteration": 47,
             "learn": [
              0.07104671846,
              0.5789277967,
              0.6265258881
             ],
             "passed_time": 49.49041164,
             "remaining_time": 466.0347096,
             "test": [
              0.9230283848,
              0.08191986299,
              0.4844115811,
              0.5464153439
             ]
            },
            {
             "iteration": 48,
             "learn": [
              0.07081326369,
              0.5789636984,
              0.6269366024
             ],
             "passed_time": 50.35289351,
             "remaining_time": 463.4521423,
             "test": [
              0.9231048042,
              0.0818716335,
              0.4843383846,
              0.5467147565
             ]
            },
            {
             "iteration": 49,
             "learn": [
              0.07070061856,
              0.5795156204,
              0.6272200491
             ],
             "passed_time": 51.33730385,
             "remaining_time": 462.0357347,
             "test": [
              0.9230546268,
              0.08187479109,
              0.4838665519,
              0.5466655457
             ]
            },
            {
             "iteration": 50,
             "learn": [
              0.07061136564,
              0.5805009777,
              0.6279800642
             ],
             "passed_time": 52.51837036,
             "remaining_time": 462.3676136,
             "test": [
              0.9231531432,
              0.08184484987,
              0.4842508527,
              0.5468372231
             ]
            },
            {
             "iteration": 51,
             "learn": [
              0.0704912175,
              0.5815710673,
              0.6280901361
             ],
             "passed_time": 53.57454033,
             "remaining_time": 461.5652706,
             "test": [
              0.9231471444,
              0.08178349609,
              0.4858577177,
              0.5470152901
             ]
            },
            {
             "iteration": 52,
             "learn": [
              0.07041159607,
              0.5815997019,
              0.6285062358
             ],
             "passed_time": 54.7094643,
             "remaining_time": 461.4175574,
             "test": [
              0.9231815458,
              0.08174943656,
              0.4849593536,
              0.547287407
             ]
            },
            {
             "iteration": 53,
             "learn": [
              0.0702701386,
              0.5823570486,
              0.6294886621
             ],
             "passed_time": 55.8567769,
             "remaining_time": 461.3356018,
             "test": [
              0.9233744601,
              0.08168051307,
              0.4846331532,
              0.5478541723
             ]
            },
            {
             "iteration": 54,
             "learn": [
              0.07015998911,
              0.5833488545,
              0.6302118292
             ],
             "passed_time": 57.00118375,
             "remaining_time": 461.1913958,
             "test": [
              0.9233246574,
              0.08167615108,
              0.4847084622,
              0.5480194601
             ]
            },
            {
             "iteration": 55,
             "learn": [
              0.0700369655,
              0.5844145778,
              0.6313553477
             ],
             "passed_time": 58.31406207,
             "remaining_time": 462.3472064,
             "test": [
              0.9234470485,
              0.08163716014,
              0.4852480826,
              0.5480083064
             ]
            },
            {
             "iteration": 56,
             "learn": [
              0.06985879157,
              0.5852110932,
              0.6325804989
             ],
             "passed_time": 59.37167403,
             "remaining_time": 461.4324841,
             "test": [
              0.9235351005,
              0.08163590132,
              0.4858139739,
              0.5477085575
             ]
            },
            {
             "iteration": 57,
             "learn": [
              0.06967028883,
              0.5864740725,
              0.6340150227
             ],
             "passed_time": 60.50133704,
             "remaining_time": 461.0619133,
             "test": [
              0.9239616385,
              0.08155831945,
              0.4859767419,
              0.5477819814
             ]
            },
            {
             "iteration": 58,
             "learn": [
              0.06959737851,
              0.5873535866,
              0.6345791761
             ],
             "passed_time": 61.59091028,
             "remaining_time": 460.3659565,
             "test": [
              0.9240518354,
              0.08148209134,
              0.486624801,
              0.5485338759
             ]
            },
            {
             "iteration": 59,
             "learn": [
              0.06953246154,
              0.5887329597,
              0.6351331255
             ],
             "passed_time": 62.55314387,
             "remaining_time": 458.723055,
             "test": [
              0.924130839,
              0.08143202461,
              0.4866813187,
              0.5486225451
             ]
            },
            {
             "iteration": 60,
             "learn": [
              0.06945547408,
              0.5892650396,
              0.6351069539
             ],
             "passed_time": 63.65432204,
             "remaining_time": 458.102416,
             "test": [
              0.9241225321,
              0.08145201543,
              0.4872686089,
              0.548717884
             ]
            },
            {
             "iteration": 61,
             "learn": [
              0.06938307124,
              0.589740025,
              0.6354597506
             ],
             "passed_time": 64.5265091,
             "remaining_time": 455.8485643,
             "test": [
              0.9242441144,
              0.08140131716,
              0.4867593641,
              0.5496781679
             ]
            },
            {
             "iteration": 62,
             "learn": [
              0.06931075009,
              0.5899794395,
              0.6356360544
             ],
             "passed_time": 65.72410197,
             "remaining_time": 455.8957549,
             "test": [
              0.9242470677,
              0.08140190369,
              0.4865145127,
              0.5500399067
             ]
            },
            {
             "iteration": 63,
             "learn": [
              0.06909404058,
              0.5927583652,
              0.6372759826
             ],
             "passed_time": 66.7638045,
             "remaining_time": 454.8284181,
             "test": [
              0.9243269375,
              0.08139558551,
              0.4854095037,
              0.5503983387
             ]
            },
            {
             "iteration": 64,
             "learn": [
              0.06898406058,
              0.594015447,
              0.6370166289
             ],
             "passed_time": 67.55358351,
             "remaining_time": 452.0893666,
             "test": [
              0.9244890209,
              0.08132053952,
              0.4857279947,
              0.5504635795
             ]
            },
            {
             "iteration": 65,
             "learn": [
              0.06886451902,
              0.5943778816,
              0.6374984883
             ],
             "passed_time": 68.51016176,
             "remaining_time": 450.5062152,
             "test": [
              0.9241578472,
              0.08136523632,
              0.4862784275,
              0.5501816541
             ]
            },
            {
             "iteration": 66,
             "learn": [
              0.06870611365,
              0.594931245,
              0.6383240741
             ],
             "passed_time": 69.66110282,
             "remaining_time": 450.1978735,
             "test": [
              0.9242429412,
              0.08136273547,
              0.4863054612,
              0.5500417563
             ]
            },
            {
             "iteration": 67,
             "learn": [
              0.06854627172,
              0.596710415,
              0.6395567838
             ],
             "passed_time": 70.78187262,
             "remaining_time": 449.6730731,
             "test": [
              0.9242876624,
              0.08139627577,
              0.4865002348,
              0.5497445296
             ]
            },
            {
             "iteration": 68,
             "learn": [
              0.06846000859,
              0.5975275992,
              0.6399698602
             ],
             "passed_time": 72.11707995,
             "remaining_time": 450.4704559,
             "test": [
              0.9245341372,
              0.08128168761,
              0.4874192634,
              0.5503832616
             ]
            },
            {
             "iteration": 69,
             "learn": [
              0.06839983141,
              0.5974377509,
              0.6403305933
             ],
             "passed_time": 73.15784297,
             "remaining_time": 449.3981783,
             "test": [
              0.9246811868,
              0.08122245347,
              0.4874577199,
              0.5506888956
             ]
            },
            {
             "iteration": 70,
             "learn": [
              0.06821665872,
              0.5997421256,
              0.6420021731
             ],
             "passed_time": 74.26936894,
             "remaining_time": 448.754356,
             "test": [
              0.9247538444,
              0.08129570715,
              0.4868703841,
              0.5498134136
             ]
            },
            {
             "iteration": 71,
             "learn": [
              0.06814027307,
              0.6010647275,
              0.642468065
             ],
             "passed_time": 75.22960519,
             "remaining_time": 447.1982086,
             "test": [
              0.9248072352,
              0.08126488963,
              0.4869891381,
              0.5500007847
             ]
            },
            {
             "iteration": 72,
             "learn": [
              0.06807060394,
              0.6012772882,
              0.6424836546
             ],
             "passed_time": 76.28574315,
             "remaining_time": 446.2193469,
             "test": [
              0.9247732311,
              0.08124872795,
              0.4873668784,
              0.550158506
             ]
            },
            {
             "iteration": 73,
             "learn": [
              0.06792484958,
              0.6031298377,
              0.6441712018
             ],
             "passed_time": 77.42505054,
             "remaining_time": 445.7171828,
             "test": [
              0.9247110393,
              0.08129021767,
              0.4871682151,
              0.5497365707
             ]
            },
            {
             "iteration": 74,
             "learn": [
              0.06787207189,
              0.6029459099,
              0.6443100907
             ],
             "passed_time": 78.2226846,
             "remaining_time": 443.2618794,
             "test": [
              0.9246942425,
              0.08126609478,
              0.4876138771,
              0.5496483499
             ]
            },
            {
             "iteration": 75,
             "learn": [
              0.06778790159,
              0.6037435285,
              0.6452438587
             ],
             "passed_time": 79.45387474,
             "remaining_time": 443.2689854,
             "test": [
              0.9246930078,
              0.08131054021,
              0.4873780529,
              0.5493801565
             ]
            },
            {
             "iteration": 76,
             "learn": [
              0.06773121956,
              0.6040476154,
              0.6453368292
             ],
             "passed_time": 80.47779916,
             "remaining_time": 442.1053123,
             "test": [
              0.9247208212,
              0.08132015896,
              0.487432377,
              0.5490901601
             ]
            },
            {
             "iteration": 77,
             "learn": [
              0.0676343329,
              0.6053924946,
              0.6459611678
             ],
             "passed_time": 81.5749115,
             "remaining_time": 441.3411879,
             "test": [
              0.9251006629,
              0.08122575473,
              0.48811197,
              0.5495516658
             ]
            },
            {
             "iteration": 78,
             "learn": [
              0.06752874182,
              0.6057820472,
              0.6464796863
             ],
             "passed_time": 82.54704331,
             "remaining_time": 439.9025979,
             "test": [
              0.9249844438,
              0.08124628126,
              0.4875422586,
              0.5494170366
             ]
            },
            {
             "iteration": 79,
             "learn": [
              0.06748230402,
              0.6057534792,
              0.6469013605
             ],
             "passed_time": 83.50641528,
             "remaining_time": 438.4086802,
             "test": [
              0.9250860805,
              0.08122289062,
              0.4875975732,
              0.5493085822
             ]
            },
            {
             "iteration": 80,
             "learn": [
              0.06744139284,
              0.6056691564,
              0.6472465042
             ],
             "passed_time": 84.47267787,
             "remaining_time": 436.9636053,
             "test": [
              0.9251064956,
              0.08119437415,
              0.4882978412,
              0.549644987
             ]
            },
            {
             "iteration": 81,
             "learn": [
              0.06732247233,
              0.6069359744,
              0.6479551209
             ],
             "passed_time": 85.34395332,
             "remaining_time": 435.0460059,
             "test": [
              0.9252119768,
              0.08121887086,
              0.4883060621,
              0.5493617164
             ]
            },
            {
             "iteration": 82,
             "learn": [
              0.06725261494,
              0.6070587516,
              0.6487163643
             ],
             "passed_time": 86.50394175,
             "remaining_time": 434.6041411,
             "test": [
              0.925216062,
              0.08124837122,
              0.487750122,
              0.5491606134
             ]
            },
            {
             "iteration": 83,
             "learn": [
              0.0671694918,
              0.6081762351,
              0.6492397014
             ],
             "passed_time": 87.57262472,
             "remaining_time": 433.6929986,
             "test": [
              0.9253306511,
              0.08122794337,
              0.4877615553,
              0.5497844364
             ]
            },
            {
             "iteration": 84,
             "learn": [
              0.06710474815,
              0.6095084167,
              0.6496739418
             ],
             "passed_time": 88.77686388,
             "remaining_time": 433.4399825,
             "test": [
              0.9253064866,
              0.08121749255,
              0.4884500673,
              0.550042541
             ]
            },
            {
             "iteration": 85,
             "learn": [
              0.06699153108,
              0.6098401659,
              0.6504656085
             ],
             "passed_time": 89.89717757,
             "remaining_time": 432.7608316,
             "test": [
              0.9253575618,
              0.08117541951,
              0.4891955905,
              0.5506149112
             ]
            },
            {
             "iteration": 86,
             "learn": [
              0.06684955104,
              0.6100934922,
              0.6506772487
             ],
             "passed_time": 90.85987782,
             "remaining_time": 431.323328,
             "test": [
              0.9253761545,
              0.08117875349,
              0.4891111501,
              0.5501063245
             ]
            },
            {
             "iteration": 87,
             "learn": [
              0.06678181227,
              0.6104739828,
              0.6507784392
             ],
             "passed_time": 91.93330199,
             "remaining_time": 430.4150048,
             "test": [
              0.9254758426,
              0.08113397752,
              0.4896447542,
              0.5499797664
             ]
            },
            {
             "iteration": 88,
             "learn": [
              0.066724156,
              0.6104977431,
              0.6511441799
             ],
             "passed_time": 93.03378057,
             "remaining_time": 429.627908,
             "test": [
              0.9254361296,
              0.08114556037,
              0.4903597907,
              0.5503393193
             ]
            },
            {
             "iteration": 89,
             "learn": [
              0.06659566405,
              0.6114820574,
              0.652212963
             ],
             "passed_time": 93.927124,
             "remaining_time": 427.8902315,
             "test": [
              0.9256065576,
              0.08106742787,
              0.4901597457,
              0.5506014035
             ]
            },
            {
             "iteration": 90,
             "learn": [
              0.06654918876,
              0.6118772954,
              0.6525029289
             ],
             "passed_time": 95.12381415,
             "remaining_time": 427.5345054,
             "test": [
              0.925750121,
              0.08100479296,
              0.4904298989,
              0.5513951664
             ]
            },
            {
             "iteration": 91,
             "learn": [
              0.06647786517,
              0.6125003807,
              0.6531176304
             ],
             "passed_time": 96.34173847,
             "remaining_time": 427.2546662,
             "test": [
              0.9257255157,
              0.0810360977,
              0.4904461083,
              0.5509192561
             ]
            },
            {
             "iteration": 92,
             "learn": [
              0.0664020621,
              0.613244025,
              0.6537148526
             ],
             "passed_time": 97.46508446,
             "remaining_time": 426.540746,
             "test": [
              0.9258622569,
              0.08103160331,
              0.4901155703,
              0.5507055982
             ]
            },
            {
             "iteration": 93,
             "learn": [
              0.06637650801,
              0.6133398292,
              0.6539006992
             ],
             "passed_time": 98.33496328,
             "remaining_time": 424.7233521,
             "test": [
              0.9258686115,
              0.08101811299,
              0.4901704568,
              0.5506661398
             ]
            },
            {
             "iteration": 94,
             "learn": [
              0.06629438821,
              0.6131927408,
              0.6541417234
             ],
             "passed_time": 99.220996,
             "remaining_time": 422.9947724,
             "test": [
              0.9258699949,
              0.08101662245,
              0.4900804499,
              0.550296386
             ]
            },
            {
             "iteration": 95,
             "learn": [
              0.06614004417,
              0.6141379678,
              0.654654006
             ],
             "passed_time": 100.3248864,
             "remaining_time": 422.2005635,
             "test": [
              0.9260102081,
              0.08103773057,
              0.4898230132,
              0.5498371222
             ]
            },
            {
             "iteration": 96,
             "learn": [
              0.06599416822,
              0.614428467,
              0.655616969
             ],
             "passed_time": 101.2953654,
             "remaining_time": 420.8456933,
             "test": [
              0.9260154605,
              0.0810425603,
              0.4894996972,
              0.549389909
             ]
            },
            {
             "iteration": 97,
             "learn": [
              0.06589827288,
              0.6146770829,
              0.6557935563
             ],
             "passed_time": 102.4099081,
             "remaining_time": 420.0896232,
             "test": [
              0.9260468186,
              0.08103137446,
              0.4896879028,
              0.5493844162
             ]
            },
            {
             "iteration": 98,
             "learn": [
              0.06583727319,
              0.6152627812,
              0.6562194822
             ],
             "passed_time": 103.381405,
             "remaining_time": 418.7469029,
             "test": [
              0.9260159725,
              0.08103802619,
              0.4891585808,
              0.5494095261
             ]
            },
            {
             "iteration": 99,
             "learn": [
              0.06575391526,
              0.6157054356,
              0.6568114135
             ],
             "passed_time": 104.5126444,
             "remaining_time": 418.0505775,
             "test": [
              0.9259689694,
              0.08105160937,
              0.4901533865,
              0.5492507959
             ]
            },
            {
             "iteration": 100,
             "learn": [
              0.06570108397,
              0.6154595846,
              0.6571364324
             ],
             "passed_time": 105.4808983,
             "remaining_time": 416.7017665,
             "test": [
              0.9259998583,
              0.08106003034,
              0.49000127,
              0.5490906645
             ]
            },
            {
             "iteration": 101,
             "learn": [
              0.06563582213,
              0.6160986001,
              0.6572687075
             ],
             "passed_time": 106.5110249,
             "remaining_time": 415.6018424,
             "test": [
              0.9260490435,
              0.08106249255,
              0.4899589764,
              0.5491100574
             ]
            },
            {
             "iteration": 102,
             "learn": [
              0.06555007141,
              0.615738414,
              0.6577848639
             ],
             "passed_time": 107.5168167,
             "remaining_time": 414.409478,
             "test": [
              0.9260370289,
              0.08104265215,
              0.4900144605,
              0.5491020985
             ]
            },
            {
             "iteration": 103,
             "learn": [
              0.06543040183,
              0.6160263046,
              0.658909486
             ],
             "passed_time": 108.5584668,
             "remaining_time": 413.3572389,
             "test": [
              0.9259505003,
              0.08115378823,
              0.4894752272,
              0.5479684557
             ]
            },
            {
             "iteration": 104,
             "learn": [
              0.06533850062,
              0.6170513854,
              0.6597232615
             ],
             "passed_time": 109.6672407,
             "remaining_time": 412.5577149,
             "test": [
              0.9259506657,
              0.08117122899,
              0.4890175445,
              0.5481377791
             ]
            },
            {
             "iteration": 105,
             "learn": [
              0.06528873215,
              0.6173128698,
              0.6600738851
             ],
             "passed_time": 110.6188069,
             "remaining_time": 411.1680181,
             "test": [
              0.9260209508,
              0.0811070968,
              0.4892287533,
              0.5487911959
             ]
            },
            {
             "iteration": 106,
             "learn": [
              0.06518190365,
              0.618453638,
              0.6604072184
             ],
             "passed_time": 111.8832852,
             "remaining_time": 410.9358045,
             "test": [
              0.9260461347,
              0.0811674092,
              0.4870793828,
              0.548493801
             ]
            },
            {
             "iteration": 107,
             "learn": [
              0.06505984839,
              0.6188950796,
              0.6611840514
             ],
             "passed_time": 113.0740825,
             "remaining_time": 410.4170402,
             "test": [
              0.9262114311,
              0.08112098355,
              0.4881095505,
              0.5489425836
             ]
            },
            {
             "iteration": 108,
             "learn": [
              0.06500993858,
              0.6192637571,
              0.6615117158
             ],
             "passed_time": 114.2527454,
             "remaining_time": 409.8424169,
             "test": [
              0.926222612,
              0.08113809325,
              0.4877590927,
              0.5488139517
             ]
            },
            {
             "iteration": 109,
             "learn": [
              0.06497368788,
              0.6194069508,
              0.6616843348
             ],
             "passed_time": 115.1158937,
             "remaining_time": 408.1381685,
             "test": [
              0.9263448895,
              0.08106049102,
              0.4878993602,
              0.5492298336
             ]
            },
            {
             "iteration": 110,
             "learn": [
              0.06492859549,
              0.6196203493,
              0.6615679327
             ],
             "passed_time": 116.0870748,
             "remaining_time": 406.8276767,
             "test": [
              0.9262485003,
              0.08113750357,
              0.4879122599,
              0.5488257219
             ]
            },
            {
             "iteration": 111,
             "learn": [
              0.06482674951,
              0.6203094866,
              0.6621506047
             ],
             "passed_time": 117.0390105,
             "remaining_time": 405.4565721,
             "test": [
              0.9262065097,
              0.08114350148,
              0.4877509274,
              0.5486958569
             ]
            },
            {
             "iteration": 112,
             "learn": [
              0.06477673498,
              0.6204812875,
              0.6625136999
             ],
             "passed_time": 118.1783233,
             "remaining_time": 404.7346118,
             "test": [
              0.9261852683,
              0.08116425509,
              0.4875785517,
              0.5484061407
             ]
            },
            {
             "iteration": 113,
             "learn": [
              0.06470787218,
              0.6206613953,
              0.6626539116
             ],
             "passed_time": 119.3039454,
             "remaining_time": 403.9589731,
             "test": [
              0.9262026308,
              0.08116538568,
              0.4876845844,
              0.5482424783
             ]
            },
            {
             "iteration": 114,
             "learn": [
              0.06463471631,
              0.6212543977,
              0.6632733371
             ],
             "passed_time": 120.1889693,
             "remaining_time": 402.3717667,
             "test": [
              0.9263803449,
              0.08113133572,
              0.4876540794,
              0.5486827415
             ]
            },
            {
             "iteration": 115,
             "learn": [
              0.06454317217,
              0.6219661942,
              0.6638033825
             ],
             "passed_time": 121.3045287,
             "remaining_time": 401.5598193,
             "test": [
              0.9263993586,
              0.08113992768,
              0.4876062981,
              0.5484853376
             ]
            },
            {
             "iteration": 116,
             "learn": [
              0.06448406918,
              0.6229850927,
              0.6641165911
             ],
             "passed_time": 122.5590004,
             "remaining_time": 401.1974116,
             "test": [
              0.9263616324,
              0.08115468074,
              0.4875180968,
              0.5478766478
             ]
            },
            {
             "iteration": 117,
             "learn": [
              0.06446364072,
              0.6233982612,
              0.6641642101
             ],
             "passed_time": 123.3906658,
             "remaining_time": 399.4511385,
             "test": [
              0.9263297117,
              0.08116096335,
              0.4875070927,
              0.5479488387
             ]
            },
            {
             "iteration": 118,
             "learn": [
              0.06445186088,
              0.6234151809,
              0.6642832577
             ],
             "passed_time": 124.1909514,
             "remaining_time": 397.6197687,
             "test": [
              0.9262881417,
              0.08120839498,
              0.4860931563,
              0.5477046341
             ]
            },
            {
             "iteration": 119,
             "learn": [
              0.06442498906,
              0.6241162667,
              0.6642140967
             ],
             "passed_time": 125.2531231,
             "remaining_time": 396.6348898,
             "test": [
              0.9262471476,
              0.08122253229,
              0.4859597058,
              0.547675825
             ]
            },
            {
             "iteration": 120,
             "learn": [
              0.0643688702,
              0.6252911109,
              0.6645629252
             ],
             "passed_time": 126.5649273,
             "remaining_time": 396.4306401,
             "test": [
              0.9261857241,
              0.08126675131,
              0.4859450727,
              0.5476805331
             ]
            },
            {
             "iteration": 121,
             "learn": [
              0.06433779524,
              0.6257555609,
              0.6645986395
             ],
             "passed_time": 127.9481258,
             "remaining_time": 396.4294389,
             "test": [
              0.9261949659,
              0.08127756426,
              0.4861330018,
              0.5475283046
             ]
            },
            {
             "iteration": 122,
             "learn": [
              0.06430924998,
              0.6261875632,
              0.6646687453
             ],
             "passed_time": 128.851733,
             "remaining_time": 394.9357996,
             "test": [
              0.9262083877,
              0.08126400181,
              0.4857528935,
              0.5476513317
             ]
            },
            {
             "iteration": 123,
             "learn": [
              0.06426969516,
              0.6264980127,
              0.6648744331
             ],
             "passed_time": 129.8130975,
             "remaining_time": 393.6268119,
             "test": [
              0.9262734269,
              0.08121938721,
              0.4865520886,
              0.5481519595
             ]
            },
            {
             "iteration": 124,
             "learn": [
              0.0642547081,
              0.6266644499,
              0.6650781368
             ],
             "passed_time": 130.5659228,
             "remaining_time": 391.6977683,
             "test": [
              0.9263210422,
              0.0811964571,
              0.4864155709,
              0.5482274572
             ]
            },
            {
             "iteration": 125,
             "learn": [
              0.06419999311,
              0.6266870192,
              0.6657639834
             ],
             "passed_time": 131.6904139,
             "remaining_time": 390.8905935,
             "test": [
              0.926462039,
              0.08113838521,
              0.4859855202,
              0.5486364452
             ]
            },
            {
             "iteration": 126,
             "learn": [
              0.06417060354,
              0.6269022109,
              0.6658519463
             ],
             "passed_time": 132.7401819,
             "remaining_time": 389.8589594,
             "test": [
              0.9264088394,
              0.08116668915,
              0.4857910003,
              0.5484381446
             ]
            },
            {
             "iteration": 127,
             "learn": [
              0.06413926213,
              0.6276807829,
              0.6661191421
             ],
             "passed_time": 133.7072185,
             "remaining_time": 388.5866038,
             "test": [
              0.9263613483,
              0.08118917461,
              0.4857375234,
              0.5483337817
             ]
            },
            {
             "iteration": 128,
             "learn": [
              0.06412696635,
              0.627862019,
              0.6661010015
             ],
             "passed_time": 134.6844083,
             "remaining_time": 387.3481819,
             "test": [
              0.9263618298,
              0.08119795199,
              0.4857853798,
              0.5483851785
             ]
            },
            {
             "iteration": 129,
             "learn": [
              0.06406818478,
              0.6282159681,
              0.6665493197
             ],
             "passed_time": 136.0993952,
             "remaining_time": 387.359817,
             "test": [
              0.9265430359,
              0.08116127598,
              0.4860900305,
              0.5485789952
             ]
            },
            {
             "iteration": 130,
             "learn": [
              0.06401694178,
              0.62824869,
              0.6671744142
             ],
             "passed_time": 136.9960303,
             "remaining_time": 385.8895814,
             "test": [
              0.9265565528,
              0.08118206691,
              0.4854568804,
              0.5484818626
             ]
            },
            {
             "iteration": 131,
             "learn": [
              0.0639812168,
              0.6284117514,
              0.6670573507
             ],
             "passed_time": 137.9044225,
             "remaining_time": 384.4608143,
             "test": [
              0.9266539031,
              0.08112331282,
              0.485898856,
              0.5487329612
             ]
            },
            {
             "iteration": 132,
             "learn": [
              0.06382770068,
              0.629594409,
              0.6676221655
             ],
             "passed_time": 139.1423794,
             "remaining_time": 383.9492726,
             "test": [
              0.9265261457,
              0.08114326679,
              0.4871086556,
              0.5489183145
             ]
            },
            {
             "iteration": 133,
             "learn": [
              0.06375463425,
              0.6299443128,
              0.6679227135
             ],
             "passed_time": 140.0653826,
             "remaining_time": 382.5666419,
             "test": [
              0.9263708259,
              0.08114863001,
              0.4871166846,
              0.5491822482
             ]
            },
            {
             "iteration": 134,
             "learn": [
              0.06367021799,
              0.630412799,
              0.6685887188
             ],
             "passed_time": 141.1981952,
             "remaining_time": 381.7580834,
             "test": [
              0.9261914088,
              0.08120437208,
              0.4869643627,
              0.5488393978
             ]
            },
            {
             "iteration": 135,
             "learn": [
              0.06366393685,
              0.6304272369,
              0.6685146447
             ],
             "passed_time": 142.1759562,
             "remaining_time": 380.5297652,
             "test": [
              0.9262120078,
              0.08119926718,
              0.4872417983,
              0.5487746615
             ]
            },
            {
             "iteration": 136,
             "learn": [
              0.06354539468,
              0.6312854214,
              0.6694544596
             ],
             "passed_time": 143.4004611,
             "remaining_time": 379.9588861,
             "test": [
              0.9261809512,
              0.08122026418,
              0.4873309239,
              0.5489270581
             ]
            },
            {
             "iteration": 137,
             "learn": [
              0.06350324901,
              0.6316979085,
              0.6697117347
             ],
             "passed_time": 144.3908792,
             "remaining_time": 378.7644803,
             "test": [
              0.9261878558,
              0.08123677695,
              0.4867057233,
              0.5485315779
             ]
            },
            {
             "iteration": 138,
             "learn": [
              0.06340283488,
              0.6322166463,
              0.6703129252
             ],
             "passed_time": 145.4995962,
             "remaining_time": 377.8802464,
             "test": [
              0.9263804976,
              0.08117365583,
              0.4868317918,
              0.5488248812
             ]
            },
            {
             "iteration": 139,
             "learn": [
              0.06328017817,
              0.6327421637,
              0.6713638511
             ],
             "passed_time": 146.8520377,
             "remaining_time": 377.6195254,
             "test": [
              0.9263774113,
              0.08119994137,
              0.4869411938,
              0.5487858152
             ]
            },
            {
             "iteration": 140,
             "learn": [
              0.06321323287,
              0.6335775648,
              0.6718476002
             ],
             "passed_time": 148.3513747,
             "remaining_time": 377.7173298,
             "test": [
              0.9263801667,
              0.08126180008,
              0.4862041936,
              0.5482764999
             ]
            },
            {
             "iteration": 141,
             "learn": [
              0.06315319246,
              0.6340003909,
              0.6724887566
             ],
             "passed_time": 149.5546658,
             "remaining_time": 377.0462702,
             "test": [
              0.9263905619,
              0.08126396049,
              0.4863070052,
              0.5483511008
             ]
            },
            {
             "iteration": 142,
             "learn": [
              0.06309146811,
              0.6344771586,
              0.6730453515
             ],
             "passed_time": 150.5660374,
             "remaining_time": 375.8886389,
             "test": [
              0.9263641022,
              0.08127789991,
              0.4858428156,
              0.5481362658
             ]
            },
            {
             "iteration": 143,
             "learn": [
              0.0630328994,
              0.6349941366,
              0.6734236584
             ],
             "passed_time": 151.5226754,
             "remaining_time": 374.5977252,
             "test": [
              0.9264473373,
              0.08121705637,
              0.4859010673,
              0.5486252915
             ]
            },
            {
             "iteration": 144,
             "learn": [
              0.06290285668,
              0.6355218855,
              0.6744477513
             ],
             "passed_time": 152.4662338,
             "remaining_time": 373.2793999,
             "test": [
              0.9263950389,
              0.08123182295,
              0.4857025182,
              0.5487943346
             ]
            },
            {
             "iteration": 145,
             "learn": [
              0.06288419631,
              0.6359879169,
              0.6745260771
             ],
             "passed_time": 153.2592509,
             "remaining_time": 371.6011974,
             "test": [
              0.9263996024,
              0.0812143788,
              0.4854892653,
              0.5488570532
             ]
            },
            {
             "iteration": 146,
             "learn": [
              0.06274785603,
              0.6374065287,
              0.6755561224
             ],
             "passed_time": 154.3287295,
             "remaining_time": 370.5989219,
             "test": [
              0.9265405675,
              0.08120376797,
              0.4850150144,
              0.5486475989
             ]
            },
            {
             "iteration": 147,
             "learn": [
              0.06258312137,
              0.638708419,
              0.6771285903
             ],
             "passed_time": 155.492313,
             "remaining_time": 369.8195553,
             "test": [
              0.9264884065,
              0.08114702949,
              0.4866226802,
              0.5495378217
             ]
            },
            {
             "iteration": 148,
             "learn": [
              0.06252990598,
              0.6385290807,
              0.677359127
             ],
             "passed_time": 156.6351445,
             "remaining_time": 368.9861458,
             "test": [
              0.926439512,
              0.08116962468,
              0.4867217598,
              0.5489918505
             ]
            },
            {
             "iteration": 149,
             "learn": [
              0.06243246588,
              0.6394023044,
              0.6777248677
             ],
             "passed_time": 157.8156104,
             "remaining_time": 368.2364242,
             "test": [
              0.926547096,
              0.08110853015,
              0.4867520446,
              0.54973573
             ]
            },
            {
             "iteration": 150,
             "learn": [
              0.06239831464,
              0.6406521609,
              0.6778558201
             ],
             "passed_time": 158.9775558,
             "remaining_time": 367.438192,
             "test": [
              0.9265027823,
              0.08115061204,
              0.4865209418,
              0.5495729083
             ]
            },
            {
             "iteration": 151,
             "learn": [
              0.06234485365,
              0.6410421695,
              0.6780343915
             ],
             "passed_time": 159.9863349,
             "remaining_time": 366.2845035,
             "test": [
              0.9265327746,
              0.08113326419,
              0.4865373863,
              0.5496492467
             ]
            },
            {
             "iteration": 152,
             "learn": [
              0.06228742256,
              0.6410160291,
              0.6784870559
             ],
             "passed_time": 161.1573022,
             "remaining_time": 365.500548,
             "test": [
              0.926456195,
              0.08118200967,
              0.4858752626,
              0.5493649673
             ]
            },
            {
             "iteration": 153,
             "learn": [
              0.06228289493,
              0.641048323,
              0.6783858655
             ],
             "passed_time": 162.2292567,
             "remaining_time": 364.4891093,
             "test": [
              0.926430168,
              0.08120110579,
              0.4857776644,
              0.5492968119
             ]
            },
            {
             "iteration": 154,
             "learn": [
              0.06226375548,
              0.6411075612,
              0.6786008125
             ],
             "passed_time": 163.0027591,
             "remaining_time": 362.8125928,
             "test": [
              0.9264014508,
              0.08120200521,
              0.485898556,
              0.5490210519
             ]
            },
            {
             "iteration": 155,
             "learn": [
              0.06223526484,
              0.6413209754,
              0.6787743764
             ],
             "passed_time": 163.9944885,
             "remaining_time": 361.6288721,
             "test": [
              0.9264267604,
              0.08119661562,
              0.4864769382,
              0.5489891041
             ]
            },
            {
             "iteration": 156,
             "learn": [
              0.06219993037,
              0.6415309397,
              0.679029006
             ],
             "passed_time": 165.2672353,
             "remaining_time": 361.0615395,
             "test": [
              0.9264240767,
              0.0811920228,
              0.4866387305,
              0.5492019214
             ]
            },
            {
             "iteration": 157,
             "learn": [
              0.06214571545,
              0.6414817037,
              0.6791407785
             ],
             "passed_time": 166.2542085,
             "remaining_time": 359.8667046,
             "test": [
              0.926460946,
              0.08119075968,
              0.4867331318,
              0.5493076294
             ]
            },
            {
             "iteration": 158,
             "learn": [
              0.06210420545,
              0.6418031312,
              0.6795260771
             ],
             "passed_time": 167.4678988,
             "remaining_time": 359.1607138,
             "test": [
              0.9264710773,
              0.08118174902,
              0.486466859,
              0.5492882365
             ]
            },
            {
             "iteration": 159,
             "learn": [
              0.0620656771,
              0.641814992,
              0.6796662887
             ],
             "passed_time": 168.3010078,
             "remaining_time": 357.6396416,
             "test": [
              0.9264719243,
              0.08119188259,
              0.4863167604,
              0.5491075352
             ]
            },
            {
             "iteration": 160,
             "learn": [
              0.06202027213,
              0.6420830148,
              0.6799651361
             ],
             "passed_time": 169.4917147,
             "remaining_time": 356.8800701,
             "test": [
              0.9265718563,
              0.08110158528,
              0.4868899897,
              0.5498584768
             ]
            },
            {
             "iteration": 161,
             "learn": [
              0.06198027111,
              0.6424213351,
              0.6803680083
             ],
             "passed_time": 170.628853,
             "remaining_time": 356.0034094,
             "test": [
              0.926588484,
              0.08109630946,
              0.4868561784,
              0.5499021949
             ]
            },
            {
             "iteration": 162,
             "learn": [
              0.06190558023,
              0.6433922685,
              0.6807780612
             ],
             "passed_time": 171.8159901,
             "remaining_time": 355.2269243,
             "test": [
              0.9266218657,
              0.08110022212,
              0.4865586385,
              0.5500337974
             ]
            },
            {
             "iteration": 163,
             "learn": [
              0.06186402222,
              0.6435441824,
              0.6813230348
             ],
             "passed_time": 173.1118834,
             "remaining_time": 354.6682489,
             "test": [
              0.9265530037,
              0.08114293746,
              0.486578795,
              0.5498268653
             ]
            },
            {
             "iteration": 164,
             "learn": [
              0.06169112771,
              0.6441073862,
              0.6817800454
             ],
             "passed_time": 174.2745075,
             "remaining_time": 353.8300607,
             "test": [
              0.9266678413,
              0.08110805716,
              0.4869483329,
              0.5502382634
             ]
            },
            {
             "iteration": 165,
             "learn": [
              0.06166556659,
              0.6442231374,
              0.6818600718
             ],
             "passed_time": 175.4347558,
             "remaining_time": 352.9831833,
             "test": [
              0.9266429686,
              0.08112242316,
              0.4867320903,
              0.5500455677
             ]
            },
            {
             "iteration": 166,
             "learn": [
              0.06157774272,
              0.6444554204,
              0.6821510771
             ],
             "passed_time": 176.6155245,
             "remaining_time": 352.1734709,
             "test": [
              0.9266333608,
              0.08116723752,
              0.4862955221,
              0.5497199242
             ]
            },
            {
             "iteration": 167,
             "learn": [
              0.0615408701,
              0.6448504437,
              0.6819431217
             ],
             "passed_time": 177.7994522,
             "remaining_time": 351.3655842,
             "test": [
              0.9266738138,
              0.0811529246,
              0.4861295102,
              0.5497744597
             ]
            },
            {
             "iteration": 168,
             "learn": [
              0.06152905639,
              0.6449488979,
              0.6821974679
             ],
             "passed_time": 178.5738326,
             "remaining_time": 349.751116,
             "test": [
              0.9266834736,
              0.0811446366,
              0.4862960601,
              0.5502377029
             ]
            },
            {
             "iteration": 169,
             "learn": [
              0.06143524595,
              0.6455347794,
              0.6827637944
             ],
             "passed_time": 179.5745276,
             "remaining_time": 348.5858477,
             "test": [
              0.9267620137,
              0.08115542119,
              0.4861660467,
              0.5497592705
             ]
            },
            {
             "iteration": 170,
             "learn": [
              0.06140810215,
              0.6456052175,
              0.6831182918
             ],
             "passed_time": 180.4615312,
             "remaining_time": 347.2037648,
             "test": [
              0.9267772415,
              0.08113926941,
              0.4863787636,
              0.5501665209
             ]
            },
            {
             "iteration": 171,
             "learn": [
              0.06137830364,
              0.6455550403,
              0.6833577098
             ],
             "passed_time": 181.4103235,
             "remaining_time": 345.9452681,
             "test": [
              0.9267276882,
              0.08116119537,
              0.4861272017,
              0.550013732
             ]
            },
            {
             "iteration": 172,
             "learn": [
              0.06131432399,
              0.6458087191,
              0.6835263605
             ],
             "passed_time": 182.356413,
             "remaining_time": 344.685243,
             "test": [
              0.9267885893,
              0.08115760014,
              0.4860114108,
              0.5498210923
             ]
            },
            {
             "iteration": 173,
             "learn": [
              0.06119431212,
              0.6461722488,
              0.6839500189
             ],
             "passed_time": 183.3474672,
             "remaining_time": 343.5130707,
             "test": [
              0.926777286,
              0.08117950651,
              0.4862657321,
              0.5498748431
             ]
            },
            {
             "iteration": 174,
             "learn": [
              0.06113563922,
              0.6468468199,
              0.684316421
             ],
             "passed_time": 184.2607861,
             "remaining_time": 342.1986027,
             "test": [
              0.9268275479,
              0.08117050834,
              0.4859682727,
              0.5497420074
             ]
            },
            {
             "iteration": 175,
             "learn": [
              0.06107159206,
              0.6474974967,
              0.6846746032
             ],
             "passed_time": 185.3032121,
             "remaining_time": 341.1263678,
             "test": [
              0.9266923436,
              0.08124565332,
              0.4862503313,
              0.5493233791
             ]
            },
            {
             "iteration": 176,
             "learn": [
              0.06103747703,
              0.6477058736,
              0.6848343726
             ],
             "passed_time": 186.1685945,
             "remaining_time": 339.73139,
             "test": [
              0.926737812,
              0.0812349203,
              0.4857881137,
              0.5493331876
             ]
            },
            {
             "iteration": 177,
             "learn": [
              0.06096452471,
              0.6482148461,
              0.6854248866
             ],
             "passed_time": 187.5114833,
             "remaining_time": 339.2061665,
             "test": [
              0.9267378107,
              0.08124495826,
              0.4856280893,
              0.5492719823
             ]
            },
            {
             "iteration": 178,
             "learn": [
              0.06093747414,
              0.6482519468,
              0.6854172336
             ],
             "passed_time": 188.6731186,
             "remaining_time": 338.3467658,
             "test": [
              0.92673004,
              0.0812378434,
              0.4850511408,
              0.5495756546
             ]
            },
            {
             "iteration": 179,
             "learn": [
              0.0609022737,
              0.6484846673,
              0.6857201436
             ],
             "passed_time": 189.8241358,
             "remaining_time": 337.4651304,
             "test": [
              0.9267134795,
              0.08125143122,
              0.4847787158,
              0.5493928235
             ]
            },
            {
             "iteration": 180,
             "learn": [
              0.06088246733,
              0.6484288576,
              0.685537226
             ],
             "passed_time": 190.6164295,
             "remaining_time": 335.9482929,
             "test": [
              0.9267234459,
              0.08124297088,
              0.4845161925,
              0.5494724688
             ]
            },
            {
             "iteration": 181,
             "learn": [
              0.06085487406,
              0.6486397608,
              0.686111678
             ],
             "passed_time": 191.8187701,
             "remaining_time": 335.155873,
             "test": [
              0.9267144074,
              0.08124770532,
              0.4845878277,
              0.549554244
             ]
            },
            {
             "iteration": 182,
             "learn": [
              0.06081376116,
              0.6488353318,
              0.6863762283
             ],
             "passed_time": 192.702946,
             "remaining_time": 333.8078355,
             "test": [
              0.9267085885,
              0.0812298817,
              0.4841949778,
              0.5495951036
             ]
            },
            {
             "iteration": 183,
             "learn": [
              0.0607626266,
              0.649058296,
              0.68644435
             ],
             "passed_time": 193.7721841,
             "remaining_time": 332.782664,
             "test": [
              0.9267707212,
              0.08121515017,
              0.4841978786,
              0.5497027733
             ]
            },
            {
             "iteration": 184,
             "learn": [
              0.06074018009,
              0.6490939537,
              0.6867940287
             ],
             "passed_time": 194.5758902,
             "remaining_time": 331.304894,
             "test": [
              0.9268055038,
              0.08118738685,
              0.4845805435,
              0.550003419
             ]
            },
            {
             "iteration": 185,
             "learn": [
              0.06070329683,
              0.649546331,
              0.6869937642
             ],
             "passed_time": 195.7512041,
             "remaining_time": 330.4617102,
             "test": [
              0.9268470968,
              0.08118788258,
              0.4845561746,
              0.5498213725
             ]
            },
            {
             "iteration": 186,
             "learn": [
              0.06060216492,
              0.6496965711,
              0.687401455
             ],
             "passed_time": 196.8970997,
             "remaining_time": 329.5657338,
             "test": [
              0.9268819057,
              0.08118947778,
              0.484714266,
              0.5499661465
             ]
            },
            {
             "iteration": 187,
             "learn": [
              0.06056846441,
              0.6504048039,
              0.6877291194
             ],
             "passed_time": 198.10315,
             "remaining_time": 328.7669297,
             "test": [
              0.9269012382,
              0.0811867431,
              0.4846361292,
              0.5501780109
             ]
            },
            {
             "iteration": 188,
             "learn": [
              0.06051970985,
              0.6506078074,
              0.6882856198
             ],
             "passed_time": 199.2367193,
             "remaining_time": 327.8445488,
             "test": [
              0.9269881395,
              0.0811709387,
              0.4847822878,
              0.5500635033
             ]
            },
            {
             "iteration": 189,
             "learn": [
              0.06048159205,
              0.6510495984,
              0.6886623205
             ],
             "passed_time": 200.3444752,
             "remaining_time": 326.8778279,
             "test": [
              0.9270220174,
              0.08117042822,
              0.4846731418,
              0.5499171599
             ]
            },
            {
             "iteration": 190,
             "learn": [
              0.06045551601,
              0.6512704147,
              0.6887465986
             ],
             "passed_time": 201.4210752,
             "remaining_time": 325.8592264,
             "test": [
              0.9270506695,
              0.08116947269,
              0.4849182457,
              0.5499973657
             ]
            },
            {
             "iteration": 191,
             "learn": [
              0.06042538128,
              0.6514224305,
              0.6889218632
             ],
             "passed_time": 202.6958764,
             "remaining_time": 325.1579684,
             "test": [
              0.9269998439,
              0.0812819774,
              0.4839808597,
              0.548910804
             ]
            },
            {
             "iteration": 192,
             "learn": [
              0.06038829741,
              0.6515780359,
              0.6892091837
             ],
             "passed_time": 203.7574558,
             "remaining_time": 324.1116008,
             "test": [
              0.927071958,
              0.08125265297,
              0.4837912115,
              0.549075195
             ]
            },
            {
             "iteration": 193,
             "learn": [
              0.0603762644,
              0.6515995163,
              0.6892568027
             ],
             "passed_time": 204.9876314,
             "remaining_time": 323.3310062,
             "test": [
              0.92710352,
              0.08123853745,
              0.4835006749,
              0.5492080307
             ]
            },
            {
             "iteration": 194,
             "learn": [
              0.06029681951,
              0.6516384265,
              0.6891639267
             ],
             "passed_time": 206.09607,
             "remaining_time": 322.3553916,
             "test": [
              0.9270375714,
              0.08126276783,
              0.4834952604,
              0.5490551856
             ]
            },
            {
             "iteration": 195,
             "learn": [
              0.06028199367,
              0.651738397,
              0.6891877362
             ],
             "passed_time": 207.2606314,
             "remaining_time": 321.4654691,
             "test": [
              0.9269575735,
              0.08131333732,
              0.4835814425,
              0.5487605372
             ]
            },
            {
             "iteration": 196,
             "learn": [
              0.06025956672,
              0.6523724261,
              0.6894364135
             ],
             "passed_time": 208.4703748,
             "remaining_time": 320.6422515,
             "test": [
              0.9269823296,
              0.08130257055,
              0.4835896779,
              0.5487781925
             ]
            },
            {
             "iteration": 197,
             "learn": [
              0.06020003018,
              0.6525059666,
              0.6897644558
             ],
             "passed_time": 209.4977167,
             "remaining_time": 319.5369214,
             "test": [
              0.926834365,
              0.08141084919,
              0.4834218487,
              0.5479454757
             ]
            },
            {
             "iteration": 198,
             "learn": [
              0.06017137415,
              0.6530015515,
              0.689835223
             ],
             "passed_time": 210.4621452,
             "remaining_time": 318.3372146,
             "test": [
              0.9267716524,
              0.08142023086,
              0.482796017,
              0.5479737243
             ]
            },
            {
             "iteration": 199,
             "learn": [
              0.06014918359,
              0.6532475865,
              0.6897833522
             ],
             "passed_time": 211.4770968,
             "remaining_time": 317.2156452,
             "test": [
              0.9267541404,
              0.08142735495,
              0.4831690974,
              0.5477287351
             ]
            },
            {
             "iteration": 200,
             "learn": [
              0.06012797199,
              0.6532975231,
              0.6898693311
             ],
             "passed_time": 212.34819,
             "remaining_time": 315.8811384,
             "test": [
              0.9267976551,
              0.08140167651,
              0.4830644605,
              0.5480910344
             ]
            },
            {
             "iteration": 201,
             "learn": [
              0.06007930945,
              0.6536780392,
              0.6902249622
             ],
             "passed_time": 213.3674729,
             "remaining_time": 314.7698362,
             "test": [
              0.9267985261,
              0.08140427203,
              0.4830753161,
              0.5480470922
             ]
            },
            {
             "iteration": 202,
             "learn": [
              0.06005087726,
              0.6539310427,
              0.6903684807
             ],
             "passed_time": 214.3869104,
             "remaining_time": 313.6596669,
             "test": [
              0.9267584677,
              0.08142202397,
              0.4829020242,
              0.5479704175
             ]
            },
            {
             "iteration": 203,
             "learn": [
              0.06002159438,
              0.6542527022,
              0.6906568405
             ],
             "passed_time": 215.6250018,
             "remaining_time": 312.8676496,
             "test": [
              0.9267707377,
              0.08141909703,
              0.4828558194,
              0.5479829724
             ]
            },
            {
             "iteration": 204,
             "learn": [
              0.06000202137,
              0.6544424568,
              0.6907629441
             ],
             "passed_time": 216.6022851,
             "remaining_time": 311.6959713,
             "test": [
              0.926774295,
              0.08139791577,
              0.4833679731,
              0.5480437853
             ]
            },
            {
             "iteration": 205,
             "learn": [
              0.05993868708,
              0.6545118442,
              0.6908886054
             ],
             "passed_time": 217.6810586,
             "remaining_time": 310.6710254,
             "test": [
              0.9267320162,
              0.08146695271,
              0.4831330049,
              0.5478350596
             ]
            },
            {
             "iteration": 206,
             "learn": [
              0.05987218846,
              0.655083003,
              0.6909286659
             ],
             "passed_time": 218.9766772,
             "remaining_time": 309.9524948,
             "test": [
              0.9267634553,
              0.08148047,
              0.4832172448,
              0.5477809165
             ]
            },
            {
             "iteration": 207,
             "learn": [
              0.05979811086,
              0.6550603667,
              0.6914688209
             ],
             "passed_time": 219.9947797,
             "remaining_time": 308.8388253,
             "test": [
              0.9268139047,
              0.081477464,
              0.4829149095,
              0.547624092
             ]
            },
            {
             "iteration": 208,
             "learn": [
              0.05971868482,
              0.6547775259,
              0.6919946145
             ],
             "passed_time": 221.0459767,
             "remaining_time": 307.7721494,
             "test": [
              0.9271438168,
              0.08140519384,
              0.4828653374,
              0.5480880078
             ]
            },
            {
             "iteration": 209,
             "learn": [
              0.05969127704,
              0.6552083954,
              0.692095805
             ],
             "passed_time": 222.2831945,
             "remaining_time": 306.9625067,
             "test": [
              0.9271236693,
              0.08140575192,
              0.4827477424,
              0.5479120707
             ]
            },
            {
             "iteration": 210,
             "learn": [
              0.05966340866,
              0.6555007525,
              0.6923824641
             ],
             "passed_time": 223.2581125,
             "remaining_time": 305.7895474,
             "test": [
              0.927113853,
              0.08140101091,
              0.4830842632,
              0.5477834387
             ]
            },
            {
             "iteration": 211,
             "learn": [
              0.05963396461,
              0.6556776011,
              0.6924743953
             ],
             "passed_time": 224.1689593,
             "remaining_time": 304.5314164,
             "test": [
              0.9270526966,
              0.08143080062,
              0.4829367857,
              0.5477065398
             ]
            },
            {
             "iteration": 212,
             "learn": [
              0.05958401471,
              0.6559394508,
              0.6928484505
             ],
             "passed_time": 225.3028066,
             "remaining_time": 303.5770211,
             "test": [
              0.9270499339,
              0.08141253586,
              0.4828932194,
              0.5478675679
             ]
            },
            {
             "iteration": 213,
             "learn": [
              0.05948519194,
              0.6566617535,
              0.6934294218
             ],
             "passed_time": 226.5700318,
             "remaining_time": 302.7992013,
             "test": [
              0.9270121391,
              0.08142019782,
              0.4830943582,
              0.5483463927
             ]
            },
            {
             "iteration": 214,
             "learn": [
              0.0593562866,
              0.6566515298,
              0.6937307256
             ],
             "passed_time": 227.6402792,
             "remaining_time": 301.7557189,
             "test": [
              0.9270662086,
              0.08141877979,
              0.4834606099,
              0.5485278226
             ]
            },
            {
             "iteration": 215,
             "learn": [
              0.05934604862,
              0.6569093102,
              0.6937816515
             ],
             "passed_time": 228.6525545,
             "remaining_time": 300.6357661,
             "test": [
              0.92707763,
              0.08141133448,
              0.4835216804,
              0.5485858892
             ]
            },
            {
             "iteration": 216,
             "learn": [
              0.0593004263,
              0.6569995087,
              0.6942468821
             ],
             "passed_time": 229.6909644,
             "remaining_time": 299.5508891,
             "test": [
              0.9269998617,
              0.08144008748,
              0.4834612618,
              0.5484621334
             ]
            },
            {
             "iteration": 217,
             "learn": [
              0.05926698101,
              0.6575472962,
              0.6943659297
             ],
             "passed_time": 230.7361101,
             "remaining_time": 298.4751516,
             "test": [
              0.9269101631,
              0.08149260134,
              0.4817719895,
              0.54845821
             ]
            },
            {
             "iteration": 218,
             "learn": [
              0.05918164697,
              0.6576150067,
              0.6948602608
             ],
             "passed_time": 231.8755237,
             "remaining_time": 297.5206492,
             "test": [
              0.9269926789,
              0.08146527494,
              0.4813604824,
              0.5486171644
             ]
            },
            {
             "iteration": 219,
             "learn": [
              0.0591681014,
              0.6578841602,
              0.694864607
             ],
             "passed_time": 232.9878992,
             "remaining_time": 296.5300535,
             "test": [
              0.9270047376,
              0.08146185482,
              0.4814825779,
              0.5486756233
             ]
            },
            {
             "iteration": 220,
             "learn": [
              0.05913211255,
              0.6580059524,
              0.6952167423
             ],
             "passed_time": 234.1426832,
             "remaining_time": 295.5918942,
             "test": [
              0.9269711125,
              0.08147970654,
              0.4815637056,
              0.5486720922
             ]
            },
            {
             "iteration": 221,
             "learn": [
              0.05911563871,
              0.6580138128,
              0.6952720144
             ],
             "passed_time": 235.256583,
             "remaining_time": 294.6005859,
             "test": [
              0.9269277322,
              0.08148794711,
              0.4815827125,
              0.5486803314
             ]
            },
            {
             "iteration": 222,
             "learn": [
              0.05906642517,
              0.6582715608,
              0.6954125094
             ],
             "passed_time": 236.3750758,
             "remaining_time": 293.6138834,
             "test": [
              0.9269421326,
              0.08147887878,
              0.4817365565,
              0.5485950251
             ]
            },
            {
             "iteration": 223,
             "learn": [
              0.05900025087,
              0.6586501972,
              0.6956974679
             ],
             "passed_time": 237.5701739,
             "remaining_time": 292.7203928,
             "test": [
              0.9268859824,
              0.08154342119,
              0.4815951223,
              0.5482443279
             ]
            },
            {
             "iteration": 224,
             "learn": [
              0.05899249356,
              0.6584298431,
              0.6956884921
             ],
             "passed_time": 238.3377092,
             "remaining_time": 291.3016446,
             "test": [
              0.9269014209,
              0.08153518514,
              0.481467593,
              0.5482482513
             ]
            },
            {
             "iteration": 225,
             "learn": [
              0.05893854461,
              0.6586792481,
              0.6958611111
             ],
             "passed_time": 239.4559536,
             "remaining_time": 290.3138552,
             "test": [
              0.9269328908,
              0.08152368345,
              0.4816046252,
              0.5481150233
             ]
            },
            {
             "iteration": 226,
             "learn": [
              0.05882949089,
              0.6589306436,
              0.6963871882
             ],
             "passed_time": 240.8152506,
             "remaining_time": 289.6148168,
             "test": [
              0.9269841409,
              0.08151649246,
              0.4818485754,
              0.5483212828
             ]
            },
            {
             "iteration": 227,
             "learn": [
              0.05880305704,
              0.6592896663,
              0.6964830877
             ],
             "passed_time": 241.9761058,
             "remaining_time": 288.6732491,
             "test": [
              0.9269694666,
              0.08151995599,
              0.4818535864,
              0.5482010022
             ]
            },
            {
             "iteration": 228,
             "learn": [
              0.05879040491,
              0.6594387186,
              0.6966848073
             ],
             "passed_time": 243.3372037,
             "remaining_time": 287.9667345,
             "test": [
              0.9269570202,
              0.08152789602,
              0.4818141484,
              0.5482021792
             ]
            },
            {
             "iteration": 229,
             "learn": [
              0.05874047364,
              0.6591277694,
              0.6967109788
             ],
             "passed_time": 244.5495622,
             "remaining_time": 287.0799208,
             "test": [
              0.9270907082,
              0.08149450507,
              0.4817846506,
              0.5482751547
             ]
            },
            {
             "iteration": 230,
             "learn": [
              0.05863915549,
              0.6602724245,
              0.6974407596
             ],
             "passed_time": 245.9579641,
             "remaining_time": 286.4185816,
             "test": [
              0.9270898687,
              0.08152323393,
              0.4794309425,
              0.5484135391
             ]
            },
            {
             "iteration": 231,
             "learn": [
              0.05861544922,
              0.6603333185,
              0.6975359977
             ],
             "passed_time": 247.0556093,
             "remaining_time": 285.3918246,
             "test": [
              0.9271361368,
              0.08150075411,
              0.4793439059,
              0.5484860663
             ]
            },
            {
             "iteration": 232,
             "learn": [
              0.05856789475,
              0.6605714626,
              0.6974715608
             ],
             "passed_time": 248.084758,
             "remaining_time": 284.2859673,
             "test": [
              0.9271194144,
              0.08153402848,
              0.479111278,
              0.54837083
             ]
            },
            {
             "iteration": 233,
             "learn": [
              0.05854905116,
              0.6607010138,
              0.6972199546
             ],
             "passed_time": 249.1349361,
             "remaining_time": 283.2046709,
             "test": [
              0.9270753147,
              0.0815558471,
              0.4788573688,
              0.5484173505
             ]
            },
            {
             "iteration": 234,
             "learn": [
              0.05854064683,
              0.6606524485,
              0.6974957483
             ],
             "passed_time": 250.2464418,
             "remaining_time": 282.1927961,
             "test": [
              0.9270955827,
              0.08155373994,
              0.4788852103,
              0.5485362299
             ]
            },
            {
             "iteration": 235,
             "learn": [
              0.05853759063,
              0.6605831822,
              0.6975466742
             ],
             "passed_time": 251.1993527,
             "remaining_time": 281.0026657,
             "test": [
              0.9270868293,
              0.08155674961,
              0.4788234015,
              0.5484440297
             ]
            },
            {
             "iteration": 236,
             "learn": [
              0.0585038252,
              0.6608713742,
              0.6976485261
             ],
             "passed_time": 252.3421852,
             "remaining_time": 280.0252941,
             "test": [
              0.9269161104,
              0.08159584425,
              0.4788849348,
              0.5484092794
             ]
            },
            {
             "iteration": 237,
             "learn": [
              0.05847728809,
              0.6610592641,
              0.697837774
             ],
             "passed_time": 253.5335993,
             "remaining_time": 279.1000127,
             "test": [
              0.9269006725,
              0.08159715089,
              0.4790113693,
              0.5485388082
             ]
            },
            {
             "iteration": 238,
             "learn": [
              0.05844861138,
              0.6613365829,
              0.6981641156
             ],
             "passed_time": 254.6824633,
             "remaining_time": 278.1260373,
             "test": [
              0.9268914118,
              0.08160707386,
              0.4791522508,
              0.5485988364
             ]
            },
            {
             "iteration": 239,
             "learn": [
              0.05842566877,
              0.6612582093,
              0.6982850529
             ],
             "passed_time": 255.797026,
             "remaining_time": 277.1134449,
             "test": [
              0.9269088328,
              0.08159317218,
              0.4791998181,
              0.5484927361
             ]
            },
            {
             "iteration": 240,
             "learn": [
              0.05841395416,
              0.6616358181,
              0.6982883598
             ],
             "passed_time": 256.6250954,
             "remaining_time": 275.792115,
             "test": [
              0.9269092831,
              0.08159751424,
              0.4790945933,
              0.548320274
             ]
            },
            {
             "iteration": 241,
             "learn": [
              0.05838960685,
              0.6616170617,
              0.6986130952
             ],
             "passed_time": 257.7740073,
             "remaining_time": 274.8169168,
             "test": [
              0.926919701,
              0.08159817102,
              0.4791396914,
              0.548339891
             ]
            },
            {
             "iteration": 242,
             "learn": [
              0.05836793655,
              0.6618051121,
              0.6988575208
             ],
             "passed_time": 258.6753189,
             "remaining_time": 273.5784237,
             "test": [
              0.9268996834,
              0.08161013252,
              0.4791816969,
              0.5483744171
             ]
            },
            {
             "iteration": 243,
             "learn": [
              0.05834933284,
              0.6619835447,
              0.6989297052
             ],
             "passed_time": 259.6236413,
             "remaining_time": 272.3920171,
             "test": [
              0.9268552072,
              0.08163512442,
              0.4791326949,
              0.5482055982
             ]
            },
            {
             "iteration": 244,
             "learn": [
              0.05833554268,
              0.662043568,
              0.6990490363
             ],
             "passed_time": 260.6091209,
             "remaining_time": 271.2462279,
             "test": [
              0.9268190528,
              0.08165225653,
              0.4791658431,
              0.5483405636
             ]
            },
            {
             "iteration": 245,
             "learn": [
              0.0582746461,
              0.6624502643,
              0.6993407029
             ],
             "passed_time": 261.8239558,
             "remaining_time": 270.338556,
             "test": [
              0.9267432001,
              0.08169995344,
              0.4791625479,
              0.5481736503
             ]
            },
            {
             "iteration": 246,
             "learn": [
              0.05825554588,
              0.6625593824,
              0.6993797241
             ],
             "passed_time": 262.7289443,
             "remaining_time": 269.1110239,
             "test": [
              0.9267080845,
              0.08170683986,
              0.4791703739,
              0.5480214218
             ]
            },
            {
             "iteration": 247,
             "learn": [
              0.05824229415,
              0.6630049137,
              0.6994316893
             ],
             "passed_time": 263.9166613,
             "remaining_time": 268.1733816,
             "test": [
              0.9267522758,
              0.08169830799,
              0.4789503866,
              0.5479417765
             ]
            },
            {
             "iteration": 248,
             "learn": [
              0.05822712637,
              0.6629652173,
              0.6994528534
             ],
             "passed_time": 265.2586977,
             "remaining_time": 267.3892896,
             "test": [
              0.9267993328,
              0.08169945239,
              0.478693842,
              0.5478866245
             ]
            },
            {
             "iteration": 249,
             "learn": [
              0.05820469798,
              0.6630938242,
              0.6995262661
             ],
             "passed_time": 266.3000362,
             "remaining_time": 266.3000362,
             "test": [
              0.9268366851,
              0.08168693018,
              0.4785787063,
              0.5480592548
             ]
            },
            {
             "iteration": 250,
             "learn": [
              0.05818485735,
              0.6633022621,
              0.6996684618
             ],
             "passed_time": 267.5235745,
             "remaining_time": 265.3919125,
             "test": [
              0.9267993381,
              0.08171674091,
              0.4781752511,
              0.5479207582
             ]
            },
            {
             "iteration": 251,
             "learn": [
              0.05810681502,
              0.6640666706,
              0.7001026077
             ],
             "passed_time": 268.8074191,
             "remaining_time": 264.5406347,
             "test": [
              0.9267497344,
              0.0817076717,
              0.4790764791,
              0.5485082616
             ]
            },
            {
             "iteration": 252,
             "learn": [
              0.05808321341,
              0.6643527789,
              0.7004101474
             ],
             "passed_time": 269.8868173,
             "remaining_time": 263.4863395,
             "test": [
              0.9267019016,
              0.08174956469,
              0.4783472938,
              0.5484137633
             ]
            },
            {
             "iteration": 253,
             "learn": [
              0.05806945249,
              0.6644023553,
              0.70050274
             ],
             "passed_time": 270.9673558,
             "remaining_time": 262.4329509,
             "test": [
              0.9266721311,
              0.08176336612,
              0.4782789318,
              0.5481897363
             ]
            },
            {
             "iteration": 254,
             "learn": [
              0.0580360904,
              0.6646799804,
              0.7007781557
             ],
             "passed_time": 272.0940457,
             "remaining_time": 261.423691,
             "test": [
              0.9266119141,
              0.08179361672,
              0.4782359339,
              0.5483086158
             ]
            },
            {
             "iteration": 255,
             "learn": [
              0.05800035169,
              0.6648383415,
              0.7011984127
             ],
             "passed_time": 273.1643114,
             "remaining_time": 260.3597343,
             "test": [
              0.9266051396,
              0.08181239128,
              0.4778584284,
              0.548183627
             ]
            },
            {
             "iteration": 256,
             "learn": [
              0.05796182662,
              0.6648584556,
              0.7014914021
             ],
             "passed_time": 274.3071144,
             "remaining_time": 259.3643144,
             "test": [
              0.9264819379,
              0.08185279275,
              0.4780295839,
              0.5482821047
             ]
            },
            {
             "iteration": 257,
             "learn": [
              0.05791661634,
              0.6652644676,
              0.7014002268
             ],
             "passed_time": 275.4175256,
             "remaining_time": 258.337369,
             "test": [
              0.926584704,
              0.0818312673,
              0.4784705069,
              0.5484424043
             ]
            },
            {
             "iteration": 258,
             "learn": [
              0.05784230201,
              0.6657782516,
              0.7019199735
             ],
             "passed_time": 276.5893229,
             "remaining_time": 257.3668989,
             "test": [
              0.9266247166,
              0.08183781942,
              0.4784919678,
              0.5483331091
             ]
            },
            {
             "iteration": 259,
             "learn": [
              0.05778960345,
              0.6661731612,
              0.7019914021
             ],
             "passed_time": 277.5667442,
             "remaining_time": 256.2154562,
             "test": [
              0.9267411146,
              0.08180630253,
              0.4786534168,
              0.5484212178
             ]
            },
            {
             "iteration": 260,
             "learn": [
              0.05775644434,
              0.6661235373,
              0.7019881897
             ],
             "passed_time": 278.6049794,
             "remaining_time": 255.1210348,
             "test": [
              0.926727824,
              0.08180056679,
              0.478617446,
              0.5485857771
             ]
            },
            {
             "iteration": 261,
             "learn": [
              0.05772678047,
              0.6664592961,
              0.7020801209
             ],
             "passed_time": 279.6192357,
             "remaining_time": 254.0052599,
             "test": [
              0.9267464277,
              0.08178555779,
              0.4785736875,
              0.5486281499
             ]
            },
            {
             "iteration": 262,
             "learn": [
              0.0576672133,
              0.6665382963,
              0.702521542
             ],
             "passed_time": 280.7402477,
             "remaining_time": 252.9864589,
             "test": [
              0.9267811553,
              0.08179097196,
              0.4783717528,
              0.548406477
             ]
            },
            {
             "iteration": 263,
             "learn": [
              0.05760350354,
              0.6669134632,
              0.7032087113
             ],
             "passed_time": 281.9214289,
             "remaining_time": 252.0206713,
             "test": [
              0.9268443647,
              0.08179966607,
              0.4778915097,
              0.5483056452
             ]
            },
            {
             "iteration": 264,
             "learn": [
              0.05758710574,
              0.66724896,
              0.7033568594
             ],
             "passed_time": 283.0561442,
             "remaining_time": 251.0120524,
             "test": [
              0.9268582094,
              0.08179292156,
              0.4779788391,
              0.5483186486
             ]
            },
            {
             "iteration": 265,
             "learn": [
              0.05751140862,
              0.6676821153,
              0.7035945767
             ],
             "passed_time": 284.2198328,
             "remaining_time": 250.0279733,
             "test": [
              0.926832603,
              0.08185942785,
              0.4781353788,
              0.5478403843
             ]
            },
            {
             "iteration": 266,
             "learn": [
              0.05748938997,
              0.6678895283,
              0.7035745465
             ],
             "passed_time": 285.3000023,
             "remaining_time": 248.9696649,
             "test": [
              0.9268376375,
              0.08185138196,
              0.4780726036,
              0.5479108376
             ]
            },
            {
             "iteration": 267,
             "learn": [
              0.05746504044,
              0.6681555983,
              0.7038629063
             ],
             "passed_time": 286.7022286,
             "remaining_time": 248.189989,
             "test": [
              0.9268275698,
              0.08185299502,
              0.4782900981,
              0.5477198233
             ]
            },
            {
             "iteration": 268,
             "learn": [
              0.0574303087,
              0.6681461098,
              0.703742158
             ],
             "passed_time": 287.9644229,
             "remaining_time": 247.2854338,
             "test": [
              0.9268053433,
              0.08185284061,
              0.4784616145,
              0.5476786275
             ]
            },
            {
             "iteration": 269,
             "learn": [
              0.05740700201,
              0.6682050144,
              0.7038698035
             ],
             "passed_time": 289.2698542,
             "remaining_time": 246.415061,
             "test": [
              0.9268139676,
              0.0818522222,
              0.4783300867,
              0.5478416734
             ]
            },
            {
             "iteration": 270,
             "learn": [
              0.05739337839,
              0.6685405725,
              0.7040036848
             ],
             "passed_time": 290.5182557,
             "remaining_time": 245.4932862,
             "test": [
              0.9268403921,
              0.08182732871,
              0.4783760802,
              0.548081394
             ]
            },
            {
             "iteration": 271,
             "learn": [
              0.05735277048,
              0.6690429355,
              0.7039862056
             ],
             "passed_time": 291.4112135,
             "remaining_time": 244.2711643,
             "test": [
              0.9269314848,
              0.08180945327,
              0.478351168,
              0.5479528742
             ]
            },
            {
             "iteration": 272,
             "learn": [
              0.05730415023,
              0.6691906121,
              0.7041575019
             ],
             "passed_time": 292.2699478,
             "remaining_time": 243.0229969,
             "test": [
              0.9269321375,
              0.08181510355,
              0.478302148,
              0.5479700812
             ]
            },
            {
             "iteration": 273,
             "learn": [
              0.05721941291,
              0.6699195647,
              0.7045011338
             ],
             "passed_time": 293.3834918,
             "remaining_time": 241.9878436,
             "test": [
              0.9268686473,
              0.08184729061,
              0.4782604394,
              0.5482243745
             ]
            },
            {
             "iteration": 274,
             "learn": [
              0.05721379495,
              0.6699695347,
              0.7044541761
             ],
             "passed_time": 294.1635842,
             "remaining_time": 240.6792962,
             "test": [
              0.926917372,
              0.08184318376,
              0.4782234532,
              0.5482776769
             ]
            },
            {
             "iteration": 275,
             "learn": [
              0.05718637003,
              0.6700477592,
              0.7044819539
             ],
             "passed_time": 295.3005257,
             "remaining_time": 239.6641948,
             "test": [
              0.9268632609,
              0.08187313331,
              0.4782040881,
              0.5479198614
             ]
            },
            {
             "iteration": 276,
             "learn": [
              0.05715217486,
              0.670352249,
              0.7049283825
             ],
             "passed_time": 296.666926,
             "remaining_time": 238.8329404,
             "test": [
              0.9268582993,
              0.08193090527,
              0.4779167326,
              0.5476558156
             ]
            },
            {
             "iteration": 277,
             "learn": [
              0.057107209,
              0.6706165689,
              0.7050659486
             ],
             "passed_time": 297.8831864,
             "remaining_time": 237.8779402,
             "test": [
              0.9267475227,
              0.08201902897,
              0.4778841589,
              0.5473300601
             ]
            },
            {
             "iteration": 278,
             "learn": [
              0.05709663593,
              0.6707727756,
              0.7050037793
             ],
             "passed_time": 298.9012935,
             "remaining_time": 236.764107,
             "test": [
              0.926754201,
              0.08201146658,
              0.4780544732,
              0.547090956
             ]
            },
            {
             "iteration": 279,
             "learn": [
              0.05699665052,
              0.6715985943,
              0.7054442555
             ],
             "passed_time": 300.0756347,
             "remaining_time": 235.773713,
             "test": [
              0.9267097866,
              0.08204742141,
              0.4780333383,
              0.5468245
             ]
            },
            {
             "iteration": 280,
             "learn": [
              0.05696429013,
              0.6715886774,
              0.7057269463
             ],
             "passed_time": 301.2814045,
             "remaining_time": 234.8065039,
             "test": [
              0.9267128023,
              0.08204621607,
              0.4782234532,
              0.5468707963
             ]
            },
            {
             "iteration": 281,
             "learn": [
              0.056939689,
              0.6715794137,
              0.7060274943
             ],
             "passed_time": 302.296001,
             "remaining_time": 233.6898164,
             "test": [
              0.9267655969,
              0.08203438532,
              0.478162375,
              0.5467613891
             ]
            },
            {
             "iteration": 282,
             "learn": [
              0.05690532609,
              0.6718429404,
              0.70606387
             ],
             "passed_time": 303.524646,
             "remaining_time": 232.7379794,
             "test": [
              0.9267817085,
              0.08204747896,
              0.4778225208,
              0.5465985674
             ]
            },
            {
             "iteration": 283,
             "learn": [
              0.05690071706,
              0.6719312747,
              0.7059022109
             ],
             "passed_time": 304.4878325,
             "remaining_time": 231.5822951,
             "test": [
              0.9268012156,
              0.08203829992,
              0.4779016731,
              0.5467034907
             ]
            },
            {
             "iteration": 284,
             "learn": [
              0.05689124546,
              0.6721275183,
              0.7056608088
             ],
             "passed_time": 305.8922074,
             "remaining_time": 230.7607881,
             "test": [
              0.9267998274,
              0.08204075699,
              0.4781219394,
              0.5467048359
             ]
            },
            {
             "iteration": 285,
             "learn": [
              0.0568767891,
              0.6720094458,
              0.7058896447
             ],
             "passed_time": 306.7855406,
             "remaining_time": 229.5528171,
             "test": [
              0.9268324482,
              0.08203862236,
              0.4777864612,
              0.5467558403
             ]
            },
            {
             "iteration": 286,
             "learn": [
              0.05684181786,
              0.6720111023,
              0.7063506236
             ],
             "passed_time": 307.7772052,
             "remaining_time": 228.4200164,
             "test": [
              0.9267673922,
              0.08207294418,
              0.4774855017,
              0.5465589409
             ]
            },
            {
             "iteration": 287,
             "learn": [
              0.05679687175,
              0.6724560626,
              0.7069650416
             ],
             "passed_time": 308.8046927,
             "remaining_time": 227.3145655,
             "test": [
              0.9268058861,
              0.08203876006,
              0.4772065379,
              0.5467964196
             ]
            },
            {
             "iteration": 288,
             "learn": [
              0.0567730804,
              0.6725444154,
              0.7070000945
             ],
             "passed_time": 309.7662251,
             "remaining_time": 226.1615,
             "test": [
              0.9268065043,
              0.0820539934,
              0.4767680371,
              0.5466826966
             ]
            },
            {
             "iteration": 289,
             "learn": [
              0.05674352821,
              0.6731223429,
              0.7074848828
             ],
             "passed_time": 310.8321703,
             "remaining_time": 225.0853647,
             "test": [
              0.9267420248,
              0.08207639846,
              0.4768511178,
              0.5467913752
             ]
            },
            {
             "iteration": 290,
             "learn": [
              0.05670645586,
              0.6733781091,
              0.7076039305
             ],
             "passed_time": 311.8712712,
             "remaining_time": 223.9900195,
             "test": [
              0.9267988661,
              0.08207277685,
              0.4769096603,
              0.5468837436
             ]
            },
            {
             "iteration": 291,
             "learn": [
              0.05667455148,
              0.6734260161,
              0.7076769652
             ],
             "passed_time": 312.9809742,
             "remaining_time": 222.9453515,
             "test": [
              0.9267595968,
              0.08209192244,
              0.4769569268,
              0.5467803897
             ]
            },
            {
             "iteration": 292,
             "learn": [
              0.05665259314,
              0.6738485604,
              0.7078251134
             ],
             "passed_time": 314.1394452,
             "remaining_time": 221.9346934,
             "test": [
              0.9267356786,
              0.08211946912,
              0.4767294351,
              0.5464663483
             ]
            },
            {
             "iteration": 293,
             "learn": [
              0.05661912188,
              0.6740458691,
              0.708274093
             ],
             "passed_time": 315.217128,
             "remaining_time": 220.866423,
             "test": [
              0.9267600688,
              0.08210947982,
              0.4770353044,
              0.5465071518
             ]
            },
            {
             "iteration": 294,
             "learn": [
              0.05654715288,
              0.6749579534,
              0.7090878685
             ],
             "passed_time": 316.3029991,
             "remaining_time": 219.8037791,
             "test": [
              0.9266824469,
              0.08215663666,
              0.4763661975,
              0.54628447
             ]
            },
            {
             "iteration": 295,
             "learn": [
              0.05651610323,
              0.6750855659,
              0.7090250378
             ],
             "passed_time": 317.1938239,
             "remaining_time": 218.6065543,
             "test": [
              0.9266890581,
              0.08220819491,
              0.476437973,
              0.5458301386
             ]
            },
            {
             "iteration": 296,
             "learn": [
              0.05648831219,
              0.675252637,
              0.7093365457
             ],
             "passed_time": 318.3378597,
             "remaining_time": 217.5844631,
             "test": [
              0.9266618651,
              0.0822421247,
              0.4759750375,
              0.5454401511
             ]
            },
            {
             "iteration": 297,
             "learn": [
              0.05647429178,
              0.6755400779,
              0.7093391912
             ],
             "passed_time": 319.2537744,
             "remaining_time": 216.4069209,
             "test": [
              0.9266379805,
              0.08227810232,
              0.4756366235,
              0.5452426352
             ]
            },
            {
             "iteration": 298,
             "learn": [
              0.05645323323,
              0.6755488669,
              0.7094145881
             ],
             "passed_time": 320.3572748,
             "remaining_time": 215.3572315,
             "test": [
              0.9266366378,
              0.08228944079,
              0.4753576002,
              0.5451504349
             ]
            },
            {
             "iteration": 299,
             "learn": [
              0.05641820746,
              0.6759894381,
              0.7093431595
             ],
             "passed_time": 321.522544,
             "remaining_time": 214.3483626,
             "test": [
              0.9266611743,
              0.08228375357,
              0.4756553935,
              0.5451622052
             ]
            },
            {
             "iteration": 300,
             "learn": [
              0.05638463371,
              0.6765451757,
              0.7095891912
             ],
             "passed_time": 322.5321399,
             "remaining_time": 213.2355344,
             "test": [
              0.9266151396,
              0.08230497877,
              0.4747725557,
              0.5450315555
             ]
            },
            {
             "iteration": 301,
             "learn": [
              0.05637752023,
              0.6764545468,
              0.7096903817
             ],
             "passed_time": 323.7470663,
             "remaining_time": 212.2580104,
             "test": [
              0.9266247148,
              0.08230120075,
              0.4748880215,
              0.5449577953
             ]
            },
            {
             "iteration": 302,
             "learn": [
              0.05636876311,
              0.6766006367,
              0.7099086357
             ],
             "passed_time": 324.7106821,
             "remaining_time": 211.115526,
             "test": [
              0.9266313115,
              0.0822997545,
              0.4751037756,
              0.5451382163
             ]
            },
            {
             "iteration": 303,
             "learn": [
              0.056314308,
              0.6769661679,
              0.7099777967
             ],
             "passed_time": 325.8457602,
             "remaining_time": 210.0847664,
             "test": [
              0.9264838859,
              0.08240550573,
              0.4743798696,
              0.5444282463
             ]
            },
            {
             "iteration": 304,
             "learn": [
              0.05628424978,
              0.676948028,
              0.7100260771
             ],
             "passed_time": 326.8626607,
             "remaining_time": 208.9777667,
             "test": [
              0.9264619393,
              0.08242022914,
              0.4738998151,
              0.5442458076
             ]
            },
            {
             "iteration": 305,
             "learn": [
              0.05625435754,
              0.6772424368,
              0.7102826909
             ],
             "passed_time": 328.0314126,
             "remaining_time": 207.9676276,
             "test": [
              0.9264352123,
              0.08242935122,
              0.4739176262,
              0.544385313
             ]
            },
            {
             "iteration": 306,
             "learn": [
              0.05624827648,
              0.6772904843,
              0.7102139078
             ],
             "passed_time": 329.1454047,
             "remaining_time": 206.9220297,
             "test": [
              0.9264423885,
              0.08242424089,
              0.4740505071,
              0.5444057147
             ]
            },
            {
             "iteration": 307,
             "learn": [
              0.05622767634,
              0.6776698743,
              0.7105948602
             ],
             "passed_time": 330.1345402,
             "remaining_time": 205.7981549,
             "test": [
              0.9264494604,
              0.08242537562,
              0.4745126096,
              0.5443190073
             ]
            },
            {
             "iteration": 308,
             "learn": [
              0.05620193442,
              0.6779161447,
              0.7107939342
             ],
             "passed_time": 331.0636883,
             "remaining_time": 204.6380727,
             "test": [
              0.9264497931,
              0.08246571786,
              0.4732396048,
              0.5444529639
             ]
            },
            {
             "iteration": 309,
             "learn": [
              0.056176978,
              0.6782483129,
              0.7111232993
             ],
             "passed_time": 332.204541,
             "remaining_time": 203.6092348,
             "test": [
              0.9264440229,
              0.08247583663,
              0.4731321896,
              0.5446091158
             ]
            },
            {
             "iteration": 310,
             "learn": [
              0.05615730892,
              0.6783367224,
              0.7111206538
             ],
             "passed_time": 333.4113476,
             "remaining_time": 202.6197579,
             "test": [
              0.9264415337,
              0.08247287911,
              0.4728749291,
              0.5445683123
             ]
            },
            {
             "iteration": 311,
             "learn": [
              0.05613678399,
              0.6787298313,
              0.7113190665
             ],
             "passed_time": 334.4724769,
             "remaining_time": 201.5411079,
             "test": [
              0.9264315756,
              0.0824942432,
              0.4725799709,
              0.5443690028
             ]
            },
            {
             "iteration": 312,
             "learn": [
              0.05610799536,
              0.6789917947,
              0.7115062358
             ],
             "passed_time": 335.6221132,
             "remaining_time": 200.5154478,
             "test": [
              0.9264290818,
              0.08250291145,
              0.4726396879,
              0.5444225854
             ]
            },
            {
             "iteration": 313,
             "learn": [
              0.05609165783,
              0.6788639444,
              0.7113031935
             ],
             "passed_time": 336.9338328,
             "remaining_time": 199.5850092,
             "test": [
              0.926378968,
              0.08251068354,
              0.4724271477,
              0.5443443413
             ]
            },
            {
             "iteration": 314,
             "learn": [
              0.05604822162,
              0.6793703153,
              0.7118875661
             ],
             "passed_time": 337.9665431,
             "remaining_time": 198.4882872,
             "test": [
              0.9264026556,
              0.0825071766,
              0.4724835957,
              0.5443781387
             ]
            },
            {
             "iteration": 315,
             "learn": [
              0.05600870726,
              0.6794903896,
              0.7123739607
             ],
             "passed_time": 338.9924758,
             "remaining_time": 197.3880239,
             "test": [
              0.9262879006,
              0.08255883229,
              0.4723317796,
              0.5442317393
             ]
            },
            {
             "iteration": 316,
             "learn": [
              0.05595303999,
              0.6793908869,
              0.712670257
             ],
             "passed_time": 339.9081185,
             "remaining_time": 196.2245605,
             "test": [
              0.9262578209,
              0.08259170818,
              0.4720927453,
              0.544144079
             ]
            },
            {
             "iteration": 317,
             "learn": [
              0.05594633681,
              0.6794475366,
              0.7127529289
             ],
             "passed_time": 340.8176802,
             "remaining_time": 195.0591755,
             "test": [
              0.9262707091,
              0.0825869367,
              0.4722202858,
              0.5440813604
             ]
            },
            {
             "iteration": 318,
             "learn": [
              0.05588037285,
              0.6806444493,
              0.7132350718
             ],
             "passed_time": 341.8762664,
             "remaining_time": 193.9799505,
             "test": [
              0.9262704113,
              0.08258514322,
              0.4722213924,
              0.5442149807
             ]
            },
            {
             "iteration": 319,
             "learn": [
              0.05585317335,
              0.6807552501,
              0.7133574263
             ],
             "passed_time": 342.6087732,
             "remaining_time": 192.7174349,
             "test": [
              0.9262205364,
              0.08260242588,
              0.471296564,
              0.5445605775
             ]
            },
            {
             "iteration": 320,
             "learn": [
              0.05584149715,
              0.680906187,
              0.7134235639
             ],
             "passed_time": 343.7013747,
             "remaining_time": 191.659022,
             "test": [
              0.9262100596,
              0.08261407661,
              0.4712989732,
              0.5444617075
             ]
            },
            {
             "iteration": 321,
             "learn": [
              0.05582859613,
              0.6808767462,
              0.7135260771
             ],
             "passed_time": 344.6578578,
             "remaining_time": 190.5251512,
             "test": [
              0.9262299701,
              0.08259106911,
              0.4712028314,
              0.5448260246
             ]
            },
            {
             "iteration": 322,
             "learn": [
              0.05580354865,
              0.6809820469,
              0.7136180083
             ],
             "passed_time": 345.7506441,
             "remaining_time": 189.4670712,
             "test": [
              0.9262452956,
              0.08257793138,
              0.4712556581,
              0.5449795982
             ]
            },
            {
             "iteration": 323,
             "learn": [
              0.0557942821,
              0.6809538539,
              0.7136953893
             ],
             "passed_time": 346.6915691,
             "remaining_time": 188.3262844,
             "test": [
              0.9262580001,
              0.0825690535,
              0.4712287244,
              0.544970182
             ]
            },
            {
             "iteration": 324,
             "learn": [
              0.05577447851,
              0.681288574,
              0.7135862623
             ],
             "passed_time": 348.1590765,
             "remaining_time": 187.4702719,
             "test": [
              0.9262183927,
              0.08259526064,
              0.4710716601,
              0.5448456416
             ]
            },
            {
             "iteration": 325,
             "learn": [
              0.05575920333,
              0.6814546419,
              0.7136788549
             ],
             "passed_time": 349.3799846,
             "remaining_time": 186.4788875,
             "test": [
              0.9260636379,
              0.08267020582,
              0.4706058429,
              0.5444960654
             ]
            },
            {
             "iteration": 326,
             "learn": [
              0.05574350191,
              0.6816568744,
              0.7138084845
             ],
             "passed_time": 350.7484251,
             "remaining_time": 185.5641515,
             "test": [
              0.9260409727,
              0.08268141437,
              0.4706997346,
              0.5443604834
             ]
            },
            {
             "iteration": 327,
             "learn": [
              0.055719463,
              0.6818516446,
              0.7137734316
             ],
             "passed_time": 351.8614792,
             "remaining_time": 184.5127269,
             "test": [
              0.9259992631,
              0.08270016793,
              0.4706844615,
              0.5442967559
             ]
            },
            {
             "iteration": 328,
             "learn": [
              0.05571000972,
              0.6818416054,
              0.7139222411
             ],
             "passed_time": 352.7173213,
             "remaining_time": 183.3272399,
             "test": [
              0.9260019024,
              0.08270148653,
              0.4708217388,
              0.5442830239
             ]
            },
            {
             "iteration": 329,
             "learn": [
              0.05569666064,
              0.682152741,
              0.7138686697
             ],
             "passed_time": 353.9619381,
             "remaining_time": 182.3440287,
             "test": [
              0.9259801628,
              0.08271214964,
              0.4709461212,
              0.5442826316
             ]
            },
            {
             "iteration": 330,
             "learn": [
              0.05566137678,
              0.6824502288,
              0.7140260771
             ],
             "passed_time": 355.0512528,
             "remaining_time": 181.2799448,
             "test": [
              0.9259055691,
              0.08274352737,
              0.471122984,
              0.5442362793
             ]
            },
            {
             "iteration": 331,
             "learn": [
              0.05565205441,
              0.682410759,
              0.7141530612
             ],
             "passed_time": 355.9861823,
             "remaining_time": 180.1375862,
             "test": [
              0.9259152537,
              0.08274194072,
              0.4711980304,
              0.5440137095
             ]
            },
            {
             "iteration": 332,
             "learn": [
              0.05561793399,
              0.6826454793,
              0.7145273998
             ],
             "passed_time": 357.0107265,
             "remaining_time": 179.0414154,
             "test": [
              0.9257262406,
              0.08283652961,
              0.4702221247,
              0.5433884853
             ]
            },
            {
             "iteration": 333,
             "learn": [
              0.05555277389,
              0.6832446105,
              0.7150674603
             ],
             "passed_time": 358.3821916,
             "remaining_time": 178.1180952,
             "test": [
              0.9257766032,
              0.08277189332,
              0.470631644,
              0.5439842279
             ]
            },
            {
             "iteration": 334,
             "learn": [
              0.05553785965,
              0.6834117647,
              0.7151858466
             ],
             "passed_time": 359.4413497,
             "remaining_time": 177.0382767,
             "test": [
              0.9257721338,
              0.08276964974,
              0.4706468952,
              0.5441261994
             ]
            },
            {
             "iteration": 335,
             "learn": [
              0.05550826606,
              0.6836105841,
              0.7153902116
             ],
             "passed_time": 360.5838991,
             "remaining_time": 175.9992841,
             "test": [
              0.9258699155,
              0.08274931257,
              0.4703136688,
              0.544260156
             ]
            },
            {
             "iteration": 336,
             "learn": [
              0.05548222362,
              0.6837606838,
              0.7153902116
             ],
             "passed_time": 361.6748592,
             "remaining_time": 174.9347242,
             "test": [
              0.9258895768,
              0.08274512321,
              0.4701327213,
              0.5442999507
             ]
            },
            {
             "iteration": 337,
             "learn": [
              0.05545972406,
              0.6840347754,
              0.715582672
             ],
             "passed_time": 362.5955983,
             "remaining_time": 173.7884229,
             "test": [
              0.9259238142,
              0.08272247659,
              0.4703487502,
              0.5443686104
             ]
            },
            {
             "iteration": 338,
             "learn": [
              0.05542551588,
              0.6842647059,
              0.715739418
             ],
             "passed_time": 363.7096498,
             "remaining_time": 172.7352614,
             "test": [
              0.9259361465,
              0.08273507905,
              0.4702290076,
              0.5442367837
             ]
            },
            {
             "iteration": 339,
             "learn": [
              0.05540124011,
              0.6844055039,
              0.7156600529
             ],
             "passed_time": 365.079697,
             "remaining_time": 171.8022104,
             "test": [
              0.9259413089,
              0.08274597095,
              0.4703370383,
              0.5443607076
             ]
            },
            {
             "iteration": 340,
             "learn": [
              0.05537938142,
              0.6844495393,
              0.7158928571
             ],
             "passed_time": 365.9867915,
             "remaining_time": 170.6507327,
             "test": [
              0.9259703126,
              0.0827459452,
              0.470409863,
              0.544453132
             ]
            },
            {
             "iteration": 341,
             "learn": [
              0.05536746822,
              0.6844858495,
              0.7158895503
             ],
             "passed_time": 366.9603978,
             "remaining_time": 169.5314118,
             "test": [
              0.9259736626,
              0.08274637145,
              0.4703605419,
              0.5444294234
             ]
            },
            {
             "iteration": 342,
             "learn": [
              0.05534989682,
              0.6847797337,
              0.7160178571
             ],
             "passed_time": 368.2848129,
             "remaining_time": 168.5735149,
             "test": [
              0.9260036698,
              0.08273796393,
              0.4704744045,
              0.5444920299
             ]
            },
            {
             "iteration": 343,
             "learn": [
              0.05529788339,
              0.6850401798,
              0.7162116402
             ],
             "passed_time": 369.4144059,
             "remaining_time": 167.5251375,
             "test": [
              0.926062679,
              0.08271368085,
              0.4708815317,
              0.5446661734
             ]
            },
            {
             "iteration": 344,
             "learn": [
              0.05527862765,
              0.6851938895,
              0.7163706538
             ],
             "passed_time": 370.6357035,
             "remaining_time": 166.51749,
             "test": [
              0.9260379292,
              0.08272037461,
              0.4710386218,
              0.5447177944
             ]
            },
            {
             "iteration": 345,
             "learn": [
              0.05525561733,
              0.6854851738,
              0.7166215986
             ],
             "passed_time": 371.5656019,
             "remaining_time": 165.3789095,
             "test": [
              0.9260490481,
              0.08271992713,
              0.4710151429,
              0.5447160569
             ]
            },
            {
             "iteration": 346,
             "learn": [
              0.05521621292,
              0.6857537183,
              0.7168018707
             ],
             "passed_time": 372.6256692,
             "remaining_time": 164.2989262,
             "test": [
              0.9260513032,
              0.0827033273,
              0.4714557612,
              0.5449021949
             ]
            },
            {
             "iteration": 347,
             "learn": [
              0.05519547102,
              0.6857310628,
              0.7167754157
             ],
             "passed_time": 373.8479324,
             "remaining_time": 163.2899015,
             "test": [
              0.9260482766,
              0.0827123297,
              0.4710127592,
              0.5449143014
             ]
            },
            {
             "iteration": 348,
             "learn": [
              0.05516724721,
              0.6858266792,
              0.7166590136
             ],
             "passed_time": 375.1209039,
             "remaining_time": 162.3015945,
             "test": [
              0.9259252288,
              0.0827044573,
              0.4716024038,
              0.5447330396
             ]
            },
            {
             "iteration": 349,
             "learn": [
              0.05513939796,
              0.6861118859,
              0.7170565004
             ],
             "passed_time": 376.1261709,
             "remaining_time": 161.1969304,
             "test": [
              0.9259684396,
              0.08266659225,
              0.4720583546,
              0.5449959084
             ]
            },
            {
             "iteration": 350,
             "learn": [
              0.05510965846,
              0.6863809803,
              0.7173686697
             ],
             "passed_time": 377.1351987,
             "remaining_time": 160.0944291,
             "test": [
              0.9259757198,
              0.08267651685,
              0.4719226552,
              0.5449004013
             ]
            },
            {
             "iteration": 351,
             "learn": [
              0.05507855118,
              0.6867993191,
              0.7176177249
             ],
             "passed_time": 378.3981057,
             "remaining_time": 159.0992035,
             "test": [
              0.9259412579,
              0.08269613624,
              0.4719716976,
              0.5450391781
             ]
            },
            {
             "iteration": 352,
             "learn": [
              0.0550214853,
              0.6869057401,
              0.7177903439
             ],
             "passed_time": 379.5998426,
             "remaining_time": 158.0769883,
             "test": [
              0.9258581025,
              0.08276713771,
              0.4717268876,
              0.5446688077
             ]
            },
            {
             "iteration": 353,
             "learn": [
              0.05501085099,
              0.6872231187,
              0.717885582
             ],
             "passed_time": 380.7487807,
             "remaining_time": 157.031983,
             "test": [
              0.925852661,
              0.08276770246,
              0.4717573535,
              0.5445290221
             ]
            },
            {
             "iteration": 354,
             "learn": [
              0.05499427,
              0.6874348853,
              0.7178862434
             ],
             "passed_time": 381.7698989,
             "remaining_time": 155.9341841,
             "test": [
              0.9258331913,
              0.08277225046,
              0.4714797053,
              0.544627724
             ]
            },
            {
             "iteration": 355,
             "learn": [
              0.05499129059,
              0.687444058,
              0.7179603175
             ],
             "passed_time": 383.0156819,
             "remaining_time": 154.9276916,
             "test": [
              0.9258320113,
              0.08277159364,
              0.4715395276,
              0.5446544032
             ]
            },
            {
             "iteration": 356,
             "learn": [
              0.05498213117,
              0.687559605,
              0.718037037
             ],
             "passed_time": 384.2551131,
             "remaining_time": 153.9173142,
             "test": [
              0.9258493404,
              0.08276481341,
              0.4716531587,
              0.5446329926
             ]
            },
            {
             "iteration": 357,
             "learn": [
              0.05496367416,
              0.6877265058,
              0.717989418
             ],
             "passed_time": 385.4721742,
             "remaining_time": 152.8967842,
             "test": [
              0.9258551927,
              0.08275680081,
              0.4716403625,
              0.5449044929
             ]
            },
            {
             "iteration": 358,
             "learn": [
              0.0549413703,
              0.6880859117,
              0.718218254
             ],
             "passed_time": 386.4961525,
             "remaining_time": 151.7993245,
             "test": [
              0.92587961,
              0.0827400862,
              0.4716616146,
              0.5449664828
             ]
            },
            {
             "iteration": 359,
             "learn": [
              0.05493435887,
              0.6882975915,
              0.7182784392
             ],
             "passed_time": 387.5018887,
             "remaining_time": 150.695179,
             "test": [
              0.9258516085,
              0.08275366308,
              0.4716721508,
              0.5447850529
             ]
            },
            {
             "iteration": 360,
             "learn": [
              0.05489407909,
              0.6885120864,
              0.7186590136
             ],
             "passed_time": 388.4951058,
             "remaining_time": 149.5867582,
             "test": [
              0.925903826,
              0.08276089161,
              0.47148797,
              0.5444362613
             ]
            },
            {
             "iteration": 361,
             "learn": [
              0.05488163069,
              0.6885221856,
              0.7188104686
             ],
             "passed_time": 389.5710377,
             "remaining_time": 148.5105061,
             "test": [
              0.9258969935,
              0.08276206914,
              0.4717142914,
              0.5445041364
             ]
            },
            {
             "iteration": 362,
             "learn": [
              0.05485527572,
              0.6886404976,
              0.7187397014
             ],
             "passed_time": 390.5327272,
             "remaining_time": 147.3911395,
             "test": [
              0.9258661399,
              0.08279092217,
              0.4716405409,
              0.5441775962
             ]
            },
            {
             "iteration": 363,
             "learn": [
              0.05484192291,
              0.6888299042,
              0.7187321429
             ],
             "passed_time": 391.6027726,
             "remaining_time": 146.3131238,
             "test": [
              0.9258497281,
              0.08279780978,
              0.4717554968,
              0.5443804367
             ]
            },
            {
             "iteration": 364,
             "learn": [
              0.0548208758,
              0.688731816,
              0.7187456538
             ],
             "passed_time": 392.4739356,
             "remaining_time": 145.1615926,
             "test": [
              0.9257391524,
              0.08279317596,
              0.47204746,
              0.5445418572
             ]
            },
            {
             "iteration": 365,
             "learn": [
              0.05479659185,
              0.688797654,
              0.7189156274
             ],
             "passed_time": 393.6285702,
             "remaining_time": 144.1153782,
             "test": [
              0.925795938,
              0.08278688282,
              0.4721072835,
              0.5447678459
             ]
            },
            {
             "iteration": 366,
             "learn": [
              0.05477506533,
              0.6892153413,
              0.7191609977
             ],
             "passed_time": 394.7961519,
             "remaining_time": 143.0732649,
             "test": [
              0.9258341118,
              0.08277710209,
              0.4719139219,
              0.5449061743
             ]
            },
            {
             "iteration": 367,
             "learn": [
              0.05475579038,
              0.6891628432,
              0.7192221277
             ],
             "passed_time": 396.1834007,
             "remaining_time": 142.1092633,
             "test": [
              0.9258408894,
              0.0827708836,
              0.4720302387,
              0.5448312371
             ]
            },
            {
             "iteration": 368,
             "learn": [
              0.05474573692,
              0.6893428689,
              0.7192247732
             ],
             "passed_time": 397.0852746,
             "remaining_time": 140.970653,
             "test": [
              0.9258599332,
              0.08277292289,
              0.4719446273,
              0.5447433526
             ]
            },
            {
             "iteration": 369,
             "learn": [
              0.05472109168,
              0.689621826,
              0.7191817838
             ],
             "passed_time": 398.3862338,
             "remaining_time": 139.9735416,
             "test": [
              0.92572971,
              0.08285029648,
              0.471938572,
              0.5445272285
             ]
            },
            {
             "iteration": 370,
             "learn": [
              0.05470526095,
              0.689747121,
              0.7193431595
             ],
             "passed_time": 399.3341932,
             "remaining_time": 138.852051,
             "test": [
              0.9257282085,
              0.08285812727,
              0.4717647059,
              0.5444613151
             ]
            },
            {
             "iteration": 371,
             "learn": [
              0.05468567041,
              0.6897077137,
              0.7193447657
             ],
             "passed_time": 400.4078628,
             "remaining_time": 137.7747485,
             "test": [
              0.9257640127,
              0.08284697276,
              0.4716747786,
              0.5449266321
             ]
            },
            {
             "iteration": 372,
             "learn": [
              0.05462231125,
              0.6897218722,
              0.7197277022
             ],
             "passed_time": 401.2880691,
             "remaining_time": 136.6315946,
             "test": [
              0.9258268907,
              0.08284386558,
              0.4714741672,
              0.5450327325
             ]
            },
            {
             "iteration": 373,
             "learn": [
              0.05460054267,
              0.6899128269,
              0.7199234694
             ],
             "passed_time": 402.3650453,
             "remaining_time": 135.5561383,
             "test": [
              0.9258432181,
              0.08283851003,
              0.4716642397,
              0.5451053157
             ]
            },
            {
             "iteration": 374,
             "learn": [
              0.05457648365,
              0.6900694465,
              0.7202806122
             ],
             "passed_time": 403.3754072,
             "remaining_time": 134.4584691,
             "test": [
              0.9257833555,
              0.08285511313,
              0.4711657421,
              0.5447790557
             ]
            },
            {
             "iteration": 375,
             "learn": [
              0.05455244536,
              0.6904036558,
              0.720704554
             ],
             "passed_time": 404.443787,
             "remaining_time": 133.3803978,
             "test": [
              0.9257555918,
              0.0828795618,
              0.4714988181,
              0.5449063985
             ]
            },
            {
             "iteration": 376,
             "learn": [
              0.05452934526,
              0.6906571759,
              0.7207131519
             ],
             "passed_time": 405.4612627,
             "remaining_time": 132.2857701,
             "test": [
              0.9257599288,
              0.08286559896,
              0.4715748746,
              0.5449375617
             ]
            },
            {
             "iteration": 377,
             "learn": [
              0.05450824724,
              0.6904493312,
              0.7208560091
             ],
             "passed_time": 406.3450427,
             "remaining_time": 131.1484,
             "test": [
              0.9257332522,
              0.08287405869,
              0.4713862482,
              0.544721942
             ]
            },
            {
             "iteration": 378,
             "learn": [
              0.0544605116,
              0.6908036381,
              0.7211799887
             ],
             "passed_time": 407.3932786,
             "remaining_time": 130.0648726,
             "test": [
              0.9257094259,
              0.08288026722,
              0.4714423911,
              0.5449371693
             ]
            },
            {
             "iteration": 379,
             "learn": [
              0.05445575483,
              0.6906369455,
              0.7210651927
             ],
             "passed_time": 408.4216665,
             "remaining_time": 128.9752631,
             "test": [
              0.9257050309,
              0.08289393575,
              0.4714318483,
              0.5448002421
             ]
            },
            {
             "iteration": 380,
             "learn": [
              0.05443255076,
              0.6907823438,
              0.7211531557
             ],
             "passed_time": 409.5978575,
             "remaining_time": 127.9321392,
             "test": [
              0.9257171934,
              0.08288877246,
              0.4714834206,
              0.5447745718
             ]
            },
            {
             "iteration": 381,
             "learn": [
              0.0543902401,
              0.6911913305,
              0.721412415
             ],
             "passed_time": 410.4727649,
             "remaining_time": 126.795252,
             "test": [
              0.9257292471,
              0.08292307225,
              0.4707396653,
              0.5444788023
             ]
            },
            {
             "iteration": 382,
             "learn": [
              0.05437561556,
              0.6915015077,
              0.7214891345
             ],
             "passed_time": 411.596012,
             "remaining_time": 125.7355963,
             "test": [
              0.9257682304,
              0.08292372432,
              0.4707443359,
              0.544399157
             ]
            },
            {
             "iteration": 383,
             "learn": [
              0.05435630225,
              0.691634469,
              0.7215870181
             ],
             "passed_time": 412.73772,
             "remaining_time": 124.6811863,
             "test": [
              0.9257907253,
              0.08293190846,
              0.470739614,
              0.5443792037
             ]
            },
            {
             "iteration": 384,
             "learn": [
              0.05434993198,
              0.6917370246,
              0.7217616213
             ],
             "passed_time": 413.612337,
             "remaining_time": 123.5465422,
             "test": [
              0.925796768,
              0.08292777285,
              0.4707759824,
              0.5443882275
             ]
            },
            {
             "iteration": 385,
             "learn": [
              0.05433286199,
              0.6919227392,
              0.7218647959
             ],
             "passed_time": 414.6985098,
             "remaining_time": 122.4757257,
             "test": [
              0.9258434791,
              0.0829096634,
              0.4706868006,
              0.544499036
             ]
            },
            {
             "iteration": 386,
             "learn": [
              0.05432028306,
              0.6920375735,
              0.7220949546
             ],
             "passed_time": 415.7378024,
             "remaining_time": 121.3911413,
             "test": [
              0.9258056028,
              0.08295147312,
              0.4707513114,
              0.5442275356
             ]
            },
            {
             "iteration": 387,
             "learn": [
              0.05429235327,
              0.6922289192,
              0.7224216742
             ],
             "passed_time": 416.9461314,
             "remaining_time": 120.3555843,
             "test": [
              0.9258388726,
              0.08293103134,
              0.4708767872,
              0.5441696933
             ]
            },
            {
             "iteration": 388,
             "learn": [
              0.05427831601,
              0.6924562533,
              0.722808579
             ],
             "passed_time": 418.1039954,
             "remaining_time": 119.3047391,
             "test": [
              0.9258571496,
              0.0829197737,
              0.4706386969,
              0.5442165501
             ]
            },
            {
             "iteration": 389,
             "learn": [
              0.0542760608,
              0.6924675173,
              0.7227854308
             ],
             "passed_time": 419.037653,
             "remaining_time": 118.1901073,
             "test": [
              0.9258691227,
              0.0829144961,
              0.4706469051,
              0.5444633329
             ]
            },
            {
             "iteration": 390,
             "learn": [
              0.05425193917,
              0.692746584,
              0.722792706
             ],
             "passed_time": 420.0365438,
             "remaining_time": 117.0945864,
             "test": [
              0.9258681211,
              0.0829354114,
              0.4703582152,
              0.5440698144
             ]
            },
            {
             "iteration": 391,
             "learn": [
              0.05422452656,
              0.6929873321,
              0.7230523432
             ],
             "passed_time": 420.9921024,
             "remaining_time": 115.9876201,
             "test": [
              0.9258851204,
              0.08293252815,
              0.4701480624,
              0.5440472267
             ]
            },
            {
             "iteration": 392,
             "learn": [
              0.05421187432,
              0.6930278826,
              0.7228373961
             ],
             "passed_time": 422.1284869,
             "remaining_time": 114.9306567,
             "test": [
              0.925880979,
              0.08295841923,
              0.4699532062,
              0.5438186598
             ]
            },
            {
             "iteration": 393,
             "learn": [
              0.05419923535,
              0.6927903813,
              0.7232454649
             ],
             "passed_time": 423.2754946,
             "remaining_time": 113.8761483,
             "test": [
              0.9258865257,
              0.08294591147,
              0.4702407679,
              0.5439092906
             ]
            },
            {
             "iteration": 394,
             "learn": [
              0.05416017217,
              0.693107533,
              0.7233373961
             ],
             "passed_time": 424.4746718,
             "remaining_time": 112.8350393,
             "test": [
              0.9246996239,
              0.08321583191,
              0.4703053283,
              0.5435958098
             ]
            },
            {
             "iteration": 395,
             "learn": [
              0.05414997199,
              0.6931851419,
              0.7235490363
             ],
             "passed_time": 425.635619,
             "remaining_time": 111.7830918,
             "test": [
              0.9246725585,
              0.08322371112,
              0.4702924362,
              0.5436570151
             ]
            },
            {
             "iteration": 396,
             "learn": [
              0.05413364337,
              0.6933773963,
              0.7235675548
             ],
             "passed_time": 426.7655624,
             "remaining_time": 110.7225515,
             "test": [
              0.9246667627,
              0.08325413578,
              0.4704121644,
              0.543306486
             ]
            },
            {
             "iteration": 397,
             "learn": [
              0.05412257855,
              0.6933696002,
              0.7237137188
             ],
             "passed_time": 427.8526096,
             "remaining_time": 109.6506688,
             "test": [
              0.9246230671,
              0.0832962156,
              0.4698214339,
              0.5428399919
             ]
            },
            {
             "iteration": 398,
             "learn": [
              0.05411085917,
              0.6936483799,
              0.7239154384
             ],
             "passed_time": 429.0241073,
             "remaining_time": 108.6000873,
             "test": [
              0.924641029,
              0.08328863497,
              0.4697638204,
              0.5427836629
             ]
            },
            {
             "iteration": 399,
             "learn": [
              0.05409619481,
              0.6937683638,
              0.7237378118
             ],
             "passed_time": 430.1201814,
             "remaining_time": 107.5300453,
             "test": [
              0.9246577509,
              0.08327626403,
              0.4697415832,
              0.5429602166
             ]
            },
            {
             "iteration": 400,
             "learn": [
              0.05409166851,
              0.6939294696,
              0.7237404573
             ],
             "passed_time": 431.0430182,
             "remaining_time": 106.4171042,
             "test": [
              0.924657248,
              0.08327907757,
              0.4696172846,
              0.5429637476
             ]
            },
            {
             "iteration": 401,
             "learn": [
              0.05407805947,
              0.6937498172,
              0.7237999811
             ],
             "passed_time": 432.1671931,
             "remaining_time": 105.3541913,
             "test": [
              0.924641603,
              0.08330588093,
              0.4692632567,
              0.5428852793
             ]
            },
            {
             "iteration": 402,
             "learn": [
              0.05406435607,
              0.6937677302,
              0.7239587113
             ],
             "passed_time": 433.5286169,
             "remaining_time": 104.348079,
             "test": [
              0.9244943881,
              0.0833312167,
              0.4693129984,
              0.5429508004
             ]
            },
            {
             "iteration": 403,
             "learn": [
              0.0540509648,
              0.6939282738,
              0.7241756425
             ],
             "passed_time": 434.5409677,
             "remaining_time": 103.2572596,
             "test": [
              0.9244352873,
              0.08335187061,
              0.4694398978,
              0.5428429065
             ]
            },
            {
             "iteration": 404,
             "learn": [
              0.05403095631,
              0.6942003772,
              0.7244011716
             ],
             "passed_time": 435.6257487,
             "remaining_time": 102.1838176,
             "test": [
              0.9244746171,
              0.08333411537,
              0.4695751093,
              0.5430074657
             ]
            },
            {
             "iteration": 405,
             "learn": [
              0.05402200689,
              0.6941520468,
              0.7240678382
             ],
             "passed_time": 436.5171948,
             "remaining_time": 101.0655574,
             "test": [
              0.924475979,
              0.08333454724,
              0.469551506,
              0.5431371065
             ]
            },
            {
             "iteration": 406,
             "learn": [
              0.0539595986,
              0.6942523358,
              0.7244798753
             ],
             "passed_time": 437.7321165,
             "remaining_time": 100.0223264,
             "test": [
              0.9244867972,
              0.08334126616,
              0.4695501143,
              0.5432491481
             ]
            },
            {
             "iteration": 407,
             "learn": [
              0.05394120645,
              0.6943770286,
              0.7245929705
             ],
             "passed_time": 438.9237391,
             "remaining_time": 98.97299998,
             "test": [
              0.9245285505,
              0.08333217184,
              0.46948085,
              0.543241077
             ]
            },
            {
             "iteration": 408,
             "learn": [
              0.05391187806,
              0.6945958983,
              0.7249289494
             ],
             "passed_time": 440.2396188,
             "remaining_time": 97.95062423,
             "test": [
              0.9244059548,
              0.08337724167,
              0.4693455798,
              0.5430316227
             ]
            },
            {
             "iteration": 409,
             "learn": [
              0.05389661548,
              0.6946036015,
              0.7250873016
             ],
             "passed_time": 441.3975391,
             "remaining_time": 96.89214272,
             "test": [
              0.9243836166,
              0.08338306049,
              0.4693408941,
              0.5432868128
             ]
            },
            {
             "iteration": 410,
             "learn": [
              0.05387473805,
              0.6948297788,
              0.7253339947
             ],
             "passed_time": 442.442131,
             "remaining_time": 95.80863665,
             "test": [
              0.9243684455,
              0.08341080403,
              0.469069231,
              0.5432848511
             ]
            },
            {
             "iteration": 411,
             "learn": [
              0.05386602209,
              0.6948144033,
              0.7253502457
             ],
             "passed_time": 443.6124908,
             "remaining_time": 94.7521825,
             "test": [
              0.9243228845,
              0.08342826113,
              0.4690231016,
              0.5432142297
             ]
            },
            {
             "iteration": 412,
             "learn": [
              0.05383332716,
              0.6949390404,
              0.7251716742
             ],
             "passed_time": 444.8423162,
             "remaining_time": 93.70770342,
             "test": [
              0.9242754251,
              0.08348186383,
              0.468167601,
              0.5426414111
             ]
            },
            {
             "iteration": 413,
             "learn": [
              0.05382075981,
              0.695006432,
              0.7252907218
             ],
             "passed_time": 446.0247738,
             "remaining_time": 92.65248924,
             "test": [
              0.9242664896,
              0.08349147118,
              0.4678634973,
              0.5424599251
             ]
            },
            {
             "iteration": 414,
             "learn": [
              0.05380521293,
              0.6952212493,
              0.7254326342
             ],
             "passed_time": 447.011254,
             "remaining_time": 91.55652191,
             "test": [
              0.9242899525,
              0.08348281627,
              0.4681276494,
              0.5421915635
             ]
            },
            {
             "iteration": 415,
             "learn": [
              0.05380171822,
              0.6953319108,
              0.7253552532
             ],
             "passed_time": 448.1953037,
             "remaining_time": 90.5009748,
             "test": [
              0.9242841196,
              0.08348153246,
              0.4683007777,
              0.542228836
             ]
            },
            {
             "iteration": 416,
             "learn": [
              0.05378695153,
              0.6955060285,
              0.7256627929
             ],
             "passed_time": 449.2473012,
             "remaining_time": 89.41852758,
             "test": [
              0.9242353144,
              0.08350174008,
              0.4679901985,
              0.5422786633
             ]
            },
            {
             "iteration": 417,
             "learn": [
              0.05374888242,
              0.6956902977,
              0.7257650227
             ],
             "passed_time": 450.3631765,
             "remaining_time": 88.34875711,
             "test": [
              0.9242297044,
              0.08349661261,
              0.4679569892,
              0.542388575
             ]
            },
            {
             "iteration": 418,
             "learn": [
              0.0537297789,
              0.6958542181,
              0.7258681973
             ],
             "passed_time": 451.2619887,
             "remaining_time": 87.23680449,
             "test": [
              0.9242552688,
              0.08349191187,
              0.4680983006,
              0.5424603175
             ]
            },
            {
             "iteration": 419,
             "learn": [
              0.05370094335,
              0.696020693,
              0.7259428382
             ],
             "passed_time": 452.4424016,
             "remaining_time": 86.17950507,
             "test": [
              0.9242530314,
              0.08350838136,
              0.467792608,
              0.5422671733
             ]
            },
            {
             "iteration": 420,
             "learn": [
              0.05365973746,
              0.6963051704,
              0.7263165155
             ],
             "passed_time": 453.470515,
             "remaining_time": 85.093042,
             "test": [
              0.9242497152,
              0.08350712006,
              0.4679884759,
              0.5422928997
             ]
            },
            {
             "iteration": 421,
             "learn": [
              0.05364628907,
              0.6963711798,
              0.7262510393
             ],
             "passed_time": 454.5431626,
             "remaining_time": 84.01508693,
             "test": [
              0.9242900658,
              0.08348843716,
              0.4679991197,
              0.5425108174
             ]
            },
            {
             "iteration": 422,
             "learn": [
              0.05363691997,
              0.6964181372,
              0.7263409864
             ],
             "passed_time": 455.517902,
             "remaining_time": 82.91933441,
             "test": [
              0.9242705804,
              0.0835131451,
              0.4682940488,
              0.542244978
             ]
            },
            {
             "iteration": 423,
             "learn": [
              0.05359893747,
              0.6965373213,
              0.7266108277
             ],
             "passed_time": 456.7791728,
             "remaining_time": 81.87551211,
             "test": [
              0.9242762767,
              0.08352335749,
              0.4681702255,
              0.5421351224
             ]
            },
            {
             "iteration": 424,
             "learn": [
              0.05358733602,
              0.6966452951,
              0.726460034
             ],
             "passed_time": 457.9004739,
             "remaining_time": 80.80596599,
             "test": [
              0.9242988433,
              0.08351882586,
              0.4680995769,
              0.5422410546
             ]
            },
            {
             "iteration": 425,
             "learn": [
              0.0535520878,
              0.6968497612,
              0.7268511905
             ],
             "passed_time": 458.971212,
             "remaining_time": 79.72739363,
             "test": [
              0.9243114737,
              0.08351877226,
              0.4678279488,
              0.5423591494
             ]
            },
            {
             "iteration": 426,
             "learn": [
              0.05352567969,
              0.6970201578,
              0.7269993386
             ],
             "passed_time": 459.9753094,
             "remaining_time": 78.63746508,
             "test": [
              0.924310459,
              0.08353341721,
              0.4672380647,
              0.5422744036
             ]
            },
            {
             "iteration": 427,
             "learn": [
              0.05351730807,
              0.6971587174,
              0.7272632275
             ],
             "passed_time": 461.1230883,
             "remaining_time": 77.57210831,
             "test": [
              0.9243096102,
              0.08355371654,
              0.4665604617,
              0.5419966259
             ]
            },
            {
             "iteration": 428,
             "learn": [
              0.05348936888,
              0.6974230117,
              0.7274060847
             ],
             "passed_time": 462.1820189,
             "remaining_time": 76.4916628,
             "test": [
              0.9242892053,
              0.08356888911,
              0.466571835,
              0.5420205587
             ]
            },
            {
             "iteration": 429,
             "learn": [
              0.05347007413,
              0.6976098644,
              0.7275390212
             ],
             "passed_time": 463.1371159,
             "remaining_time": 75.39441422,
             "test": [
              0.9242382011,
              0.08359063454,
              0.4663279927,
              0.5421025581
             ]
            },
            {
             "iteration": 430,
             "learn": [
              0.053423339,
              0.6976159869,
              0.7276382275
             ],
             "passed_time": 464.3275609,
             "remaining_time": 74.33550278,
             "test": [
              0.9241911808,
              0.08361630536,
              0.4660886996,
              0.5420970653
             ]
            },
            {
             "iteration": 431,
             "learn": [
              0.05340141877,
              0.6978021176,
              0.7278928571
             ],
             "passed_time": 465.3825842,
             "remaining_time": 73.25466603,
             "test": [
              0.9241808005,
              0.08363363151,
              0.4660994017,
              0.5420119272
             ]
            },
            {
             "iteration": 432,
             "learn": [
              0.05338213808,
              0.6977919271,
              0.7281044974
             ],
             "passed_time": 466.5323998,
             "remaining_time": 72.18861613,
             "test": [
              0.9241991581,
              0.08362044908,
              0.4660425771,
              0.5420295825
             ]
            },
            {
             "iteration": 433,
             "learn": [
              0.05335956832,
              0.6979413053,
              0.7281207483
             ],
             "passed_time": 467.6671288,
             "remaining_time": 71.11988595,
             "test": [
              0.9240606794,
              0.08367063697,
              0.4658165925,
              0.5418903013
             ]
            },
            {
             "iteration": 434,
             "learn": [
              0.05328979925,
              0.6982545826,
              0.7285301398
             ],
             "passed_time": 468.7258468,
             "remaining_time": 70.03949435,
             "test": [
              0.9244350478,
              0.08358341252,
              0.4652081891,
              0.542092189
             ]
            },
            {
             "iteration": 435,
             "learn": [
              0.05326160774,
              0.6984609094,
              0.7286948224
             ],
             "passed_time": 469.9005248,
             "remaining_time": 68.97622382,
             "test": [
              0.9244407193,
              0.08358727009,
              0.4653145563,
              0.5420403439
             ]
            },
            {
             "iteration": 436,
             "learn": [
              0.05325693907,
              0.6985179236,
              0.7286736584
             ],
             "passed_time": 471.0823212,
             "remaining_time": 67.91346965,
             "test": [
              0.9244560991,
              0.08358227329,
              0.4654083004,
              0.5421115819
             ]
            },
            {
             "iteration": 437,
             "learn": [
              0.05323961338,
              0.6984154801,
              0.7285916478
             ],
             "passed_time": 472.0793717,
             "remaining_time": 66.82402065,
             "test": [
              0.9245078926,
              0.08355761436,
              0.4656190772,
              0.5422120213
             ]
            },
            {
             "iteration": 438,
             "learn": [
              0.05323357716,
              0.6983130066,
              0.7287609599
             ],
             "passed_time": 473.1958746,
             "remaining_time": 65.75159077,
             "test": [
              0.9245061786,
              0.08354173996,
              0.4659594521,
              0.5422467155
             ]
            },
            {
             "iteration": 439,
             "learn": [
              0.05320105606,
              0.6983320188,
              0.7289180839
             ],
             "passed_time": 474.3754177,
             "remaining_time": 64.68755696,
             "test": [
              0.9245488047,
              0.08355601976,
              0.4657701834,
              0.5421250897
             ]
            },
            {
             "iteration": 440,
             "learn": [
              0.05317724251,
              0.6986333372,
              0.7289196901
             ],
             "passed_time": 475.481496,
             "remaining_time": 63.61317067,
             "test": [
              0.924489552,
              0.08357309257,
              0.4661340604,
              0.5418981481
             ]
            },
            {
             "iteration": 441,
             "learn": [
              0.0531487796,
              0.6989182955,
              0.7292258125
             ],
             "passed_time": 476.5887395,
             "remaining_time": 62.53879387,
             "test": [
              0.9245115321,
              0.08356964642,
              0.4660190281,
              0.5420050892
             ]
            },
            {
             "iteration": 442,
             "learn": [
              0.05313396164,
              0.6990775877,
              0.7294665533
             ],
             "passed_time": 477.8031969,
             "remaining_time": 61.47806371,
             "test": [
              0.9244018039,
              0.08364719767,
              0.4658157792,
              0.5415079926
             ]
            },
            {
             "iteration": 443,
             "learn": [
              0.05311034001,
              0.6993827431,
              0.729680839
             ],
             "passed_time": 478.982307,
             "remaining_time": 60.41218287,
             "test": [
              0.9243473307,
              0.08366371716,
              0.4658492817,
              0.5416086562
             ]
            },
            {
             "iteration": 444,
             "learn": [
              0.05309887159,
              0.6994017219,
              0.7298924792
             ],
             "passed_time": 480.2740733,
             "remaining_time": 59.35971693,
             "test": [
              0.9243628957,
              0.08366247946,
              0.4657957268,
              0.5413891131
             ]
            },
            {
             "iteration": 445,
             "learn": [
              0.0530660337,
              0.6996527271,
              0.7301358655
             ],
             "passed_time": 481.5013401,
             "remaining_time": 58.29836854,
             "test": [
              0.9243326672,
              0.08368275664,
              0.4655113625,
              0.5412796498
             ]
            },
            {
             "iteration": 446,
             "learn": [
              0.05305131884,
              0.6997053074,
              0.7300617914
             ],
             "passed_time": 482.7887089,
             "remaining_time": 57.24340397,
             "test": [
              0.9241632162,
              0.08377091554,
              0.4654670919,
              0.5405553874
             ]
            },
            {
             "iteration": 447,
             "learn": [
              0.05304232243,
              0.6997694575,
              0.7301120559
             ],
             "passed_time": 483.786088,
             "remaining_time": 56.15374235,
             "test": [
              0.9241281426,
              0.08382284821,
              0.4644448906,
              0.5404706416
             ]
            },
            {
             "iteration": 448,
             "learn": [
              0.05302829185,
              0.6997636624,
              0.7302099395
             ],
             "passed_time": 484.7372708,
             "remaining_time": 55.05924457,
             "test": [
              0.9241487156,
              0.08382261051,
              0.4645710386,
              0.5405602637
             ]
            },
            {
             "iteration": 449,
             "learn": [
              0.05300896835,
              0.6999839493,
              0.7304209184
             ],
             "passed_time": 485.7557314,
             "remaining_time": 53.97285905,
             "test": [
              0.9240950046,
              0.08386260695,
              0.4639546911,
              0.5399584118
             ]
            },
            {
             "iteration": 450,
             "learn": [
              0.05299234391,
              0.7001867632,
              0.7303356009
             ],
             "passed_time": 486.790913,
             "remaining_time": 52.88859144,
             "test": [
              0.9240840821,
              0.08387822502,
              0.463326903,
              0.5399523585
             ]
            },
            {
             "iteration": 451,
             "learn": [
              0.05297356009,
              0.7002859978,
              0.7303677249
             ],
             "passed_time": 487.920366,
             "remaining_time": 51.81455214,
             "test": [
              0.9242337346,
              0.08381802909,
              0.4633131695,
              0.5405172742
             ]
            },
            {
             "iteration": 452,
             "learn": [
              0.05295623016,
              0.7003326719,
              0.7305582011
             ],
             "passed_time": 489.1014424,
             "remaining_time": 50.74562427,
             "test": [
              0.9242174689,
              0.08383577264,
              0.4632994332,
              0.5403976101
             ]
            },
            {
             "iteration": 453,
             "learn": [
              0.0529324402,
              0.7003646973,
              0.730547997
             ],
             "passed_time": 490.3117005,
             "remaining_time": 49.67915908,
             "test": [
              0.9241477978,
              0.08388783981,
              0.4633675705,
              0.5399486033
             ]
            },
            {
             "iteration": 454,
             "learn": [
              0.05288612503,
              0.7006315544,
              0.7306451247
             ],
             "passed_time": 491.4334321,
             "remaining_time": 48.60330647,
             "test": [
              0.9243389496,
              0.08384455524,
              0.4631976762,
              0.540120673
             ]
            },
            {
             "iteration": 455,
             "learn": [
              0.05287746239,
              0.7009813214,
              0.7306976568
             ],
             "passed_time": 492.6129323,
             "remaining_time": 47.5328268,
             "test": [
              0.9243211789,
              0.08386647213,
              0.4631604338,
              0.5401494821
             ]
            },
            {
             "iteration": 456,
             "learn": [
              0.05287300214,
              0.7011695395,
              0.7305759637
             ],
             "passed_time": 493.8417743,
             "remaining_time": 46.46651268,
             "test": [
              0.9243587275,
              0.08384752785,
              0.4631974594,
              0.5403482311
             ]
            },
            {
             "iteration": 457,
             "learn": [
              0.0528373856,
              0.7015952638,
              0.7306705404
             ],
             "passed_time": 494.7681802,
             "remaining_time": 45.37175452,
             "test": [
              0.9243543325,
              0.08389872426,
              0.4616963684,
              0.5401051475
             ]
            },
            {
             "iteration": 458,
             "learn": [
              0.05281619908,
              0.7015589226,
              0.7308709373
             ],
             "passed_time": 495.7259382,
             "remaining_time": 44.28053043,
             "test": [
              0.9243364553,
              0.08391762468,
              0.4616251572,
              0.5402020559
             ]
            },
            {
             "iteration": 459,
             "learn": [
              0.05280480611,
              0.7015676267,
              0.7309219577
             ],
             "passed_time": 496.7249985,
             "remaining_time": 43.19347813,
             "test": [
              0.9242754181,
              0.08393984301,
              0.4616050314,
              0.5400590194
             ]
            },
            {
             "iteration": 460,
             "learn": [
              0.05278378299,
              0.7015016766,
              0.7308038549
             ],
             "passed_time": 497.9551726,
             "remaining_time": 42.1263595,
             "test": [
              0.9242039116,
              0.08401218677,
              0.4614672436,
              0.5398553941
             ]
            },
            {
             "iteration": 461,
             "learn": [
              0.05277594974,
              0.7016694613,
              0.7308250189
             ],
             "passed_time": 498.8579491,
             "remaining_time": 41.0316062,
             "test": [
              0.9239245046,
              0.08406812892,
              0.4613851821,
              0.5398695184
             ]
            },
            {
             "iteration": 462,
             "learn": [
              0.05277149816,
              0.7015717493,
              0.7308419312
             ],
             "passed_time": 500.0065897,
             "remaining_time": 39.95733006,
             "test": [
              0.9239447454,
              0.08406065639,
              0.4614533011,
              0.5399699579
             ]
            },
            {
             "iteration": 463,
             "learn": [
              0.0527547413,
              0.7015221322,
              0.7309685374
             ],
             "passed_time": 500.8577187,
             "remaining_time": 38.85965059,
             "test": [
              0.9239666751,
              0.08405249357,
              0.4607763178,
              0.5399679961
             ]
            },
            {
             "iteration": 464,
             "learn": [
              0.05274930517,
              0.7014464015,
              0.7309933862
             ],
             "passed_time": 502.0371992,
             "remaining_time": 37.78774618,
             "test": [
              0.9239696845,
              0.08404536671,
              0.4607608192,
              0.5398546095
             ]
            },
            {
             "iteration": 465,
             "learn": [
              0.05274545068,
              0.7015221322,
              0.7309609788
             ],
             "passed_time": 503.1582144,
             "remaining_time": 36.71111435,
             "test": [
              0.9239731306,
              0.08404490976,
              0.4608243894,
              0.5399034279
             ]
            },
            {
             "iteration": 466,
             "learn": [
              0.05272726895,
              0.701574344,
              0.7312194822
             ],
             "passed_time": 504.2916871,
             "remaining_time": 35.63517275,
             "test": [
              0.9239950125,
              0.08399369486,
              0.4616917225,
              0.5400737042
             ]
            },
            {
             "iteration": 467,
             "learn": [
              0.05271288899,
              0.7016091418,
              0.731481387
             ],
             "passed_time": 505.3778887,
             "remaining_time": 34.55575307,
             "test": [
              0.9239635621,
              0.08400493708,
              0.4616143218,
              0.540009192
             ]
            },
            {
             "iteration": 468,
             "learn": [
              0.05269141027,
              0.701809117,
              0.7315204082
             ],
             "passed_time": 506.4570463,
             "remaining_time": 33.47583888,
             "test": [
              0.9239960582,
              0.08403381368,
              0.4602101573,
              0.5396272756
             ]
            },
            {
             "iteration": 469,
             "learn": [
              0.05267951873,
              0.701774337,
              0.7314215797
             ],
             "passed_time": 507.4964443,
             "remaining_time": 32.39339006,
             "test": [
              0.9240054423,
              0.08403504401,
              0.4600364724,
              0.5396847256
             ]
            },
            {
             "iteration": 470,
             "learn": [
              0.0526570397,
              0.7018832721,
              0.7316801776
             ],
             "passed_time": 508.56952,
             "remaining_time": 31.31319762,
             "test": [
              0.924023514,
              0.08404469365,
              0.4600707212,
              0.5396184199
             ]
            },
            {
             "iteration": 471,
             "learn": [
              0.05264318723,
              0.7023970856,
              0.7319863946
             ],
             "passed_time": 509.6221396,
             "remaining_time": 30.23182184,
             "test": [
              0.9240696206,
              0.08403698403,
              0.459930103,
              0.5398708636
             ]
            },
            {
             "iteration": 472,
             "learn": [
              0.05263517458,
              0.7023812994,
              0.7320161565
             ],
             "passed_time": 510.8353449,
             "remaining_time": 29.15973428,
             "test": [
              0.9241281778,
              0.08400394812,
              0.4600340393,
              0.5400580105
             ]
            },
            {
             "iteration": 473,
             "learn": [
              0.05258281486,
              0.7025042612,
              0.7325353364
             ],
             "passed_time": 512.0157815,
             "remaining_time": 28.08525384,
             "test": [
              0.9242785877,
              0.08394629859,
              0.4597872512,
              0.5404432898
             ]
            },
            {
             "iteration": 474,
             "learn": [
              0.05256413211,
              0.7028538962,
              0.7325591459
             ],
             "passed_time": 513.3336585,
             "remaining_time": 27.01756097,
             "test": [
              0.9242733037,
              0.08394361726,
              0.4598743051,
              0.5404358354
             ]
            },
            {
             "iteration": 475,
             "learn": [
              0.05254688451,
              0.7029121688,
              0.7327641723
             ],
             "passed_time": 514.2460967,
             "remaining_time": 25.92837462,
             "test": [
              0.9242756365,
              0.08393099752,
              0.4599629436,
              0.5407154067
             ]
            },
            {
             "iteration": 476,
             "learn": [
              0.0525369658,
              0.7028570596,
              0.7329490741
             ],
             "passed_time": 515.1913529,
             "remaining_time": 24.84151178,
             "test": [
              0.9242321642,
              0.08394899563,
              0.4599534729,
              0.5405447381
             ]
            },
            {
             "iteration": 477,
             "learn": [
              0.05252533452,
              0.703104975,
              0.7331190476
             ],
             "passed_time": 516.111823,
             "remaining_time": 23.75410064,
             "test": [
              0.9242599385,
              0.08394129368,
              0.4601427752,
              0.5406577325
             ]
            },
            {
             "iteration": 478,
             "learn": [
              0.0524906549,
              0.7031545833,
              0.7331775321
             ],
             "passed_time": 516.9707374,
             "remaining_time": 22.66468786,
             "test": [
              0.9243354754,
              0.08397939581,
              0.4600698815,
              0.5397977199
             ]
            },
            {
             "iteration": 479,
             "learn": [
              0.05247638299,
              0.703339596,
              0.7331775321
             ],
             "passed_time": 518.1277902,
             "remaining_time": 21.58865792,
             "test": [
              0.9243283055,
              0.0839875735,
              0.460072906,
              0.5398991122
             ]
            },
            {
             "iteration": 480,
             "learn": [
              0.05245633393,
              0.703466954,
              0.7332694633
             ],
             "passed_time": 519.3541565,
             "remaining_time": 20.51502905,
             "test": [
              0.9243402084,
              0.08401147045,
              0.458796609,
              0.5399748901
             ]
            },
            {
             "iteration": 481,
             "learn": [
              0.05243089768,
              0.7037117936,
              0.7332694633
             ],
             "passed_time": 520.3547665,
             "remaining_time": 19.43233568,
             "test": [
              0.9243285832,
              0.08402286571,
              0.4585853698,
              0.5400723029
             ]
            },
            {
             "iteration": 482,
             "learn": [
              0.05241789835,
              0.7037684198,
              0.733356387
             ],
             "passed_time": 521.3370284,
             "remaining_time": 18.3493364,
             "test": [
              0.9242698166,
              0.08406542104,
              0.4586551064,
              0.5393277509
             ]
            },
            {
             "iteration": 483,
             "learn": [
              0.05240716073,
              0.7038336658,
              0.733393802
             ],
             "passed_time": 522.5979871,
             "remaining_time": 17.27596652,
             "test": [
              0.9242770166,
              0.08406660279,
              0.4586723121,
              0.5392847615
             ]
            },
            {
             "iteration": 484,
             "learn": [
              0.05239259831,
              0.7039042711,
              0.7334569161
             ],
             "passed_time": 523.7502346,
             "remaining_time": 16.19846086,
             "test": [
              0.9242889822,
              0.08407161944,
              0.4586941401,
              0.5391133082
             ]
            },
            {
             "iteration": 485,
             "learn": [
              0.05236801038,
              0.7044491988,
              0.7340578231
             ],
             "passed_time": 524.9480321,
             "remaining_time": 15.12195977,
             "test": [
              0.9242850314,
              0.08407253719,
              0.4587281745,
              0.5390374182
             ]
            },
            {
             "iteration": 486,
             "learn": [
              0.05235813849,
              0.7044405956,
              0.7340988284
             ],
             "passed_time": 525.9825222,
             "remaining_time": 14.04060121,
             "test": [
              0.9242791329,
              0.08407473848,
              0.4587814343,
              0.5390258161
             ]
            },
            {
             "iteration": 487,
             "learn": [
              0.05234842194,
              0.7045911089,
              0.7342198602
             ],
             "passed_time": 527.0643118,
             "remaining_time": 12.96059783,
             "test": [
              0.924302869,
              0.08407379899,
              0.4587255831,
              0.5389316541
             ]
            },
            {
             "iteration": 488,
             "learn": [
              0.0523421715,
              0.7046202218,
              0.7343891723
             ],
             "passed_time": 528.1430277,
             "remaining_time": 11.88051801,
             "test": [
              0.9242920256,
              0.08408228322,
              0.4585840869,
              0.5388484777
             ]
            },
            {
             "iteration": 489,
             "learn": [
              0.0523274723,
              0.7048259402,
              0.7344530423
             ],
             "passed_time": 529.2439025,
             "remaining_time": 10.80089597,
             "test": [
              0.9243374853,
              0.08407654613,
              0.4586529061,
              0.5389204444
             ]
            },
            {
             "iteration": 490,
             "learn": [
              0.05231182381,
              0.7052437019,
              0.7342956349
             ],
             "passed_time": 530.365632,
             "remaining_time": 9.721569629,
             "test": [
              0.924389306,
              0.08401826759,
              0.4592241814,
              0.5390366335
             ]
            },
            {
             "iteration": 491,
             "learn": [
              0.05230263214,
              0.7053396009,
              0.7342546296
             ],
             "passed_time": 531.3557353,
             "remaining_time": 8.639930655,
             "test": [
              0.9243796709,
              0.08402680729,
              0.459175962,
              0.5391019303
             ]
            },
            {
             "iteration": 492,
             "learn": [
              0.05229975517,
              0.7053224468,
              0.7344001323
             ],
             "passed_time": 532.203011,
             "remaining_time": 7.556635045,
             "test": [
              0.9243909548,
              0.08402181571,
              0.4593423863,
              0.5391191933
             ]
            },
            {
             "iteration": 493,
             "learn": [
              0.05228845212,
              0.7053909297,
              0.7344001323
             ],
             "passed_time": 533.0466883,
             "remaining_time": 6.474251275,
             "test": [
              0.9243903725,
              0.08402543889,
              0.4590368729,
              0.5390086091
             ]
            },
            {
             "iteration": 494,
             "learn": [
              0.05227230159,
              0.7052711238,
              0.7345324074
             ],
             "passed_time": 534.0845457,
             "remaining_time": 5.394793391,
             "test": [
              0.9243743698,
              0.0840255053,
              0.4591577675,
              0.5390652744
             ]
            },
            {
             "iteration": 495,
             "learn": [
              0.05225786694,
              0.7053088073,
              0.7345946712
             ],
             "passed_time": 535.239651,
             "remaining_time": 4.316448798,
             "test": [
              0.924380425,
              0.08402147252,
              0.4592138929,
              0.5393826787
             ]
            },
            {
             "iteration": 496,
             "learn": [
              0.05225618182,
              0.7052951705,
              0.734845616
             ],
             "passed_time": 536.1986766,
             "remaining_time": 3.23661173,
             "test": [
              0.924376312,
              0.08402241033,
              0.4593459497,
              0.5392459196
             ]
            },
            {
             "iteration": 497,
             "learn": [
              0.05224434054,
              0.7054219584,
              0.7345688776
             ],
             "passed_time": 537.0433037,
             "remaining_time": 2.156800416,
             "test": [
              0.9244007161,
              0.08402079818,
              0.4592132839,
              0.5391709824
             ]
            },
            {
             "iteration": 498,
             "learn": [
              0.05223770484,
              0.7054870243,
              0.7348190665
             ],
             "passed_time": 538.1157353,
             "remaining_time": 1.078388247,
             "test": [
              0.9244124828,
              0.08401535704,
              0.4593282154,
              0.5393125617
             ]
            },
            {
             "iteration": 499,
             "learn": [
              0.05223411105,
              0.7057283333,
              0.7347476379
             ],
             "passed_time": 538.8841378,
             "remaining_time": 0,
             "test": [
              0.9244058114,
              0.08403488622,
              0.4591789435,
              0.539152094
             ]
            }
           ],
           "meta": {
            "iteration_count": 500,
            "launch_mode": "Train",
            "learn_metrics": [
             {
              "best_value": "Min",
              "name": "Logloss"
             },
             {
              "best_value": "Max",
              "name": "F1"
             },
             {
              "best_value": "Max",
              "name": "RecallAt:top=10"
             }
            ],
            "learn_sets": [
             "learn"
            ],
            "name": "experiment",
            "parameters": "",
            "test_metrics": [
             {
              "best_value": "Max",
              "name": "AUC"
             },
             {
              "best_value": "Min",
              "name": "Logloss"
             },
             {
              "best_value": "Max",
              "name": "F1"
             },
             {
              "best_value": "Max",
              "name": "RecallAt:top=10"
             }
            ],
            "test_sets": [
             "test"
            ]
           }
          },
          "passed_iterations": 499,
          "total_iterations": 500
         },
         "name": "catboost_info",
         "path": "catboost_info"
        }
       },
       "layout": "IPY_MODEL_0781835eeccd4555aab57b0c4f14e4d5"
      }
     },
     "a7a2ced89a274a53a55fc122b61b7c98": {
      "model_module": "@jupyter-widgets/base",
      "model_module_version": "1.2.0",
      "model_name": "LayoutModel",
      "state": {
       "align_self": "stretch",
       "height": "500px"
      }
     },
     "cf22746a701f4a8a99c5ac2d7fcb853b": {
      "model_module": "catboost-widget",
      "model_module_version": "^1.0.0",
      "model_name": "CatboostWidgetModel",
      "state": {
       "_model_module_version": "^1.0.0",
       "_view_module_version": "^1.0.0",
       "data": {
        "catboost_info": {
         "content": {
          "data": {
           "iterations": [
            {
             "iteration": 0,
             "learn": [
              0.2629820631,
              0,
              0.1569054233
             ],
             "passed_time": 1.328951383,
             "remaining_time": 330.9088944,
             "test": [
              0.8091580037,
              0.2630673523,
              0,
              0.1404049525
             ]
            },
            {
             "iteration": 1,
             "learn": [
              0.1449553279,
              0.007076795432,
              0.4645443122
             ],
             "passed_time": 2.607004617,
             "remaining_time": 323.2685726,
             "test": [
              0.8624809243,
              0.146176496,
              0.00757400555,
              0.4493168214
             ]
            },
            {
             "iteration": 2,
             "learn": [
              0.1109207848,
              0.3830354662,
              0.4953302154
             ],
             "passed_time": 3.547304851,
             "remaining_time": 292.0614327,
             "test": [
              0.8758876885,
              0.1123562126,
              0.3537321075,
              0.4858192651
             ]
            },
            {
             "iteration": 3,
             "learn": [
              0.09852313108,
              0.4674234283,
              0.5100679327
             ],
             "passed_time": 4.493211041,
             "remaining_time": 276.332479,
             "test": [
              0.8809243052,
              0.1002544003,
              0.4283617984,
              0.5030364429
             ]
            },
            {
             "iteration": 4,
             "learn": [
              0.09159576153,
              0.4916471659,
              0.5218949358
             ],
             "passed_time": 5.493070934,
             "remaining_time": 269.1604758,
             "test": [
              0.8912807511,
              0.09409829086,
              0.4429007892,
              0.5079776477
             ]
            },
            {
             "iteration": 5,
             "learn": [
              0.08842929039,
              0.4981075437,
              0.5280655707
             ],
             "passed_time": 6.532361248,
             "remaining_time": 265.6493574,
             "test": [
              0.896105294,
              0.09153504748,
              0.4566292761,
              0.5035925029
             ]
            },
            {
             "iteration": 6,
             "learn": [
              0.08565375815,
              0.4996507643,
              0.5431386999
             ],
             "passed_time": 7.696809337,
             "remaining_time": 267.1892384,
             "test": [
              0.9010674101,
              0.08931262614,
              0.4595784339,
              0.5172131423
             ]
            },
            {
             "iteration": 7,
             "learn": [
              0.08366219467,
              0.5031529929,
              0.5488798186
             ],
             "passed_time": 8.740169712,
             "remaining_time": 264.3901338,
             "test": [
              0.9056657694,
              0.08803861182,
              0.4648845567,
              0.5196049682
             ]
            },
            {
             "iteration": 8,
             "learn": [
              0.08254289514,
              0.5099941969,
              0.5553258692
             ],
             "passed_time": 9.81487323,
             "remaining_time": 262.8204943,
             "test": [
              0.9059660295,
              0.08761274059,
              0.4685313997,
              0.5204167788
             ]
            },
            {
             "iteration": 9,
             "learn": [
              0.08044196302,
              0.5157599551,
              0.5653956916
             ],
             "passed_time": 10.96380412,
             "remaining_time": 263.1312989,
             "test": [
              0.9113662794,
              0.08641188727,
              0.471894708,
              0.5236556138
             ]
            },
            {
             "iteration": 10,
             "learn": [
              0.07966656563,
              0.5209654489,
              0.5715821995
             ],
             "passed_time": 12.14080767,
             "remaining_time": 263.7866394,
             "test": [
              0.912703541,
              0.08596297658,
              0.4706503978,
              0.5280826271
             ]
            },
            {
             "iteration": 11,
             "learn": [
              0.07907467938,
              0.5231603285,
              0.5753799131
             ],
             "passed_time": 13.19449828,
             "remaining_time": 261.6908826,
             "test": [
              0.9125536811,
              0.08575513126,
              0.4710517568,
              0.5287242736
             ]
            },
            {
             "iteration": 12,
             "learn": [
              0.07792519308,
              0.5323363546,
              0.5798973923
             ],
             "passed_time": 14.41240856,
             "remaining_time": 262.7492946,
             "test": [
              0.9137660071,
              0.08553168963,
              0.4756970956,
              0.5273060712
             ]
            },
            {
             "iteration": 13,
             "learn": [
              0.07744465015,
              0.5348924697,
              0.5829369803
             ],
             "passed_time": 15.40234684,
             "remaining_time": 259.639561,
             "test": [
              0.9139586946,
              0.08542613517,
              0.479074561,
              0.5267916555
             ]
            },
            {
             "iteration": 14,
             "learn": [
              0.07698819617,
              0.5409992641,
              0.5858675359
             ],
             "passed_time": 16.66628183,
             "remaining_time": 261.1050819,
             "test": [
              0.9139857198,
              0.08544500764,
              0.4745572329,
              0.5265456013
             ]
            },
            {
             "iteration": 15,
             "learn": [
              0.07621586319,
              0.5469608088,
              0.5904379252
             ],
             "passed_time": 18.24285232,
             "remaining_time": 266.8017151,
             "test": [
              0.9153768091,
              0.08486540344,
              0.479893537,
              0.531711842
             ]
            },
            {
             "iteration": 16,
             "learn": [
              0.07555671641,
              0.5533833658,
              0.5932781557
             ],
             "passed_time": 19.69367536,
             "remaining_time": 269.9191975,
             "test": [
              0.9173532688,
              0.08428543844,
              0.487429715,
              0.5357362008
             ]
            },
            {
             "iteration": 17,
             "learn": [
              0.0752606181,
              0.5540619882,
              0.5958009259
             ],
             "passed_time": 20.93392978,
             "remaining_time": 269.815095,
             "test": [
              0.9178796897,
              0.08410093746,
              0.4874921289,
              0.535865169
             ]
            },
            {
             "iteration": 18,
             "learn": [
              0.07503548956,
              0.5558405439,
              0.5969738284
             ],
             "passed_time": 22.0656993,
             "remaining_time": 268.2724494,
             "test": [
              0.9177474457,
              0.08409441842,
              0.4861903806,
              0.5359290086
             ]
            },
            {
             "iteration": 19,
             "learn": [
              0.07459233959,
              0.5560644982,
              0.5997439531
             ],
             "passed_time": 23.22222099,
             "remaining_time": 267.0555414,
             "test": [
              0.9184586948,
              0.08388226264,
              0.4861339871,
              0.5353045691
             ]
            },
            {
             "iteration": 20,
             "learn": [
              0.07432699263,
              0.557054873,
              0.6012185374
             ],
             "passed_time": 24.24682175,
             "remaining_time": 264.4058181,
             "test": [
              0.9184801649,
              0.08375995043,
              0.4873453507,
              0.5359310264
             ]
            },
            {
             "iteration": 21,
             "learn": [
              0.0739284185,
              0.5610950299,
              0.6046830121
             ],
             "passed_time": 25.58000657,
             "remaining_time": 265.1018863,
             "test": [
              0.9189726554,
              0.08362748927,
              0.4884751265,
              0.5373075845
             ]
            },
            {
             "iteration": 22,
             "learn": [
              0.07370683071,
              0.5609098334,
              0.6071664777
             ],
             "passed_time": 26.79576844,
             "remaining_time": 264.4625841,
             "test": [
              0.9191321465,
              0.08354485303,
              0.4878440367,
              0.538187046
             ]
            },
            {
             "iteration": 23,
             "learn": [
              0.07337263435,
              0.5638625446,
              0.6096204649
             ],
             "passed_time": 27.97590005,
             "remaining_time": 263.4397255,
             "test": [
              0.9198603916,
              0.08320150154,
              0.4894154093,
              0.5412279728
             ]
            },
            {
             "iteration": 24,
             "learn": [
              0.07298637126,
              0.5657371745,
              0.6110751134
             ],
             "passed_time": 29.09684688,
             "remaining_time": 261.8716219,
             "test": [
              0.9205545066,
              0.08308221732,
              0.4877497245,
              0.5416146534
             ]
            },
            {
             "iteration": 25,
             "learn": [
              0.07276427384,
              0.5654672933,
              0.6124597506
             ],
             "passed_time": 30.42877011,
             "remaining_time": 262.1555578,
             "test": [
              0.9210877007,
              0.08285915166,
              0.4889553039,
              0.542946933
             ]
            },
            {
             "iteration": 26,
             "learn": [
              0.07267647002,
              0.5661156388,
              0.6130605631
             ],
             "passed_time": 31.45765874,
             "remaining_time": 259.8169592,
             "test": [
              0.9213237609,
              0.08269287803,
              0.490080049,
              0.5442032105
             ]
            },
            {
             "iteration": 27,
             "learn": [
              0.07246724089,
              0.5675571756,
              0.6142536848
             ],
             "passed_time": 32.39462416,
             "remaining_time": 256.8430916,
             "test": [
              0.9214870512,
              0.0826762614,
              0.489531253,
              0.5437600327
             ]
            },
            {
             "iteration": 28,
             "learn": [
              0.0722621981,
              0.5706259786,
              0.6157842026
             ],
             "passed_time": 33.5382289,
             "remaining_time": 255.5844341,
             "test": [
              0.9222003374,
              0.08252152361,
              0.4904779222,
              0.5441884696
             ]
            },
            {
             "iteration": 29,
             "learn": [
              0.07197358552,
              0.5735138857,
              0.6171403061
             ],
             "passed_time": 34.74309928,
             "remaining_time": 254.7827281,
             "test": [
              0.9223151969,
              0.08256912608,
              0.4897678286,
              0.5439956618
             ]
            },
            {
             "iteration": 30,
             "learn": [
              0.07173892975,
              0.5746107233,
              0.6177609599
             ],
             "passed_time": 36.33151085,
             "remaining_time": 256.6645444,
             "test": [
              0.9223268315,
              0.08253251265,
              0.4872164275,
              0.5441996234
             ]
            },
            {
             "iteration": 31,
             "learn": [
              0.07159527324,
              0.5742805728,
              0.618792328
             ],
             "passed_time": 37.54353985,
             "remaining_time": 255.7653652,
             "test": [
              0.9222278449,
              0.08256391397,
              0.4865817373,
              0.5440044054
             ]
            },
            {
             "iteration": 32,
             "learn": [
              0.07140701123,
              0.575703006,
              0.6191042139
             ],
             "passed_time": 38.49026118,
             "remaining_time": 253.1026265,
             "test": [
              0.9224684566,
              0.08235730752,
              0.4876504483,
              0.5456668124
             ]
            },
            {
             "iteration": 33,
             "learn": [
              0.07122700231,
              0.5766577676,
              0.6203356954
             ],
             "passed_time": 39.46184453,
             "remaining_time": 250.698777,
             "test": [
              0.9223682055,
              0.08244311138,
              0.4849072333,
              0.5458509327
             ]
            },
            {
             "iteration": 34,
             "learn": [
              0.07088853306,
              0.5790940016,
              0.6228760393
             ],
             "passed_time": 40.59642182,
             "remaining_time": 249.3780198,
             "test": [
              0.9225649091,
              0.0824979186,
              0.4832164037,
              0.5443214174
             ]
            },
            {
             "iteration": 35,
             "learn": [
              0.0706362148,
              0.5813700394,
              0.624965514
             ],
             "passed_time": 41.92819443,
             "remaining_time": 249.2398224,
             "test": [
              0.9228988758,
              0.08244406814,
              0.4845463417,
              0.5445792978
             ]
            },
            {
             "iteration": 36,
             "learn": [
              0.07048253522,
              0.5815820579,
              0.6254513416
             ],
             "passed_time": 43.33984311,
             "remaining_time": 249.4969347,
             "test": [
              0.923083969,
              0.08235429462,
              0.4846427604,
              0.5450422047
             ]
            },
            {
             "iteration": 37,
             "learn": [
              0.07037303642,
              0.5819644447,
              0.6260641534
             ],
             "passed_time": 44.53191139,
             "remaining_time": 248.4411899,
             "test": [
              0.9232243195,
              0.08224273289,
              0.485030809,
              0.5454265313
             ]
            },
            {
             "iteration": 38,
             "learn": [
              0.07013061706,
              0.5837574345,
              0.6282893046
             ],
             "passed_time": 45.93453484,
             "remaining_time": 248.5176116,
             "test": [
              0.9231747581,
              0.08228896846,
              0.4849029962,
              0.5449502287
             ]
            },
            {
             "iteration": 39,
             "learn": [
              0.07002716389,
              0.5850425519,
              0.6289506803
             ],
             "passed_time": 47.14091541,
             "remaining_time": 247.4898059,
             "test": [
              0.9232315729,
              0.08227291206,
              0.4856875115,
              0.5454100529
             ]
            },
            {
             "iteration": 40,
             "learn": [
              0.06997252333,
              0.5853240493,
              0.6292265684
             ],
             "passed_time": 48.04073899,
             "remaining_time": 244.8905963,
             "test": [
              0.9231595092,
              0.08229397171,
              0.4854031175,
              0.5451452224
             ]
            },
            {
             "iteration": 41,
             "learn": [
              0.06973843579,
              0.5855068916,
              0.6295043462
             ],
             "passed_time": 49.03601099,
             "remaining_time": 242.8450068,
             "test": [
              0.9236003854,
              0.0822153207,
              0.4859549476,
              0.5451799166
             ]
            },
            {
             "iteration": 42,
             "learn": [
              0.06962803966,
              0.5870249778,
              0.6302516062
             ],
             "passed_time": 50.37719824,
             "remaining_time": 242.5134892,
             "test": [
              0.9238112544,
              0.08214370538,
              0.4864791753,
              0.5454705856
             ]
            },
            {
             "iteration": 43,
             "learn": [
              0.06947445498,
              0.5874451125,
              0.6310426115
             ],
             "passed_time": 51.6914221,
             "remaining_time": 242.0098398,
             "test": [
              0.9238507539,
              0.08217541864,
              0.485156371,
              0.5450859788
             ]
            },
            {
             "iteration": 44,
             "learn": [
              0.06931692386,
              0.5880623076,
              0.6320099206
             ],
             "passed_time": 52.80945516,
             "remaining_time": 240.5764068,
             "test": [
              0.9237179384,
              0.08208160619,
              0.4855603365,
              0.5457258318
             ]
            },
            {
             "iteration": 45,
             "learn": [
              0.06902848048,
              0.5906454174,
              0.63437774
             ],
             "passed_time": 53.89695224,
             "remaining_time": 239.0212665,
             "test": [
              0.923633641,
              0.08218590774,
              0.4860172645,
              0.5453531634
             ]
            },
            {
             "iteration": 46,
             "learn": [
              0.06889035973,
              0.591704788,
              0.6351892479
             ],
             "passed_time": 55.12731463,
             "remaining_time": 238.1030823,
             "test": [
              0.9236278033,
              0.0821679082,
              0.4866421806,
              0.5455957986
             ]
            },
            {
             "iteration": 47,
             "learn": [
              0.06877509552,
              0.5928139148,
              0.6358466553
             ],
             "passed_time": 56.63190078,
             "remaining_time": 238.3259158,
             "test": [
              0.9237104921,
              0.08215251256,
              0.4862193683,
              0.5456797597
             ]
            },
            {
             "iteration": 48,
             "learn": [
              0.0684531564,
              0.5944957484,
              0.6368142479
             ],
             "passed_time": 57.82555112,
             "remaining_time": 237.2027709,
             "test": [
              0.9241548922,
              0.08207082671,
              0.4856105706,
              0.545836416
             ]
            },
            {
             "iteration": 49,
             "learn": [
              0.06828844111,
              0.5943181645,
              0.6378539305
             ],
             "passed_time": 59.08227964,
             "remaining_time": 236.3291186,
             "test": [
              0.9242225253,
              0.08199281446,
              0.4852767277,
              0.5467200251
             ]
            },
            {
             "iteration": 50,
             "learn": [
              0.06818221303,
              0.5955662621,
              0.6389561602
             ],
             "passed_time": 60.28545166,
             "remaining_time": 235.2314682,
             "test": [
              0.924368685,
              0.08196767637,
              0.485861357,
              0.5462947269
             ]
            },
            {
             "iteration": 51,
             "learn": [
              0.06809951813,
              0.5968337248,
              0.6401165911
             ],
             "passed_time": 61.47790086,
             "remaining_time": 234.0889302,
             "test": [
              0.9243166349,
              0.08194471341,
              0.4866411288,
              0.5464422473
             ]
            },
            {
             "iteration": 52,
             "learn": [
              0.06793376445,
              0.5963221616,
              0.6407356387
             ],
             "passed_time": 62.61479142,
             "remaining_time": 232.7379983,
             "test": [
              0.9245505688,
              0.08187023969,
              0.4874385979,
              0.5472090508
             ]
            },
            {
             "iteration": 53,
             "learn": [
              0.06782132661,
              0.5975264264,
              0.6416931217
             ],
             "passed_time": 63.74426195,
             "remaining_time": 231.3680619,
             "test": [
              0.9246486284,
              0.08188226741,
              0.487679244,
              0.5466307394
             ]
            },
            {
             "iteration": 54,
             "learn": [
              0.06772643075,
              0.5986754967,
              0.642356198
             ],
             "passed_time": 65.03108099,
             "remaining_time": 230.5647417,
             "test": [
              0.9248122728,
              0.08183727755,
              0.4872169962,
              0.547431116
             ]
            },
            {
             "iteration": 55,
             "learn": [
              0.0676233364,
              0.5995275471,
              0.642970616
             ],
             "passed_time": 66.39142288,
             "remaining_time": 229.9988578,
             "test": [
              0.9250514523,
              0.08167967005,
              0.4873185067,
              0.5482271769
             ]
            },
            {
             "iteration": 56,
             "learn": [
              0.06747539879,
              0.6001888632,
              0.643361489
             ],
             "passed_time": 67.62134484,
             "remaining_time": 228.9635009,
             "test": [
              0.9250302333,
              0.08167906605,
              0.4877036865,
              0.5480838041
             ]
            },
            {
             "iteration": 57,
             "learn": [
              0.06737076465,
              0.601296054,
              0.6434845049
             ],
             "passed_time": 68.90185263,
             "remaining_time": 228.0888915,
             "test": [
              0.9252372122,
              0.08157046419,
              0.4882152272,
              0.5488387252
             ]
            },
            {
             "iteration": 58,
             "learn": [
              0.06723335807,
              0.6025294136,
              0.6452755102
             ],
             "passed_time": 70.25298795,
             "remaining_time": 227.4291644,
             "test": [
              0.9251342018,
              0.08164504491,
              0.4874951532,
              0.5478571429
             ]
            },
            {
             "iteration": 59,
             "learn": [
              0.06712943192,
              0.602546529,
              0.6460033069
             ],
             "passed_time": 71.37924606,
             "remaining_time": 226.0342792,
             "test": [
              0.9252350663,
              0.08162740302,
              0.4853407521,
              0.5475469689
             ]
            },
            {
             "iteration": 60,
             "learn": [
              0.06706518043,
              0.6043859116,
              0.6467166478
             ],
             "passed_time": 72.68796923,
             "remaining_time": 225.213544,
             "test": [
              0.9251733451,
              0.08167287059,
              0.485129063,
              0.5470860237
             ]
            },
            {
             "iteration": 61,
             "learn": [
              0.0669751139,
              0.604479771,
              0.6467563303
             ],
             "passed_time": 73.95181968,
             "remaining_time": 224.2410016,
             "test": [
              0.9252910605,
              0.08167332575,
              0.483791447,
              0.5475042037
             ]
            },
            {
             "iteration": 62,
             "learn": [
              0.06693693566,
              0.6051105666,
              0.6471928382
             ],
             "passed_time": 75.06037956,
             "remaining_time": 222.7982695,
             "test": [
              0.9253697745,
              0.0816193186,
              0.484509676,
              0.5481661959
             ]
            },
            {
             "iteration": 63,
             "learn": [
              0.06685821272,
              0.6056325164,
              0.6470496032
             ],
             "passed_time": 76.30054323,
             "remaining_time": 221.7484538,
             "test": [
              0.9254245633,
              0.08160466501,
              0.484812458,
              0.5482901197
             ]
            },
            {
             "iteration": 64,
             "learn": [
              0.06678708273,
              0.6056996634,
              0.6474262094
             ],
             "passed_time": 77.53074772,
             "remaining_time": 220.6644358,
             "test": [
              0.9255237322,
              0.08151747202,
              0.485619016,
              0.5486680567
             ]
            },
            {
             "iteration": 65,
             "learn": [
              0.06677805208,
              0.6059222045,
              0.6472119237
             ],
             "passed_time": 78.40204057,
             "remaining_time": 218.5753858,
             "test": [
              0.9255385782,
              0.08150983523,
              0.4857329473,
              0.5486806116
             ]
            },
            {
             "iteration": 66,
             "learn": [
              0.06672696286,
              0.6061546891,
              0.6473907785
             ],
             "passed_time": 79.60645553,
             "remaining_time": 217.4325577,
             "test": [
              0.9256644048,
              0.0814414052,
              0.4860408688,
              0.5491890862
             ]
            },
            {
             "iteration": 67,
             "learn": [
              0.06668843366,
              0.6070053126,
              0.648180839
             ],
             "passed_time": 80.63560762,
             "remaining_time": 215.8188322,
             "test": [
              0.9257338538,
              0.08140171223,
              0.486527019,
              0.5497140391
             ]
            },
            {
             "iteration": 68,
             "learn": [
              0.0665458456,
              0.6082541613,
              0.6489566327
             ],
             "passed_time": 81.85492992,
             "remaining_time": 214.7209031,
             "test": [
              0.9256135245,
              0.08148547762,
              0.486851201,
              0.5491309636
             ]
            },
            {
             "iteration": 69,
             "learn": [
              0.06641131363,
              0.6090733737,
              0.650029006
             ],
             "passed_time": 83.29920736,
             "remaining_time": 214.1979618,
             "test": [
              0.9256566406,
              0.08146973841,
              0.4868585001,
              0.5487963523
             ]
            },
            {
             "iteration": 70,
             "learn": [
              0.0663385286,
              0.6088053373,
              0.6504297997
             ],
             "passed_time": 84.65915035,
             "remaining_time": 213.4364495,
             "test": [
              0.9256622254,
              0.08145860215,
              0.487054102,
              0.5484652161
             ]
            },
            {
             "iteration": 71,
             "learn": [
              0.06628317159,
              0.6099398505,
              0.6506593915
             ],
             "passed_time": 85.96458556,
             "remaining_time": 212.5235587,
             "test": [
              0.9256596004,
              0.08148142968,
              0.486812256,
              0.5484312506
             ]
            },
            {
             "iteration": 72,
             "learn": [
              0.06611397666,
              0.6121595832,
              0.6521615646
             ],
             "passed_time": 87.42257021,
             "remaining_time": 211.9697935,
             "test": [
              0.9259662796,
              0.08139615304,
              0.4883766133,
              0.5488818828
             ]
            },
            {
             "iteration": 73,
             "learn": [
              0.06600639994,
              0.6128328638,
              0.6529951814
             ],
             "passed_time": 88.70546132,
             "remaining_time": 210.9751512,
             "test": [
              0.9260591514,
              0.08138538685,
              0.487745098,
              0.5485872343
             ]
            },
            {
             "iteration": 74,
             "learn": [
              0.06591414111,
              0.6145562345,
              0.6543311602
             ],
             "passed_time": 90.26821932,
             "remaining_time": 210.6258451,
             "test": [
              0.9259383485,
              0.08143997681,
              0.4881040314,
              0.5483036275
             ]
            },
            {
             "iteration": 75,
             "learn": [
              0.06575576347,
              0.6159705011,
              0.6552783447
             ],
             "passed_time": 91.67474952,
             "remaining_time": 209.8869265,
             "test": [
              0.9257308113,
              0.08147055701,
              0.4891414141,
              0.5485323065
             ]
            },
            {
             "iteration": 76,
             "learn": [
              0.0656059607,
              0.6176688266,
              0.656095805
             ],
             "passed_time": 92.83931517,
             "remaining_time": 208.5870328,
             "test": [
              0.9256139377,
              0.0815513304,
              0.4882030726,
              0.5481860371
             ]
            },
            {
             "iteration": 77,
             "learn": [
              0.06556331825,
              0.6174097023,
              0.6563339002
             ],
             "passed_time": 94.04914477,
             "remaining_time": 207.3904218,
             "test": [
              0.9257146889,
              0.08150446381,
              0.4878647396,
              0.5483741929
             ]
            },
            {
             "iteration": 78,
             "learn": [
              0.06551525476,
              0.6177235084,
              0.6567197657
             ],
             "passed_time": 95.24130532,
             "remaining_time": 206.1552305,
             "test": [
              0.9253097737,
              0.08167108506,
              0.4872137089,
              0.547748184
             ]
            },
            {
             "iteration": 79,
             "learn": [
              0.06543533268,
              0.6183745583,
              0.6569208239
             ],
             "passed_time": 96.55629452,
             "remaining_time": 205.1821259,
             "test": [
              0.9252889879,
              0.08174967342,
              0.4864327679,
              0.5472133105
             ]
            },
            {
             "iteration": 80,
             "learn": [
              0.06539421708,
              0.6186715789,
              0.6571347317
             ],
             "passed_time": 97.7740547,
             "remaining_time": 203.9977191,
             "test": [
              0.925220042,
              0.08176660319,
              0.4865512572,
              0.54724268
             ]
            },
            {
             "iteration": 81,
             "learn": [
              0.06531707519,
              0.619374915,
              0.6569773243
             ],
             "passed_time": 98.92628634,
             "remaining_time": 202.6782452,
             "test": [
              0.9252716803,
              0.08175291831,
              0.4855891619,
              0.5474721998
             ]
            },
            {
             "iteration": 82,
             "learn": [
              0.06521281455,
              0.6195509186,
              0.6574029667
             ],
             "passed_time": 100.1650255,
             "remaining_time": 201.5368585,
             "test": [
              0.925453343,
              0.08170623388,
              0.4849716631,
              0.5477350126
             ]
            },
            {
             "iteration": 83,
             "learn": [
              0.06516077984,
              0.6199074494,
              0.6576853741
             ],
             "passed_time": 101.3573481,
             "remaining_time": 200.301426,
             "test": [
              0.9251801796,
              0.08177346663,
              0.4847531178,
              0.5474331338
             ]
            },
            {
             "iteration": 84,
             "learn": [
              0.06507968176,
              0.6208857696,
              0.6581520219
             ],
             "passed_time": 102.4256168,
             "remaining_time": 198.8261973,
             "test": [
              0.9251937494,
              0.08173073496,
              0.484834851,
              0.5477873621
             ]
            },
            {
             "iteration": 85,
             "learn": [
              0.06490912803,
              0.6207657876,
              0.6587587868
             ],
             "passed_time": 103.4049186,
             "remaining_time": 197.1907751,
             "test": [
              0.92485239,
              0.08179583803,
              0.4850286519,
              0.5477857367
             ]
            },
            {
             "iteration": 86,
             "learn": [
              0.06490347269,
              0.6208909184,
              0.6588540249
             ],
             "passed_time": 104.2689291,
             "remaining_time": 195.3544304,
             "test": [
              0.9248791097,
              0.08174504469,
              0.4861221021,
              0.5479826921
             ]
            },
            {
             "iteration": 87,
             "learn": [
              0.06481032985,
              0.6214557766,
              0.6590709562
             ],
             "passed_time": 105.4015686,
             "remaining_time": 194.0347059,
             "test": [
              0.9246075622,
              0.08179880548,
              0.4864067522,
              0.5479959757
             ]
            },
            {
             "iteration": 88,
             "learn": [
              0.06468703257,
              0.6231002581,
              0.6603891723
             ],
             "passed_time": 106.6071811,
             "remaining_time": 192.8511928,
             "test": [
              0.9246527979,
              0.0818479212,
              0.4861216916,
              0.5476857457
             ]
            },
            {
             "iteration": 89,
             "learn": [
              0.06460917856,
              0.6236984275,
              0.6610468632
             ],
             "passed_time": 107.8444867,
             "remaining_time": 191.7235319,
             "test": [
              0.924688124,
              0.08185554166,
              0.4858848706,
              0.5472524325
             ]
            },
            {
             "iteration": 90,
             "learn": [
              0.06454847708,
              0.6237078397,
              0.6613176493
             ],
             "passed_time": 108.7311691,
             "remaining_time": 189.980834,
             "test": [
              0.9247274844,
              0.08182945918,
              0.486425251,
              0.5477093422
             ]
            },
            {
             "iteration": 91,
             "learn": [
              0.06440317829,
              0.6257925571,
              0.6621955782
             ],
             "passed_time": 109.8059473,
             "remaining_time": 188.579779,
             "test": [
              0.9248996224,
              0.08183783009,
              0.4857391152,
              0.5474521904
             ]
            },
            {
             "iteration": 92,
             "learn": [
              0.06427829199,
              0.6275653651,
              0.6630823885
             ],
             "passed_time": 110.9829124,
             "remaining_time": 187.35825,
             "test": [
              0.9248642206,
              0.0818790641,
              0.4857516493,
              0.5476096314
             ]
            },
            {
             "iteration": 93,
             "learn": [
              0.06422514968,
              0.6280981798,
              0.6633912509
             ],
             "passed_time": 112.1041702,
             "remaining_time": 186.0452186,
             "test": [
              0.9249217186,
              0.08183448018,
              0.4878956806,
              0.5476439893
             ]
            },
            {
             "iteration": 94,
             "learn": [
              0.06405332969,
              0.6287605295,
              0.6644809146
             ],
             "passed_time": 113.3859978,
             "remaining_time": 184.9982069,
             "test": [
              0.925071961,
              0.08177882251,
              0.4870387373,
              0.54814798
             ]
            },
            {
             "iteration": 95,
             "learn": [
              0.06402335381,
              0.6289194676,
              0.6647037982
             ],
             "passed_time": 114.79603,
             "remaining_time": 184.1519648,
             "test": [
              0.9249823501,
              0.08186639414,
              0.4868048366,
              0.5475345261
             ]
            },
            {
             "iteration": 96,
             "learn": [
              0.06391665282,
              0.6297605971,
              0.665207483
             ],
             "passed_time": 115.8318291,
             "remaining_time": 182.7038129,
             "test": [
              0.9249246919,
              0.08200421504,
              0.4837161937,
              0.5467365035
             ]
            },
            {
             "iteration": 97,
             "learn": [
              0.06382772689,
              0.6295053349,
              0.6654671202
             ],
             "passed_time": 116.9962171,
             "remaining_time": 181.4635204,
             "test": [
              0.9247493437,
              0.08203251776,
              0.484405754,
              0.5466037239
             ]
            },
            {
             "iteration": 98,
             "learn": [
              0.06375677742,
              0.6301633623,
              0.666141062
             ],
             "passed_time": 118.0492214,
             "remaining_time": 180.0548731,
             "test": [
              0.9247418498,
              0.08206522813,
              0.4837515426,
              0.5464750359
             ]
            },
            {
             "iteration": 99,
             "learn": [
              0.06370391333,
              0.6306401155,
              0.6664125094
             ],
             "passed_time": 119.1732111,
             "remaining_time": 178.7598167,
             "test": [
              0.9247864188,
              0.08199679983,
              0.4844010106,
              0.5469472469
             ]
            },
            {
             "iteration": 100,
             "learn": [
              0.06362714,
              0.6317403066,
              0.6663081066
             ],
             "passed_time": 120.2845995,
             "remaining_time": 177.4495577,
             "test": [
              0.9249396062,
              0.08198432323,
              0.4840023497,
              0.5475098085
             ]
            },
            {
             "iteration": 101,
             "learn": [
              0.06359298974,
              0.6320693749,
              0.6666308579
             ],
             "passed_time": 121.2719869,
             "remaining_time": 175.9632751,
             "test": [
              0.9249622783,
              0.08202241661,
              0.4835847209,
              0.5473134696
             ]
            },
            {
             "iteration": 102,
             "learn": [
              0.06351203487,
              0.6326003365,
              0.6674178005
             ],
             "passed_time": 122.396163,
             "remaining_time": 174.6819025,
             "test": [
              0.9249593102,
              0.08205134719,
              0.4841011186,
              0.547066911
             ]
            },
            {
             "iteration": 103,
             "learn": [
              0.06333244105,
              0.6345195943,
              0.6688236017
             ],
             "passed_time": 123.5032857,
             "remaining_time": 173.3796126,
             "test": [
              0.924958867,
              0.08205846635,
              0.4843704124,
              0.5470267241
             ]
            },
            {
             "iteration": 104,
             "learn": [
              0.06325047485,
              0.6355756831,
              0.6696523054
             ],
             "passed_time": 124.5447776,
             "remaining_time": 171.9904071,
             "test": [
              0.9247443903,
              0.08203235125,
              0.4854783153,
              0.5472049031
             ]
            },
            {
             "iteration": 105,
             "learn": [
              0.06318962502,
              0.6358034871,
              0.6702491497
             ],
             "passed_time": 125.5227552,
             "remaining_time": 170.5214787,
             "test": [
              0.9248287751,
              0.08203755462,
              0.4857690577,
              0.5471383172
             ]
            },
            {
             "iteration": 106,
             "learn": [
              0.06314971771,
              0.6359916668,
              0.6703665911
             ],
             "passed_time": 126.6147624,
             "remaining_time": 169.2141217,
             "test": [
              0.9249073845,
              0.08203361949,
              0.4857316095,
              0.5470245942
             ]
            },
            {
             "iteration": 107,
             "learn": [
              0.06304169093,
              0.6364767803,
              0.6708903061
             ],
             "passed_time": 127.708599,
             "remaining_time": 167.913158,
             "test": [
              0.9250236023,
              0.08194845039,
              0.4857565052,
              0.5476395054
             ]
            },
            {
             "iteration": 108,
             "learn": [
              0.06293775421,
              0.6371798138,
              0.6716491875
             ],
             "passed_time": 129.0020449,
             "remaining_time": 166.8742049,
             "test": [
              0.9250250387,
              0.08195511383,
              0.4859332035,
              0.5475290893
             ]
            },
            {
             "iteration": 109,
             "learn": [
              0.06281893611,
              0.6373402454,
              0.6721508881
             ],
             "passed_time": 129.9486277,
             "remaining_time": 165.3891625,
             "test": [
              0.9254922064,
              0.08187744942,
              0.4861289155,
              0.5474810555
             ]
            },
            {
             "iteration": 110,
             "learn": [
              0.06278523819,
              0.6372209478,
              0.6723654573
             ],
             "passed_time": 130.9019759,
             "remaining_time": 163.9222942,
             "test": [
              0.9254779484,
              0.0819052635,
              0.484652539,
              0.5475306587
             ]
            },
            {
             "iteration": 111,
             "learn": [
              0.06267158092,
              0.6377749805,
              0.672542328
             ],
             "passed_time": 132.2565152,
             "remaining_time": 162.9589205,
             "test": [
              0.9254778212,
              0.08185079915,
              0.4864415727,
              0.5477224576
             ]
            },
            {
             "iteration": 112,
             "learn": [
              0.06254182342,
              0.638443216,
              0.6728819917
             ],
             "passed_time": 133.3401017,
             "remaining_time": 161.6601233,
             "test": [
              0.9255797624,
              0.08185736869,
              0.4863940259,
              0.547703345
             ]
            },
            {
             "iteration": 113,
             "learn": [
              0.0625088942,
              0.6385885031,
              0.6735193689
             ],
             "passed_time": 134.4735677,
             "remaining_time": 160.4246071,
             "test": [
              0.9255885954,
              0.08185475631,
              0.4859321537,
              0.5479708658
             ]
            },
            {
             "iteration": 114,
             "learn": [
              0.06240589746,
              0.639366116,
              0.674268802
             ],
             "passed_time": 135.4402433,
             "remaining_time": 158.9950683,
             "test": [
              0.9255094616,
              0.08192288512,
              0.4861112469,
              0.5474799345
             ]
            },
            {
             "iteration": 115,
             "learn": [
              0.0622365027,
              0.6394174583,
              0.6747598262
             ],
             "passed_time": 136.6380849,
             "remaining_time": 157.8405464,
             "test": [
              0.9256054683,
              0.081944332,
              0.4862322525,
              0.5477572639
             ]
            },
            {
             "iteration": 116,
             "learn": [
              0.06207730373,
              0.6400371714,
              0.6763216175
             ],
             "passed_time": 137.6788549,
             "remaining_time": 156.5067325,
             "test": [
              0.925503483,
              0.08198246372,
              0.4855750411,
              0.5478971617
             ]
            },
            {
             "iteration": 117,
             "learn": [
              0.0620300644,
              0.6403644155,
              0.6765411943
             ],
             "passed_time": 138.7570838,
             "remaining_time": 155.2197887,
             "test": [
              0.9255020264,
              0.08199178795,
              0.4856111236,
              0.5477188705
             ]
            },
            {
             "iteration": 118,
             "learn": [
              0.06194988758,
              0.6411861614,
              0.677117158
             ],
             "passed_time": 139.8412875,
             "remaining_time": 153.94293,
             "test": [
              0.9254482769,
              0.08199056626,
              0.4862497434,
              0.5481539772
             ]
            },
            {
             "iteration": 119,
             "learn": [
              0.06192059255,
              0.6412003414,
              0.6771783825
             ],
             "passed_time": 141.1048642,
             "remaining_time": 152.8636028,
             "test": [
              0.9255149208,
              0.08198978667,
              0.4863295569,
              0.5480252892
             ]
            },
            {
             "iteration": 120,
             "learn": [
              0.06187764115,
              0.6410951518,
              0.677393613
             ],
             "passed_time": 142.2204437,
             "remaining_time": 151.6234483,
             "test": [
              0.9255913485,
              0.08194687885,
              0.4866851039,
              0.5483844498
             ]
            },
            {
             "iteration": 121,
             "learn": [
              0.06180822794,
              0.6413862305,
              0.6779495465
             ],
             "passed_time": 143.1497885,
             "remaining_time": 150.189942,
             "test": [
              0.9255487044,
              0.08195556986,
              0.4864954724,
              0.5484760335
             ]
            },
            {
             "iteration": 122,
             "learn": [
              0.06175091299,
              0.6418813661,
              0.678420068
             ],
             "passed_time": 144.0097714,
             "remaining_time": 148.693016,
             "test": [
              0.9255936571,
              0.08190839858,
              0.4869549906,
              0.5484507555
             ]
            },
            {
             "iteration": 123,
             "learn": [
              0.06170872,
              0.6421405684,
              0.6785592404
             ],
             "passed_time": 145.271807,
             "remaining_time": 147.6149007,
             "test": [
              0.925628435,
              0.08191683538,
              0.4863727965,
              0.548529448
             ]
            },
            {
             "iteration": 124,
             "learn": [
              0.06168857242,
              0.642496668,
              0.6782626606
             ],
             "passed_time": 146.4451513,
             "remaining_time": 146.4451513,
             "test": [
              0.9256228815,
              0.08192804937,
              0.4863976522,
              0.5484456551
             ]
            },
            {
             "iteration": 125,
             "learn": [
              0.06163660597,
              0.6432739788,
              0.6785823885
             ],
             "passed_time": 147.5442663,
             "remaining_time": 145.2022938,
             "test": [
              0.9256612667,
              0.08194142044,
              0.4861738977,
              0.5483729598
             ]
            },
            {
             "iteration": 126,
             "learn": [
              0.06158578948,
              0.6438466832,
              0.6792719199
             ],
             "passed_time": 148.6690722,
             "remaining_time": 143.9865818,
             "test": [
              0.9255903571,
              0.08199473397,
              0.4855241265,
              0.54790215
             ]
            },
            {
             "iteration": 127,
             "learn": [
              0.06145066214,
              0.643940869,
              0.6804269652
             ],
             "passed_time": 149.7754348,
             "remaining_time": 142.7547113,
             "test": [
              0.9258678518,
              0.08190832119,
              0.4848841428,
              0.54809748
             ]
            },
            {
             "iteration": 128,
             "learn": [
              0.06140342922,
              0.6441556108,
              0.6807735261
             ],
             "passed_time": 150.9855713,
             "remaining_time": 141.622125,
             "test": [
              0.9258882,
              0.08190239913,
              0.484661253,
              0.5480084746
             ]
            },
            {
             "iteration": 129,
             "learn": [
              0.06137397561,
              0.6444417832,
              0.6808875661
             ],
             "passed_time": 152.1264468,
             "remaining_time": 140.4244125,
             "test": [
              0.9259072088,
              0.08189380851,
              0.4849584249,
              0.5484297933
             ]
            },
            {
             "iteration": 130,
             "learn": [
              0.06133975001,
              0.6446825064,
              0.6812566138
             ],
             "passed_time": 153.124091,
             "remaining_time": 139.0974567,
             "test": [
              0.9259907504,
              0.08186883111,
              0.4850332268,
              0.5485520357
             ]
            },
            {
             "iteration": 131,
             "learn": [
              0.0613040058,
              0.6453330143,
              0.6813921958
             ],
             "passed_time": 154.307626,
             "remaining_time": 137.9416657,
             "test": [
              0.926066512,
              0.08184716966,
              0.4857221199,
              0.5487482064
             ]
            },
            {
             "iteration": 132,
             "learn": [
              0.06125531299,
              0.6456320842,
              0.6817804233
             ],
             "passed_time": 155.4106179,
             "remaining_time": 136.7146037,
             "test": [
              0.9259928432,
              0.08189736563,
              0.4850831112,
              0.5484474487
             ]
            },
            {
             "iteration": 133,
             "learn": [
              0.06122728764,
              0.6457227447,
              0.6820222033
             ],
             "passed_time": 156.6182719,
             "remaining_time": 135.5799966,
             "test": [
              0.9260153084,
              0.0818775601,
              0.4852612598,
              0.5487151937
             ]
            },
            {
             "iteration": 134,
             "learn": [
              0.0612189875,
              0.6457816192,
              0.6820876795
             ],
             "passed_time": 157.5522825,
             "remaining_time": 134.2112036,
             "test": [
              0.9259442884,
              0.08190560398,
              0.485422812,
              0.5483589476
             ]
            },
            {
             "iteration": 135,
             "learn": [
              0.06117832445,
              0.6462278958,
              0.6823922902
             ],
             "passed_time": 158.4824067,
             "remaining_time": 132.8455468,
             "test": [
              0.9258369531,
              0.08193172943,
              0.4853082427,
              0.5484362389
             ]
            },
            {
             "iteration": 136,
             "learn": [
              0.06112429394,
              0.6468063469,
              0.6824729781
             ],
             "passed_time": 159.3150584,
             "remaining_time": 131.4058511,
             "test": [
              0.9258823555,
              0.08189096208,
              0.4854456504,
              0.5487875527
             ]
            },
            {
             "iteration": 137,
             "learn": [
              0.06105504142,
              0.6464588981,
              0.6828608277
             ],
             "passed_time": 160.1929391,
             "remaining_time": 130.0116607,
             "test": [
              0.9257749681,
              0.08198584363,
              0.484115215,
              0.5482123801
             ]
            },
            {
             "iteration": 138,
             "learn": [
              0.06099776768,
              0.6470993441,
              0.6829593726
             ],
             "passed_time": 161.2380785,
             "remaining_time": 128.7584656,
             "test": [
              0.9257633524,
              0.08198642042,
              0.4842533217,
              0.547960721
             ]
            },
            {
             "iteration": 139,
             "learn": [
              0.06088379436,
              0.6480361633,
              0.6841297241
             ],
             "passed_time": 162.370649,
             "remaining_time": 127.5769385,
             "test": [
              0.9258024905,
              0.0819627118,
              0.4844116694,
              0.5483081114
             ]
            },
            {
             "iteration": 140,
             "learn": [
              0.06085252744,
              0.6480555639,
              0.6843407029
             ],
             "passed_time": 163.0695074,
             "remaining_time": 126.0608249,
             "test": [
              0.9257932247,
              0.08195062848,
              0.4840918244,
              0.548332997
             ]
            },
            {
             "iteration": 141,
             "learn": [
              0.06077906793,
              0.6489691416,
              0.6844058957
             ],
             "passed_time": 163.9910579,
             "remaining_time": 124.7255933,
             "test": [
              0.9257027954,
              0.08198779452,
              0.483452106,
              0.5480964712
             ]
            },
            {
             "iteration": 142,
             "learn": [
              0.0606955177,
              0.6498660641,
              0.6852375283
             ],
             "passed_time": 164.8556307,
             "remaining_time": 123.3535138,
             "test": [
              0.9256981713,
              0.08198638168,
              0.4837139795,
              0.5479799457
             ]
            },
            {
             "iteration": 143,
             "learn": [
              0.06062667007,
              0.6503763336,
              0.6854557823
             ],
             "passed_time": 165.8048573,
             "remaining_time": 122.0507977,
             "test": [
              0.9257924997,
              0.08197721629,
              0.4834775767,
              0.5478514819
             ]
            },
            {
             "iteration": 144,
             "learn": [
              0.06057890464,
              0.6506608391,
              0.6858568594
             ],
             "passed_time": 166.6478915,
             "remaining_time": 120.6760594,
             "test": [
              0.9258373811,
              0.08197090523,
              0.483007726,
              0.5476757129
             ]
            },
            {
             "iteration": 145,
             "learn": [
              0.06047029272,
              0.6510082184,
              0.6862371504
             ],
             "passed_time": 167.5762035,
             "remaining_time": 119.3693505,
             "test": [
              0.925731649,
              0.0821097139,
              0.4805664862,
              0.5466063582
             ]
            },
            {
             "iteration": 146,
             "learn": [
              0.06038325764,
              0.6513069254,
              0.6868270975
             ],
             "passed_time": 168.5413892,
             "remaining_time": 118.0936265,
             "test": [
              0.9257785741,
              0.08211014732,
              0.4806487574,
              0.5467435096
             ]
            },
            {
             "iteration": 147,
             "learn": [
              0.06033702882,
              0.6513110632,
              0.68718887
             ],
             "passed_time": 169.666509,
             "remaining_time": 116.9323237,
             "test": [
              0.9257550622,
              0.08213258421,
              0.4806590046,
              0.5468262936
             ]
            },
            {
             "iteration": 148,
             "learn": [
              0.06029686477,
              0.6515949488,
              0.6870136054
             ],
             "passed_time": 170.766836,
             "remaining_time": 115.7547009,
             "test": [
              0.9256612063,
              0.08219839782,
              0.4807102343,
              0.5463105327
             ]
            },
            {
             "iteration": 149,
             "learn": [
              0.06023805367,
              0.6515670581,
              0.6874845049
             ],
             "passed_time": 171.957538,
             "remaining_time": 114.6383587,
             "test": [
              0.9256337125,
              0.08220239092,
              0.4807969228,
              0.5463953345
             ]
            },
            {
             "iteration": 150,
             "learn": [
              0.06015259169,
              0.6518655935,
              0.6878928571
             ],
             "passed_time": 173.2101116,
             "remaining_time": 113.5615964,
             "test": [
              0.9256387152,
              0.08224330018,
              0.480647834,
              0.5460653753
             ]
            },
            {
             "iteration": 151,
             "learn": [
              0.06014437519,
              0.6518135025,
              0.6879722222
             ],
             "passed_time": 174.1425604,
             "remaining_time": 112.2761245,
             "test": [
              0.925588082,
              0.08226209869,
              0.4804435106,
              0.5460477199
             ]
            },
            {
             "iteration": 152,
             "learn": [
              0.06007706694,
              0.6525077455,
              0.6879940476
             ],
             "passed_time": 175.0395243,
             "remaining_time": 110.9727703,
             "test": [
              0.9254476059,
              0.08228953726,
              0.4809584854,
              0.5459439176
             ]
            },
            {
             "iteration": 153,
             "learn": [
              0.0600351693,
              0.6526873513,
              0.6883148148
             ],
             "passed_time": 176.1783171,
             "remaining_time": 109.8254444,
             "test": [
              0.9256314841,
              0.08224936751,
              0.4804939879,
              0.5460034974
             ]
            },
            {
             "iteration": 154,
             "learn": [
              0.05999651659,
              0.6530471743,
              0.6887222222
             ],
             "passed_time": 177.2729681,
             "remaining_time": 108.651174,
             "test": [
              0.9255728886,
              0.0822720726,
              0.4806303996,
              0.5457861403
             ]
            },
            {
             "iteration": 155,
             "learn": [
              0.05995135059,
              0.6538208366,
              0.6887929894
             ],
             "passed_time": 178.29647,
             "remaining_time": 107.4350524,
             "test": [
              0.9255215218,
              0.08229583028,
              0.4795419772,
              0.545921442
             ]
            },
            {
             "iteration": 156,
             "learn": [
              0.05987865818,
              0.6544459563,
              0.6889940476
             ],
             "passed_time": 179.4349654,
             "remaining_time": 106.2895018,
             "test": [
              0.9253850106,
              0.08236530042,
              0.4799139522,
              0.545646803
             ]
            },
            {
             "iteration": 157,
             "learn": [
              0.05983542335,
              0.6545470855,
              0.6897361111
             ],
             "passed_time": 180.4811544,
             "remaining_time": 105.0902925,
             "test": [
              0.9254705397,
              0.08235920016,
              0.4797157941,
              0.5457080643
             ]
            },
            {
             "iteration": 158,
             "learn": [
              0.05977695662,
              0.6551775679,
              0.6902614324
             ],
             "passed_time": 181.649446,
             "remaining_time": 103.9628905,
             "test": [
              0.9254562451,
              0.08236852144,
              0.4798744807,
              0.5457152946
             ]
            },
            {
             "iteration": 159,
             "learn": [
              0.05973439068,
              0.6559263521,
              0.6901046863
             ],
             "passed_time": 182.8995994,
             "remaining_time": 102.8810247,
             "test": [
              0.9255117314,
              0.08235696118,
              0.4792164452,
              0.5456239351
             ]
            },
            {
             "iteration": 160,
             "learn": [
              0.05962876847,
              0.6561627264,
              0.6912657785
             ],
             "passed_time": 184.1523172,
             "remaining_time": 101.7984859,
             "test": [
              0.9248334171,
              0.08260163247,
              0.4786059828,
              0.544739205
             ]
            },
            {
             "iteration": 161,
             "learn": [
              0.05959207625,
              0.6562607358,
              0.6913100907
             ],
             "passed_time": 185.4566069,
             "remaining_time": 100.7418606,
             "test": [
              0.9248446522,
              0.08259177481,
              0.4787631065,
              0.5450453995
             ]
            },
            {
             "iteration": 162,
             "learn": [
              0.05957526516,
              0.656352205,
              0.6914542706
             ],
             "passed_time": 186.5738734,
             "remaining_time": 99.58237413,
             "test": [
              0.9246963782,
              0.08262790217,
              0.4789836331,
              0.5448366738
             ]
            },
            {
             "iteration": 163,
             "learn": [
              0.05951665863,
              0.6563806906,
              0.6912506614
             ],
             "passed_time": 187.5861952,
             "remaining_time": 98.36837063,
             "test": [
              0.9248137589,
              0.08260971871,
              0.4785738976,
              0.5448268653
             ]
            },
            {
             "iteration": 164,
             "learn": [
              0.05946583232,
              0.6567226577,
              0.6917278912
             ],
             "passed_time": 188.8078664,
             "remaining_time": 97.26465844,
             "test": [
              0.9248235101,
              0.08264131213,
              0.4783068156,
              0.544610517
             ]
            },
            {
             "iteration": 165,
             "learn": [
              0.05943543871,
              0.6566994758,
              0.691523715
             ],
             "passed_time": 189.8878072,
             "remaining_time": 96.08780604,
             "test": [
              0.9248625882,
              0.08264219841,
              0.47821922,
              0.5445571586
             ]
            },
            {
             "iteration": 166,
             "learn": [
              0.05937814437,
              0.6572388561,
              0.6919734505
             ],
             "passed_time": 191.1207164,
             "remaining_time": 94.9881405,
             "test": [
              0.9248309991,
              0.08263724137,
              0.4790356498,
              0.5445885459
             ]
            },
            {
             "iteration": 167,
             "learn": [
              0.0593415859,
              0.6574495722,
              0.6922538738
             ],
             "passed_time": 192.3428226,
             "remaining_time": 93.88161578,
             "test": [
              0.9247872534,
              0.08267671698,
              0.4788676748,
              0.5442113375
             ]
            },
            {
             "iteration": 168,
             "learn": [
              0.05926643482,
              0.6583419117,
              0.6928957861
             ],
             "passed_time": 193.77904,
             "remaining_time": 92.87634462,
             "test": [
              0.9248241172,
              0.0826501945,
              0.4795570951,
              0.5444006703
             ]
            },
            {
             "iteration": 169,
             "learn": [
              0.0592355789,
              0.6583309709,
              0.6932310091
             ],
             "passed_time": 194.9582806,
             "remaining_time": 91.74507324,
             "test": [
              0.9247989377,
              0.08265460758,
              0.4796659691,
              0.5442470406
             ]
            },
            {
             "iteration": 170,
             "learn": [
              0.05911779936,
              0.6592220417,
              0.6936327475
             ],
             "passed_time": 196.2261707,
             "remaining_time": 90.65419581,
             "test": [
              0.9246237168,
              0.08277366391,
              0.4778969215,
              0.5440003699
             ]
            },
            {
             "iteration": 171,
             "learn": [
              0.05909031876,
              0.6594212621,
              0.6940040627
             ],
             "passed_time": 197.427373,
             "remaining_time": 89.53101801,
             "test": [
              0.9245859607,
              0.08278179888,
              0.477731433,
              0.5440665075
             ]
            },
            {
             "iteration": 172,
             "learn": [
              0.05906771838,
              0.6591918891,
              0.6941320862
             ],
             "passed_time": 198.7399434,
             "remaining_time": 88.45650662,
             "test": [
              0.9246723044,
              0.08276016492,
              0.4777260737,
              0.5442166061
             ]
            },
            {
             "iteration": 173,
             "learn": [
              0.05899602266,
              0.6598614112,
              0.6945811602
             ],
             "passed_time": 199.926655,
             "remaining_time": 87.32428608,
             "test": [
              0.9245891897,
              0.08279459026,
              0.4783231144,
              0.544379652
             ]
            },
            {
             "iteration": 174,
             "learn": [
              0.05897745354,
              0.6598709408,
              0.6947336546
             ],
             "passed_time": 201.2096233,
             "remaining_time": 86.23269571,
             "test": [
              0.9246098223,
              0.08278171173,
              0.4778442877,
              0.5443957381
             ]
            },
            {
             "iteration": 175,
             "learn": [
              0.05894806606,
              0.6600092409,
              0.6947521731
             ],
             "passed_time": 202.2209488,
             "remaining_time": 85.02471712,
             "test": [
              0.9246540075,
              0.08276976956,
              0.477364384,
              0.5446545153
             ]
            },
            {
             "iteration": 176,
             "learn": [
              0.05888980401,
              0.6603694875,
              0.6954274376
             ],
             "passed_time": 203.4978,
             "remaining_time": 83.92847118,
             "test": [
              0.9246738983,
              0.08280310983,
              0.4774579838,
              0.5446396063
             ]
            },
            {
             "iteration": 177,
             "learn": [
              0.05886487453,
              0.6605083584,
              0.6956734694
             ],
             "passed_time": 204.3732745,
             "remaining_time": 82.66784137,
             "test": [
              0.9246759969,
              0.08280459325,
              0.47720533,
              0.5447878553
             ]
            },
            {
             "iteration": 178,
             "learn": [
              0.05880827231,
              0.660520672,
              0.6959522865
             ],
             "passed_time": 205.5829099,
             "remaining_time": 81.54405925,
             "test": [
              0.9247429652,
              0.08277724693,
              0.4779297743,
              0.544906959
             ]
            },
            {
             "iteration": 179,
             "learn": [
              0.0587772426,
              0.6611073056,
              0.6960369426
             ],
             "passed_time": 206.4762947,
             "remaining_time": 80.29633685,
             "test": [
              0.924736428,
              0.08277760188,
              0.4778687634,
              0.5448354968
             ]
            },
            {
             "iteration": 180,
             "learn": [
              0.0587564039,
              0.6610262903,
              0.6962532124
             ],
             "passed_time": 207.3730129,
             "remaining_time": 79.05380051,
             "test": [
              0.9247611833,
              0.08276111929,
              0.4780731652,
              0.5447493498
             ]
            },
            {
             "iteration": 181,
             "learn": [
              0.05872897135,
              0.6616330846,
              0.6962991308
             ],
             "passed_time": 208.4871223,
             "remaining_time": 77.89628745,
             "test": [
              0.9247993997,
              0.08276016699,
              0.4778313443,
              0.5447179625
             ]
            },
            {
             "iteration": 182,
             "learn": [
              0.0586680317,
              0.6620225656,
              0.6965008503
             ],
             "passed_time": 209.6845804,
             "remaining_time": 76.76976441,
             "test": [
              0.9248130727,
              0.08279347427,
              0.4777257552,
              0.5447014842
             ]
            },
            {
             "iteration": 183,
             "learn": [
              0.05863574912,
              0.6623710957,
              0.6966517385
             ],
             "passed_time": 210.8073197,
             "remaining_time": 75.61566902,
             "test": [
              0.9248337519,
              0.08279477828,
              0.4776909628,
              0.544580643
             ]
            },
            {
             "iteration": 184,
             "learn": [
              0.05859772873,
              0.6625394369,
              0.6967962018
             ],
             "passed_time": 211.9898637,
             "remaining_time": 74.4829251,
             "test": [
              0.924832685,
              0.08276630999,
              0.4779249012,
              0.5448689579
             ]
            },
            {
             "iteration": 185,
             "learn": [
              0.05855989531,
              0.6630182619,
              0.6968411754
             ],
             "passed_time": 213.2813377,
             "remaining_time": 73.38712695,
             "test": [
              0.9247884375,
              0.08279575794,
              0.4780955203,
              0.5446822034
             ]
            },
            {
             "iteration": 186,
             "learn": [
              0.05849694825,
              0.6635441758,
              0.6974575775
             ],
             "passed_time": 214.4270288,
             "remaining_time": 72.24012201,
             "test": [
              0.924707881,
              0.08285960567,
              0.4777379152,
              0.5440999686
             ]
            },
            {
             "iteration": 187,
             "learn": [
              0.05847065003,
              0.6637324729,
              0.6976119615
             ],
             "passed_time": 215.4133493,
             "remaining_time": 71.04057265,
             "test": [
              0.9247150438,
              0.08285157801,
              0.4773569797,
              0.5439885436
             ]
            },
            {
             "iteration": 188,
             "learn": [
              0.05841602397,
              0.6636533944,
              0.6978398526
             ],
             "passed_time": 216.4922849,
             "remaining_time": 69.8731713,
             "test": [
              0.9247655644,
              0.08284824241,
              0.4772837382,
              0.543828132
             ]
            },
            {
             "iteration": 189,
             "learn": [
              0.05829868793,
              0.6642597132,
              0.6989380197
             ],
             "passed_time": 217.6301534,
             "remaining_time": 68.72531159,
             "test": [
              0.9248383753,
              0.08288166862,
              0.477400348,
              0.5440226213
             ]
            },
            {
             "iteration": 190,
             "learn": [
              0.05826332991,
              0.664784379,
              0.6994290438
             ],
             "passed_time": 218.7596276,
             "remaining_time": 67.57496351,
             "test": [
              0.9248044483,
              0.08295771062,
              0.4753512411,
              0.5434170142
             ]
            },
            {
             "iteration": 191,
             "learn": [
              0.05820867838,
              0.6653091558,
              0.6994237528
             ],
             "passed_time": 219.8965036,
             "remaining_time": 66.42706878,
             "test": [
              0.9248545714,
              0.08299378262,
              0.4738402356,
              0.5430178347
             ]
            },
            {
             "iteration": 192,
             "learn": [
              0.05816748972,
              0.6654080571,
              0.6997378118
             ],
             "passed_time": 220.8451462,
             "remaining_time": 65.22369602,
             "test": [
              0.9248547172,
              0.08300464819,
              0.4732603348,
              0.5426247085
             ]
            },
            {
             "iteration": 193,
             "learn": [
              0.05812241553,
              0.6659831194,
              0.6997860922
             ],
             "passed_time": 221.6558253,
             "remaining_time": 63.98312482,
             "test": [
              0.924864286,
              0.0830143728,
              0.4729682803,
              0.542756199
             ]
            },
            {
             "iteration": 194,
             "learn": [
              0.05807248304,
              0.6664388751,
              0.7002080499
             ],
             "passed_time": 222.7072052,
             "remaining_time": 62.81485274,
             "test": [
              0.9248316777,
              0.08302477897,
              0.4731103858,
              0.5427868577
             ]
            },
            {
             "iteration": 195,
             "learn": [
              0.05804576711,
              0.6669538992,
              0.7006051587
             ],
             "passed_time": 223.8644667,
             "remaining_time": 61.67694492,
             "test": [
              0.9247775592,
              0.0830478583,
              0.473006488,
              0.5425031948
             ]
            },
            {
             "iteration": 196,
             "learn": [
              0.05801808596,
              0.667211507,
              0.7007480159
             ],
             "passed_time": 224.9099485,
             "remaining_time": 60.50876788,
             "test": [
              0.9246941595,
              0.08308156498,
              0.4728899824,
              0.5424496121
             ]
            },
            {
             "iteration": 197,
             "learn": [
              0.05793298132,
              0.6676370117,
              0.7010684996
             ],
             "passed_time": 226.1043548,
             "remaining_time": 59.38094166,
             "test": [
              0.9246816037,
              0.08309389528,
              0.4729170594,
              0.5422750202
             ]
            },
            {
             "iteration": 198,
             "learn": [
              0.05791912402,
              0.6676866858,
              0.7013522298
             ],
             "passed_time": 227.1582434,
             "remaining_time": 58.21643425,
             "test": [
              0.924648387,
              0.0831184938,
              0.4727702139,
              0.5421141602
             ]
            },
            {
             "iteration": 199,
             "learn": [
              0.05772077158,
              0.6685676944,
              0.7020067082
             ],
             "passed_time": 228.2689216,
             "remaining_time": 57.06723039,
             "test": [
              0.9247868376,
              0.08309653659,
              0.4728864536,
              0.5423544974
             ]
            },
            {
             "iteration": 200,
             "learn": [
              0.05769105517,
              0.6685976561,
              0.7021965231
             ],
             "passed_time": 229.3073754,
             "remaining_time": 55.90080295,
             "test": [
              0.924742328,
              0.08311916033,
              0.4726251104,
              0.5419791386
             ]
            },
            {
             "iteration": 201,
             "learn": [
              0.05761523114,
              0.6696753314,
              0.7025737906
             ],
             "passed_time": 230.3544084,
             "remaining_time": 54.73768119,
             "test": [
              0.9247140393,
              0.08316389759,
              0.4722354623,
              0.5412747736
             ]
            },
            {
             "iteration": 202,
             "learn": [
              0.05756681318,
              0.6701200778,
              0.7030539494
             ],
             "passed_time": 231.7775428,
             "remaining_time": 53.66278085,
             "test": [
              0.9246019454,
              0.08328568847,
              0.4711423802,
              0.5399187853
             ]
            },
            {
             "iteration": 203,
             "learn": [
              0.05754023668,
              0.6703673469,
              0.7032391345
             ],
             "passed_time": 233.1440746,
             "remaining_time": 52.5717031,
             "test": [
              0.9245538615,
              0.08330354575,
              0.4711972181,
              0.5398388597
             ]
            },
            {
             "iteration": 204,
             "learn": [
              0.05750913871,
              0.6709602742,
              0.7030698224
             ],
             "passed_time": 234.1171376,
             "remaining_time": 51.3915668,
             "test": [
              0.9245353385,
              0.08329804681,
              0.4711483035,
              0.5400363757
             ]
            },
            {
             "iteration": 205,
             "learn": [
              0.05748251381,
              0.6713068772,
              0.7030969388
             ],
             "passed_time": 235.3973932,
             "remaining_time": 50.27905487,
             "test": [
              0.9242882428,
              0.0833693972,
              0.4706502287,
              0.539635795
             ]
            },
            {
             "iteration": 206,
             "learn": [
              0.0574636121,
              0.6715826644,
              0.7032949735
             ],
             "passed_time": 236.6728518,
             "remaining_time": 49.16392573,
             "test": [
              0.9242741171,
              0.08337932606,
              0.4706619336,
              0.5395000448
             ]
            },
            {
             "iteration": 207,
             "learn": [
              0.05742301123,
              0.6722905856,
              0.7034781746
             ],
             "passed_time": 237.7254329,
             "remaining_time": 48.00225087,
             "test": [
              0.924287814,
              0.08338521058,
              0.4707192206,
              0.5394517308
             ]
            },
            {
             "iteration": 208,
             "learn": [
              0.05738068351,
              0.6725377693,
              0.7039162887
             ],
             "passed_time": 238.7155813,
             "remaining_time": 46.82937241,
             "test": [
              0.9243683656,
              0.08337504194,
              0.4702699477,
              0.5397303493
             ]
            },
            {
             "iteration": 209,
             "learn": [
              0.0573427261,
              0.6726369635,
              0.704050548
             ],
             "passed_time": 239.6833663,
             "remaining_time": 45.65397454,
             "test": [
              0.9244125477,
              0.0833132452,
              0.4712616265,
              0.5401963389
             ]
            },
            {
             "iteration": 210,
             "learn": [
              0.05731716168,
              0.6728531404,
              0.7040782313
             ],
             "passed_time": 240.6893166,
             "remaining_time": 44.48759881,
             "test": [
              0.9244889573,
              0.08324186366,
              0.472430468,
              0.5408105215
             ]
            },
            {
             "iteration": 211,
             "learn": [
              0.05726238346,
              0.6730697971,
              0.7041262283
             ],
             "passed_time": 241.855859,
             "remaining_time": 43.3515219,
             "test": [
              0.9244128545,
              0.08329144244,
              0.4722379463,
              0.5406714084
             ]
            },
            {
             "iteration": 212,
             "learn": [
              0.05723540508,
              0.6731493285,
              0.7044965986
             ],
             "passed_time": 242.8326274,
             "remaining_time": 42.1821935,
             "test": [
              0.9243666616,
              0.08331916865,
              0.4717687852,
              0.5405172742
             ]
            },
            {
             "iteration": 213,
             "learn": [
              0.0572005477,
              0.6739481601,
              0.7047807067
             ],
             "passed_time": 243.8318976,
             "remaining_time": 41.01845007,
             "test": [
              0.9242907496,
              0.08336056026,
              0.4710688761,
              0.5403209353
             ]
            },
            {
             "iteration": 214,
             "learn": [
              0.0571947548,
              0.6738692276,
              0.7044394369
             ],
             "passed_time": 244.637731,
             "remaining_time": 39.82474691,
             "test": [
              0.9242949822,
              0.08336192025,
              0.4709052046,
              0.5405035983
             ]
            },
            {
             "iteration": 215,
             "learn": [
              0.05716627107,
              0.6744589129,
              0.7046845238
             ],
             "passed_time": 245.6913122,
             "remaining_time": 38.67363248,
             "test": [
              0.9243273065,
              0.08336702149,
              0.4709613282,
              0.5403809636
             ]
            },
            {
             "iteration": 216,
             "learn": [
              0.05712002113,
              0.6749707481,
              0.7048611111
             ],
             "passed_time": 246.6396777,
             "remaining_time": 37.50741643,
             "test": [
              0.9242915562,
              0.08339131815,
              0.4708702615,
              0.5401904538
             ]
            },
            {
             "iteration": 217,
             "learn": [
              0.05710319149,
              0.6750388745,
              0.7054264928
             ],
             "passed_time": 247.6273853,
             "remaining_time": 36.34897398,
             "test": [
              0.9242848536,
              0.0833978904,
              0.4710573682,
              0.5402013833
             ]
            },
            {
             "iteration": 218,
             "learn": [
              0.05708451402,
              0.6752877394,
              0.7054575775
             ],
             "passed_time": 248.7163154,
             "remaining_time": 35.20641907,
             "test": [
              0.9242652732,
              0.08340678416,
              0.4708386378,
              0.5401149
             ]
            },
            {
             "iteration": 219,
             "learn": [
              0.05702407203,
              0.6758173419,
              0.7056083711
             ],
             "passed_time": 249.89589,
             "remaining_time": 34.07671228,
             "test": [
              0.9244398709,
              0.08338680829,
              0.4711965871,
              0.5399685566
             ]
            },
            {
             "iteration": 220,
             "learn": [
              0.05700419785,
              0.6759591172,
              0.7055948602
             ],
             "passed_time": 250.9636952,
             "remaining_time": 32.93188761,
             "test": [
              0.9244005883,
              0.08338819827,
              0.4713288382,
              0.5402526119
             ]
            },
            {
             "iteration": 221,
             "learn": [
              0.05696205561,
              0.6762898808,
              0.7059274376
             ],
             "passed_time": 252.3184688,
             "remaining_time": 31.82395102,
             "test": [
              0.9243412041,
              0.08340153112,
              0.4713824129,
              0.5403058022
             ]
            },
            {
             "iteration": 222,
             "learn": [
              0.05693937626,
              0.6762945847,
              0.7059519085
             ],
             "passed_time": 253.6004243,
             "remaining_time": 30.7049841,
             "test": [
              0.9242766697,
              0.08342578019,
              0.4712282447,
              0.5397718254
             ]
            },
            {
             "iteration": 223,
             "learn": [
              0.05691915589,
              0.6765612039,
              0.7062038927
             ],
             "passed_time": 254.49647,
             "remaining_time": 29.53976884,
             "test": [
              0.9242464284,
              0.08341547714,
              0.471187216,
              0.5398907049
             ]
            },
            {
             "iteration": 224,
             "learn": [
              0.05689048536,
              0.6769490371,
              0.7059198791
             ],
             "passed_time": 255.5984777,
             "remaining_time": 28.39983086,
             "test": [
              0.9242491909,
              0.08340816958,
              0.4716973635,
              0.540443458
             ]
            },
            {
             "iteration": 225,
             "learn": [
              0.05687397951,
              0.6768315249,
              0.7060821995
             ],
             "passed_time": 256.4744064,
             "remaining_time": 27.23622014,
             "test": [
              0.9242806516,
              0.08342646398,
              0.4712337482,
              0.5403657744
             ]
            },
            {
             "iteration": 226,
             "learn": [
              0.05680925951,
              0.6772890684,
              0.7069235639
             ],
             "passed_time": 257.7324049,
             "remaining_time": 26.113856,
             "test": [
              0.9241681122,
              0.08350755527,
              0.4709647283,
              0.5397998498
             ]
            },
            {
             "iteration": 227,
             "learn": [
              0.05673503454,
              0.6778382536,
              0.7073769841
             ],
             "passed_time": 258.6823448,
             "remaining_time": 24.96057713,
             "test": [
              0.9242946775,
              0.08345450201,
              0.4713121272,
              0.5401276231
             ]
            },
            {
             "iteration": 228,
             "learn": [
              0.05670692571,
              0.6781991572,
              0.7077347884
             ],
             "passed_time": 259.7940247,
             "remaining_time": 23.8239062,
             "test": [
              0.924261425,
              0.08350659912,
              0.4708571883,
              0.5396201574
             ]
            },
            {
             "iteration": 229,
             "learn": [
              0.05663872267,
              0.6784161812,
              0.7079269652
             ],
             "passed_time": 261.0270608,
             "remaining_time": 22.69800529,
             "test": [
              0.9242603398,
              0.08350782613,
              0.470867707,
              0.5395415209
             ]
            },
            {
             "iteration": 230,
             "learn": [
              0.05660051867,
              0.6785260107,
              0.7080383598
             ],
             "passed_time": 262.2129618,
             "remaining_time": 21.56729989,
             "test": [
              0.9241374501,
              0.08356251388,
              0.4706127926,
              0.5391011456
             ]
            },
            {
             "iteration": 231,
             "learn": [
              0.05654992193,
              0.6787514971,
              0.7080644369
             ],
             "passed_time": 263.1964843,
             "remaining_time": 20.42041688,
             "test": [
              0.9241535257,
              0.08358011364,
              0.4710499906,
              0.5392005762
             ]
            },
            {
             "iteration": 232,
             "learn": [
              0.05653659427,
              0.6789875214,
              0.7082678571
             ],
             "passed_time": 264.1611193,
             "remaining_time": 19.27355806,
             "test": [
              0.9241898781,
              0.08356748898,
              0.4708676598,
              0.5392604363
             ]
            },
            {
             "iteration": 233,
             "learn": [
              0.05652765934,
              0.679241936,
              0.7083045163
             ],
             "passed_time": 265.1948459,
             "remaining_time": 18.13298092,
             "test": [
              0.9242006414,
              0.08355976848,
              0.4704970179,
              0.5392621738
             ]
            },
            {
             "iteration": 234,
             "learn": [
              0.05646590573,
              0.6793194685,
              0.7085185185
             ],
             "passed_time": 266.4379675,
             "remaining_time": 17.00667878,
             "test": [
              0.9241802442,
              0.08357948761,
              0.4707402401,
              0.5396440902
             ]
            },
            {
             "iteration": 235,
             "learn": [
              0.05643652887,
              0.679466714,
              0.7083492063
             ],
             "passed_time": 267.5849849,
             "remaining_time": 15.87368554,
             "test": [
              0.9241995875,
              0.08357836161,
              0.4704420521,
              0.5393667048
             ]
            },
            {
             "iteration": 236,
             "learn": [
              0.05640258902,
              0.6794684169,
              0.7084182729
             ],
             "passed_time": 268.6116384,
             "remaining_time": 14.73397173,
             "test": [
              0.9242485945,
              0.0835711396,
              0.4708337474,
              0.5392017532
             ]
            },
            {
             "iteration": 237,
             "learn": [
              0.05637436848,
              0.6798185338,
              0.7084846939
             ],
             "passed_time": 269.7463168,
             "remaining_time": 13.60065463,
             "test": [
              0.9242821226,
              0.08358989909,
              0.4704303747,
              0.5391568021
             ]
            },
            {
             "iteration": 238,
             "learn": [
              0.05636537502,
              0.679965718,
              0.7085144558
             ],
             "passed_time": 270.7822396,
             "remaining_time": 12.4627809,
             "test": [
              0.9243100164,
              0.08357514447,
              0.4704432273,
              0.5391960362
             ]
            },
            {
             "iteration": 239,
             "learn": [
              0.0563236827,
              0.6803675906,
              0.7085846561
             ],
             "passed_time": 271.8988882,
             "remaining_time": 11.32912034,
             "test": [
              0.9243468098,
              0.08355914358,
              0.470613961,
              0.5393609878
             ]
            },
            {
             "iteration": 240,
             "learn": [
              0.05625940947,
              0.6803368297,
              0.7092512283
             ],
             "passed_time": 273.1266379,
             "remaining_time": 10.19974996,
             "test": [
              0.9243604374,
              0.08358204789,
              0.4702021006,
              0.5394008385
             ]
            },
            {
             "iteration": 241,
             "learn": [
              0.05618088848,
              0.6808642613,
              0.7098329554
             ],
             "passed_time": 274.206861,
             "remaining_time": 9.064689619,
             "test": [
              0.9244122,
              0.08350754873,
              0.470570687,
              0.5402306407
             ]
            },
            {
             "iteration": 242,
             "learn": [
              0.05613566734,
              0.6808070663,
              0.7101378496
             ],
             "passed_time": 275.3756252,
             "remaining_time": 7.932631178,
             "test": [
              0.9243592852,
              0.083518606,
              0.4706724745,
              0.5399273608
             ]
            },
            {
             "iteration": 243,
             "learn": [
              0.05608357412,
              0.6816483825,
              0.710609127
             ],
             "passed_time": 276.7414174,
             "remaining_time": 6.805116822,
             "test": [
              0.9243400989,
              0.08353381905,
              0.4704688573,
              0.539677215
             ]
            },
            {
             "iteration": 244,
             "learn": [
              0.05604999785,
              0.6817691797,
              0.7106177249
             ],
             "passed_time": 277.8905078,
             "remaining_time": 5.671234854,
             "test": [
              0.9243365431,
              0.08352772021,
              0.4706093012,
              0.5397745157
             ]
            },
            {
             "iteration": 245,
             "learn": [
              0.05600498003,
              0.6824279453,
              0.7111095049
             ],
             "passed_time": 279.1204487,
             "remaining_time": 4.538543881,
             "test": [
              0.9243955497,
              0.08350136942,
              0.4710572889,
              0.5400357031
             ]
            },
            {
             "iteration": 246,
             "learn": [
              0.05594865465,
              0.6833082529,
              0.7113770786
             ],
             "passed_time": 280.1751655,
             "remaining_time": 3.402937232,
             "test": [
              0.9244268911,
              0.0834950007,
              0.4713933317,
              0.5400102569
             ]
            },
            {
             "iteration": 247,
             "learn": [
              0.05591212146,
              0.6835375835,
              0.711617158
             ],
             "passed_time": 281.2937757,
             "remaining_time": 2.268498191,
             "test": [
              0.9244497256,
              0.0834873346,
              0.4715007358,
              0.5399292104
             ]
            },
            {
             "iteration": 248,
             "learn": [
              0.05587775886,
              0.6840863513,
              0.7116164021
             ],
             "passed_time": 282.178524,
             "remaining_time": 1.133247084,
             "test": [
              0.9245270047,
              0.08343077669,
              0.4720622893,
              0.5407760515
             ]
            },
            {
             "iteration": 249,
             "learn": [
              0.05581328284,
              0.6841631895,
              0.7120627362
             ],
             "passed_time": 283.0930891,
             "remaining_time": 0,
             "test": [
              0.9245268572,
              0.08345124642,
              0.4718538108,
              0.540480226
             ]
            }
           ],
           "meta": {
            "iteration_count": 250,
            "launch_mode": "Train",
            "learn_metrics": [
             {
              "best_value": "Min",
              "name": "Logloss"
             },
             {
              "best_value": "Max",
              "name": "F1"
             },
             {
              "best_value": "Max",
              "name": "RecallAt:top=10"
             }
            ],
            "learn_sets": [
             "learn"
            ],
            "name": "experiment",
            "parameters": "",
            "test_metrics": [
             {
              "best_value": "Max",
              "name": "AUC"
             },
             {
              "best_value": "Min",
              "name": "Logloss"
             },
             {
              "best_value": "Max",
              "name": "F1"
             },
             {
              "best_value": "Max",
              "name": "RecallAt:top=10"
             }
            ],
            "test_sets": [
             "test"
            ]
           }
          },
          "passed_iterations": 249,
          "total_iterations": 250
         },
         "name": "catboost_info",
         "path": "catboost_info"
        }
       },
       "layout": "IPY_MODEL_a7a2ced89a274a53a55fc122b61b7c98"
      }
     }
    },
    "version_major": 2,
    "version_minor": 0
   }
  }
 },
 "nbformat": 4,
 "nbformat_minor": 5
}
